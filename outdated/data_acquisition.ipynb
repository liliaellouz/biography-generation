{
 "cells": [
  {
   "cell_type": "code",
   "execution_count": 1,
   "metadata": {},
   "outputs": [],
   "source": [
    "import wikipediaapi\n",
    "import pandas as pd\n",
    "import wikipedia\n",
    "wikipedia.set_lang('en') # setting wikipedia language\n",
    "# from nltk.tokenize import word_tokenize\n",
    "import sys\n",
    "from time import sleep\n",
    "import re\n",
    "import regex"
   ]
  },
  {
   "cell_type": "markdown",
   "metadata": {},
   "source": [
    "## Data acquisition"
   ]
  },
  {
   "cell_type": "code",
   "execution_count": 7,
   "metadata": {},
   "outputs": [],
   "source": [
    "def fetch_category_members(category_members, level=0, max_level=1):\n",
    "        \"\"\"\n",
    "        Function to take all articles in category (max_level controls the depth of articles taken from the subcategories)\n",
    "        Arguments:\n",
    "        category_members - a list of category members\n",
    "        level - the level at which to start getting articles\n",
    "        max_level - the maximal level for the fetched articles\n",
    "        Returns:\n",
    "        article_names - a list of the desired article names\n",
    "        \"\"\"\n",
    "        article_names = []\n",
    "        for c in category_members.values():\n",
    "            if c.ns == 0:\n",
    "                article_names.append(c) \n",
    "                #print(\"%s: %s (ns: %d)\" % (\"*\" * (level + 1), c.title, c.ns))\n",
    "            elif level < max_level and c.ns == wikipediaapi.Namespace.CATEGORY:\n",
    "                sub_list = []\n",
    "                sub_list = fetch_category_members(c.categorymembers, level=level + 1, max_level=max_level)\n",
    "                article_names = article_names + sub_list\n",
    "        return article_names"
   ]
  },
  {
   "cell_type": "code",
   "execution_count": 8,
   "metadata": {},
   "outputs": [],
   "source": [
    "def get_words(article_names):\n",
    "        \"\"\"\n",
    "        Function that tokenizes and returns all words in the given list of articles \n",
    "        Arguments:\n",
    "        article_names - list of articles\n",
    "        Returns:\n",
    "        words_df - the words in the articles in a dataframe\n",
    "        \"\"\"\n",
    "        len_time = len(article_names)*0.05\n",
    "        words_df = pd.DataFrame(columns=['biography'])\n",
    "        for i in range(len(article_names)):\n",
    "            try:\n",
    "                page = wikipedia.page(article_names[i].title)\n",
    "            except wikipedia.DisambiguationError as e:\n",
    "                s = e.options\n",
    "                s = list(filter(lambda x : x != \"\", s))\n",
    "                try :\n",
    "                    page = wikipedia.page(s)\n",
    "                except wikipedia.DisambiguationError as e:\n",
    "                    pass\n",
    "            except wikipedia.PageError:\n",
    "                pass\n",
    "#             words = word_tokenize(page.content)\n",
    "#             words = [elem.lower() for elem in words]\n",
    "#             words = [elem for elem in words if len(elem) > 1 and elem.isdigit() == False]\n",
    "#             words_wostop = [x for x in words if x not in stop_words]\n",
    "#             words = [elem.lower() for elem in words]\n",
    "            words_df.loc[i] = [page.content]\n",
    "            sys.stdout.write('\\r')\n",
    "            sys.stdout.write(\"[%-20s] %d%%\" % ('='*int((i+1)/len_time), int(5*(i+1)/len_time)))\n",
    "            sys.stdout.flush()\n",
    "            sleep(0.25)\n",
    "        return words_df"
   ]
  },
  {
   "cell_type": "code",
   "execution_count": 9,
   "metadata": {},
   "outputs": [],
   "source": [
    "wiki_wiki = wikipediaapi.Wikipedia('en') # getting articles in english\n",
    "# fetching the articles for categories of interest\n",
    "people_pages = wiki_wiki.page(\"Category:People from Venice\")\n",
    "people_articles = fetch_category_members(people_pages.categorymembers, level = 0, max_level = 7)"
   ]
  },
  {
   "cell_type": "code",
   "execution_count": 11,
   "metadata": {
    "scrolled": true
   },
   "outputs": [
    {
     "name": "stdout",
     "output_type": "stream",
     "text": [
      "[=                   ] 9%"
     ]
    },
    {
     "name": "stderr",
     "output_type": "stream",
     "text": [
      "C:\\Users\\lilia\\.conda\\envs\\ntds_2019\\lib\\site-packages\\wikipedia\\wikipedia.py:389: UserWarning: No parser was explicitly specified, so I'm using the best available HTML parser for this system (\"html.parser\"). This usually isn't a problem, but if you run this code on another system, or in a different virtual environment, it may use a different parser and behave differently.\n",
      "\n",
      "The code that caused this warning is on line 389 of the file C:\\Users\\lilia\\.conda\\envs\\ntds_2019\\lib\\site-packages\\wikipedia\\wikipedia.py. To get rid of this warning, pass the additional argument 'features=\"html.parser\"' to the BeautifulSoup constructor.\n",
      "\n",
      "  lis = BeautifulSoup(html).find_all('li')\n"
     ]
    },
    {
     "name": "stdout",
     "output_type": "stream",
     "text": [
      "[====================] 100%"
     ]
    }
   ],
   "source": [
    "venetian_biographies = get_words(people_articles)"
   ]
  },
  {
   "cell_type": "code",
   "execution_count": 12,
   "metadata": {},
   "outputs": [],
   "source": [
    "venetian_biographies = venetian_biographies.drop_duplicates().reset_index(drop=True)"
   ]
  },
  {
   "cell_type": "code",
   "execution_count": 13,
   "metadata": {},
   "outputs": [],
   "source": [
    "venetian_biographies.to_csv('venetian_bios_full.csv', index=False) "
   ]
  },
  {
   "cell_type": "code",
   "execution_count": 116,
   "metadata": {},
   "outputs": [
    {
     "data": {
      "text/plain": [
       "'Matteo Ponzone (17th century) was an Italian painter of the Baroque period, active between 1630 and 1700 mainly in Venice. He was a pupil of Santo Peranda.\\nSeveral of his works are in the churches and public buildings of Venice, particularly in San Giorgio Maggiore, and in the church of the \"Padri Croceferi\".\\n\\n\\n== Life ==\\n\\nAccording to several sources, Ponzone was born in Venice, identified as «Mathi et Simon fiol de noble Patron Claudio Bolzon et Agnesina Negro equal in Madonna» born in the parish of Saint Moses November 9, 1583. Some other sources reported his date of birth approximately in 1586 in Rab, in the far north of Dalmatia, that time owned by Republic of Venice.\\nMatteo Ponzone operated mainly in Venice, unless an interim period of ten years spent in Dalmatia, leaving their works in various locations of the coast.Ponzone was young student of Jacopo Palma the Younger, and was related to the painter Sante Peranda, who was probably one of his teachers and whose influence is evident in the work of Ponzone. He joined the Fraglia dei Pittori of Venice from 1613 to 1633, being one of the busiest in town throughout this period. In his workshop he had as pupils Antonio Zanchi, Andrea Celesti, Pietro Negri, and Giovanni Carboncino, who assist him in various paintings orders of the last Venetian period.\\nThe large amount of work left in situ adequately define the importance for the history of Venetian painting of the first \\'600, although the significance was detected only in recent years. Similarly, the caliber of orders received -those of particular importance include works in the churches of San Giorgio Maggiore, Madonna dell\\'Orto, and San Cassiano - account for the great success and wide contribution  of Ponzone to Venetian artistic history.\\n\\n\\n== Major works ==\\n\\n\\n=== In Venice ===\\n\\nChurch of Madonna dell\\'Orto (Our Lady of the Garden): a series of portraits of saints, theSt George slaying the dragon with Saints Jerome and Tryphon, the Flagellation of Jesus.\\nSan Giorgio Maggiore; St George slaying the dragon\\nSan Cassiano: Christ on the cross and four Saints\\nChurch of San Martino: St John writing the Apocalypse. Considered one of his masterpieces, is clearly inspired by Tintoretto.\\n\\n\\n=== In other regions of the Republic of Venice ===\\nAdoration of the Magi and Annunciation, today in the museum of Treviso.\\nA series of paintings for the Basilica of Saint Anthony of Padua.\\nA series of paintings now in the museum of Cividale.\\nSanta Barbara at the Cathedral of Koper (Capodistria).\\nStories of the Eucharist (eight paintings), Saints Jerome, Francis and Catherine, in the Cathedral of Split. Il Ciclo di San Doimo in the same cathedral. The work was begun in 1639 by Ponzone but not completed.\\nPortrait of San Lorenzo Giustiniani also in Split.\\nAttributed to Ponzone are twenty paintings in the ceiling of the church of San Francesco Šibenik, as well as other paintings of saints.\\nThe Last Supperin the refectory of the Franciscan convent of Hvar.\\n\\n\\n== Notes ==\\n\\n\\n== Bibliography ==\\nKruno Prijateli, Le opere di Matteo Ponzone in Dalmazia, in Arte Veneta, XX, 1966, pp. 153–154.\\nLuciano Rota, Matteo e Sforza Ponzone, in Francesco Semi-Vanni Tacconi (cur.), Istria e Dalmazia, Uomini e Tempi. Dalmazia, Del Bianco, Udine 1992\\nBryan, Michael (1889).  Walter Armstrong & Robert Edmund Graves (ed.). Dictionary of Painters and Engravers, Biographical and Critical (Volume II L-Z). York St. #4, Covent Garden, London; Original from Fogg Library, Digitized May 18, 2007: George Bell and Sons. p. 309.CS1 maint: location (link)'"
      ]
     },
     "execution_count": 116,
     "metadata": {},
     "output_type": "execute_result"
    }
   ],
   "source": [
    "pd.read_csv('venetian_bios_full.csv')['biography'][394]"
   ]
  },
  {
   "cell_type": "markdown",
   "metadata": {},
   "source": [
    "## Cleaning"
   ]
  },
  {
   "cell_type": "code",
   "execution_count": 44,
   "metadata": {},
   "outputs": [],
   "source": [
    "venetian_biographies = venetian_biographies.drop_duplicates().reset_index(drop=True)"
   ]
  },
  {
   "cell_type": "markdown",
   "metadata": {},
   "source": [
    "Remove anything after References|Sources|Notes|External links|Works (anything containing works)|Further readings|Gallery|Exhibitions\n",
    "\n",
    "bibliography 394 is a good example: it contains 'Major Works'"
   ]
  },
  {
   "cell_type": "code",
   "execution_count": 133,
   "metadata": {},
   "outputs": [],
   "source": [
    "venetian_biographies.biography = venetian_biographies.biography.apply(lambda x: re.split(r\"=+ (References|Sources|Notes|External links|Works|Further readings|Gallery|Exhibitions|\\w+ works.*?) =+\", x)[0])"
   ]
  },
  {
   "cell_type": "code",
   "execution_count": 138,
   "metadata": {},
   "outputs": [],
   "source": [
    "# Remove anything between equal signs like \"== Overview ==\"\n",
    "# Remove anything between <> signs\n",
    "venetian_biographies = venetian_biographies.biography.str.replace(\"<(.*?)>|=+ (.*?) =+\",\"\").to_frame()"
   ]
  },
  {
   "cell_type": "markdown",
   "metadata": {},
   "source": [
    "Dates: Remove anything containing 1900+"
   ]
  },
  {
   "cell_type": "code",
   "execution_count": 155,
   "metadata": {},
   "outputs": [],
   "source": [
    "venetian_biographies_old_dates = venetian_biographies[~venetian_biographies.biography.str.contains(r\"[1-2][9][0-9][0-9]|[2][0-9]{3}\")]"
   ]
  },
  {
   "cell_type": "code",
   "execution_count": 51,
   "metadata": {},
   "outputs": [],
   "source": [
    "# compression_opts = dict(method='zip',\n",
    "#                         archive_name='venetian_bios.csv')  \n",
    "# venetian_biographies.to_csv('venetian_bios.csv', index=False) "
   ]
  },
  {
   "cell_type": "code",
   "execution_count": 272,
   "metadata": {},
   "outputs": [],
   "source": [
    "# venetian_biographies = pd.read_csv('venetian_bios.csv')"
   ]
  },
  {
   "cell_type": "code",
   "execution_count": 156,
   "metadata": {},
   "outputs": [],
   "source": [
    "def insert_sep(s):\n",
    "    s = regex.sub(r'[^(\\p{Common}|\\p{Latin})]', u'', s)\n",
    "    s = s+\"end.\"\n",
    "    s = s.replace(\"\\n\",\" \")\n",
    "    i = s.index(re.findall(r\"\\w{2,}?\\.(?!(?:[^(]*\\([^)]*\\))*[^()]*\\))\", s)[0])\n",
    "    return s[:i] + s[i:-4].replace(\" \", \" [SEP] \", 1)"
   ]
  },
  {
   "cell_type": "code",
   "execution_count": 157,
   "metadata": {},
   "outputs": [],
   "source": [
    "venetian_biographies = venetian_biographies.biography.apply(insert_sep)"
   ]
  },
  {
   "cell_type": "code",
   "execution_count": 158,
   "metadata": {},
   "outputs": [],
   "source": [
    "venetian_biographies_old_dates = venetian_biographies_old_dates.biography.apply(insert_sep)"
   ]
  },
  {
   "cell_type": "code",
   "execution_count": 280,
   "metadata": {
    "scrolled": true
   },
   "outputs": [
    {
     "name": "stderr",
     "output_type": "stream",
     "text": [
      "C:\\Users\\lilia\\.conda\\envs\\ntds_2019\\lib\\site-packages\\ipykernel_launcher.py:1: FutureWarning: The signature of `Series.to_csv` was aligned to that of `DataFrame.to_csv`, and argument 'header' will change its default value from False to True: please pass an explicit value to suppress this warning.\n",
      "  \"\"\"Entry point for launching an IPython kernel.\n"
     ]
    }
   ],
   "source": [
    "# df.to_csv('venetian_bios_2.csv', index=False) "
   ]
  },
  {
   "cell_type": "code",
   "execution_count": 165,
   "metadata": {
    "scrolled": true
   },
   "outputs": [],
   "source": [
    "venetian_biographies.to_frame().to_csv('bios_all_dates.csv', index=False) "
   ]
  },
  {
   "cell_type": "code",
   "execution_count": 166,
   "metadata": {},
   "outputs": [],
   "source": [
    "venetian_biographies_old_dates.to_frame().to_csv('bios_old_dates.csv', index=False) "
   ]
  },
  {
   "cell_type": "code",
   "execution_count": 3,
   "metadata": {},
   "outputs": [
    {
     "data": {
      "text/html": [
       "<div>\n",
       "<style scoped>\n",
       "    .dataframe tbody tr th:only-of-type {\n",
       "        vertical-align: middle;\n",
       "    }\n",
       "\n",
       "    .dataframe tbody tr th {\n",
       "        vertical-align: top;\n",
       "    }\n",
       "\n",
       "    .dataframe thead th {\n",
       "        text-align: right;\n",
       "    }\n",
       "</style>\n",
       "<table border=\"1\" class=\"dataframe\">\n",
       "  <thead>\n",
       "    <tr style=\"text-align: right;\">\n",
       "      <th></th>\n",
       "      <th>biography</th>\n",
       "    </tr>\n",
       "  </thead>\n",
       "  <tbody>\n",
       "    <tr>\n",
       "      <td>0</td>\n",
       "      <td>Rabbi Samuel ben Abraham Aboab (Hebrew:     ; ...</td>\n",
       "    </tr>\n",
       "    <tr>\n",
       "      <td>1</td>\n",
       "      <td>Giovanni Battista Agnello (fl. 1560–1577) was ...</td>\n",
       "    </tr>\n",
       "    <tr>\n",
       "      <td>2</td>\n",
       "      <td>Domenico Alberti (c. 1710 – 14 October 1740 or...</td>\n",
       "    </tr>\n",
       "    <tr>\n",
       "      <td>3</td>\n",
       "      <td>Pietro Cesare Alberti (1608–1655) — later Pete...</td>\n",
       "    </tr>\n",
       "    <tr>\n",
       "      <td>4</td>\n",
       "      <td>Tomaso Giovanni Albinoni (8 June 1671 – 17 Jan...</td>\n",
       "    </tr>\n",
       "    <tr>\n",
       "      <td>...</td>\n",
       "      <td>...</td>\n",
       "    </tr>\n",
       "    <tr>\n",
       "      <td>1159</td>\n",
       "      <td>Manon Balletti (1740–1776) was the daughter of...</td>\n",
       "    </tr>\n",
       "    <tr>\n",
       "      <td>1160</td>\n",
       "      <td>Gaetano Casanova (2 April 1697, Parma – 18 Dec...</td>\n",
       "    </tr>\n",
       "    <tr>\n",
       "      <td>1161</td>\n",
       "      <td>Lochac, Locach or Locat is a country far south...</td>\n",
       "    </tr>\n",
       "    <tr>\n",
       "      <td>1162</td>\n",
       "      <td>Marco Polo is a lunar impact crater that is lo...</td>\n",
       "    </tr>\n",
       "    <tr>\n",
       "      <td>1163</td>\n",
       "      <td>Rustichello da Pisa, also known as Rusticiano ...</td>\n",
       "    </tr>\n",
       "  </tbody>\n",
       "</table>\n",
       "<p>1164 rows × 1 columns</p>\n",
       "</div>"
      ],
      "text/plain": [
       "                                              biography\n",
       "0     Rabbi Samuel ben Abraham Aboab (Hebrew:     ; ...\n",
       "1     Giovanni Battista Agnello (fl. 1560–1577) was ...\n",
       "2     Domenico Alberti (c. 1710 – 14 October 1740 or...\n",
       "3     Pietro Cesare Alberti (1608–1655) — later Pete...\n",
       "4     Tomaso Giovanni Albinoni (8 June 1671 – 17 Jan...\n",
       "...                                                 ...\n",
       "1159  Manon Balletti (1740–1776) was the daughter of...\n",
       "1160  Gaetano Casanova (2 April 1697, Parma – 18 Dec...\n",
       "1161  Lochac, Locach or Locat is a country far south...\n",
       "1162  Marco Polo is a lunar impact crater that is lo...\n",
       "1163  Rustichello da Pisa, also known as Rusticiano ...\n",
       "\n",
       "[1164 rows x 1 columns]"
      ]
     },
     "execution_count": 3,
     "metadata": {},
     "output_type": "execute_result"
    }
   ],
   "source": [
    "pd.read_csv('bios_old_dates.csv')"
   ]
  }
 ],
 "metadata": {
  "kernelspec": {
   "display_name": "Python 3",
   "language": "python",
   "name": "python3"
  },
  "language_info": {
   "codemirror_mode": {
    "name": "ipython",
    "version": 3
   },
   "file_extension": ".py",
   "mimetype": "text/x-python",
   "name": "python",
   "nbconvert_exporter": "python",
   "pygments_lexer": "ipython3",
   "version": "3.7.1"
  }
 },
 "nbformat": 4,
 "nbformat_minor": 2
}
