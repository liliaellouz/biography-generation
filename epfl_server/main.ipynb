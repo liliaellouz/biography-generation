{
 "cells": [
  {
   "cell_type": "code",
   "execution_count": 1,
   "metadata": {
    "colab": {
     "base_uri": "https://localhost:8080/"
    },
    "id": "KBkpRgBCBS2_",
    "outputId": "250082fa-665b-471c-e7f2-02bcf26c4ef8",
    "scrolled": true
   },
   "outputs": [
    {
     "name": "stderr",
     "output_type": "stream",
     "text": [
      "/dhlabdata4/bborges/.conda/envs/bertp2/lib/python3.6/site-packages/tensorflow/python/framework/dtypes.py:516: FutureWarning: Passing (type, 1) or '1type' as a synonym of type is deprecated; in a future version of numpy, it will be understood as (type, (1,)) / '(1,)type'.\n",
      "  _np_qint8 = np.dtype([(\"qint8\", np.int8, 1)])\n",
      "/dhlabdata4/bborges/.conda/envs/bertp2/lib/python3.6/site-packages/tensorflow/python/framework/dtypes.py:517: FutureWarning: Passing (type, 1) or '1type' as a synonym of type is deprecated; in a future version of numpy, it will be understood as (type, (1,)) / '(1,)type'.\n",
      "  _np_quint8 = np.dtype([(\"quint8\", np.uint8, 1)])\n",
      "/dhlabdata4/bborges/.conda/envs/bertp2/lib/python3.6/site-packages/tensorflow/python/framework/dtypes.py:518: FutureWarning: Passing (type, 1) or '1type' as a synonym of type is deprecated; in a future version of numpy, it will be understood as (type, (1,)) / '(1,)type'.\n",
      "  _np_qint16 = np.dtype([(\"qint16\", np.int16, 1)])\n",
      "/dhlabdata4/bborges/.conda/envs/bertp2/lib/python3.6/site-packages/tensorflow/python/framework/dtypes.py:519: FutureWarning: Passing (type, 1) or '1type' as a synonym of type is deprecated; in a future version of numpy, it will be understood as (type, (1,)) / '(1,)type'.\n",
      "  _np_quint16 = np.dtype([(\"quint16\", np.uint16, 1)])\n",
      "/dhlabdata4/bborges/.conda/envs/bertp2/lib/python3.6/site-packages/tensorflow/python/framework/dtypes.py:520: FutureWarning: Passing (type, 1) or '1type' as a synonym of type is deprecated; in a future version of numpy, it will be understood as (type, (1,)) / '(1,)type'.\n",
      "  _np_qint32 = np.dtype([(\"qint32\", np.int32, 1)])\n",
      "/dhlabdata4/bborges/.conda/envs/bertp2/lib/python3.6/site-packages/tensorflow/python/framework/dtypes.py:525: FutureWarning: Passing (type, 1) or '1type' as a synonym of type is deprecated; in a future version of numpy, it will be understood as (type, (1,)) / '(1,)type'.\n",
      "  np_resource = np.dtype([(\"resource\", np.ubyte, 1)])\n",
      "/dhlabdata4/bborges/.conda/envs/bertp2/lib/python3.6/site-packages/tensorboard/compat/tensorflow_stub/dtypes.py:541: FutureWarning: Passing (type, 1) or '1type' as a synonym of type is deprecated; in a future version of numpy, it will be understood as (type, (1,)) / '(1,)type'.\n",
      "  _np_qint8 = np.dtype([(\"qint8\", np.int8, 1)])\n",
      "/dhlabdata4/bborges/.conda/envs/bertp2/lib/python3.6/site-packages/tensorboard/compat/tensorflow_stub/dtypes.py:542: FutureWarning: Passing (type, 1) or '1type' as a synonym of type is deprecated; in a future version of numpy, it will be understood as (type, (1,)) / '(1,)type'.\n",
      "  _np_quint8 = np.dtype([(\"quint8\", np.uint8, 1)])\n",
      "/dhlabdata4/bborges/.conda/envs/bertp2/lib/python3.6/site-packages/tensorboard/compat/tensorflow_stub/dtypes.py:543: FutureWarning: Passing (type, 1) or '1type' as a synonym of type is deprecated; in a future version of numpy, it will be understood as (type, (1,)) / '(1,)type'.\n",
      "  _np_qint16 = np.dtype([(\"qint16\", np.int16, 1)])\n",
      "/dhlabdata4/bborges/.conda/envs/bertp2/lib/python3.6/site-packages/tensorboard/compat/tensorflow_stub/dtypes.py:544: FutureWarning: Passing (type, 1) or '1type' as a synonym of type is deprecated; in a future version of numpy, it will be understood as (type, (1,)) / '(1,)type'.\n",
      "  _np_quint16 = np.dtype([(\"quint16\", np.uint16, 1)])\n",
      "/dhlabdata4/bborges/.conda/envs/bertp2/lib/python3.6/site-packages/tensorboard/compat/tensorflow_stub/dtypes.py:545: FutureWarning: Passing (type, 1) or '1type' as a synonym of type is deprecated; in a future version of numpy, it will be understood as (type, (1,)) / '(1,)type'.\n",
      "  _np_qint32 = np.dtype([(\"qint32\", np.int32, 1)])\n",
      "/dhlabdata4/bborges/.conda/envs/bertp2/lib/python3.6/site-packages/tensorboard/compat/tensorflow_stub/dtypes.py:550: FutureWarning: Passing (type, 1) or '1type' as a synonym of type is deprecated; in a future version of numpy, it will be understood as (type, (1,)) / '(1,)type'.\n",
      "  np_resource = np.dtype([(\"resource\", np.ubyte, 1)])\n"
     ]
    },
    {
     "name": "stdout",
     "output_type": "stream",
     "text": [
      "WARNING:tensorflow:From /dhlabdata4/bborges/.conda/envs/bertp2/lib/python3.6/site-packages/bert/optimization.py:87: The name tf.train.Optimizer is deprecated. Please use tf.compat.v1.train.Optimizer instead.\n",
      "\n"
     ]
    }
   ],
   "source": [
    "# %tensorflow_version 1.x\n",
    "# !pip install -q gpt-2-simple\n",
    "import gpt_2_simple as gpt2\n",
    "from datetime import datetime\n",
    "# from google.colab import files\n",
    "import tensorflow as tf\n",
    "import tensorflow_hub as hub\n",
    "\n",
    "# import shutil\n",
    "\n",
    "from sklearn.model_selection import train_test_split\n",
    "import pandas as pd\n",
    "import numpy as np\n",
    "\n",
    "import bert\n",
    "from bert import run_classifier\n",
    "from bert import optimization\n",
    "from bert import tokenization\n",
    "\n",
    "tf.logging.set_verbosity(tf.logging.ERROR)"
   ]
  },
  {
   "cell_type": "code",
   "execution_count": 2,
   "metadata": {
    "colab": {
     "base_uri": "https://localhost:8080/"
    },
    "id": "rHnT-KL2Syre",
    "outputId": "53f5468a-eee3-49e3-8b92-843f126bac11"
   },
   "outputs": [
    {
     "data": {
      "text/plain": [
       "131072"
      ]
     },
     "execution_count": 2,
     "metadata": {},
     "output_type": "execute_result"
    }
   ],
   "source": [
    "import csv\n",
    "import sys\n",
    "csv.field_size_limit(100000000)"
   ]
  },
  {
   "cell_type": "code",
   "execution_count": 3,
   "metadata": {
    "id": "yXXBzIHhmdJs"
   },
   "outputs": [],
   "source": [
    "#@markdown Whether or not to finetune GPT-2\n",
    "FINETUNE_GPT2 = False #@param {type:\"boolean\"}"
   ]
  },
  {
   "cell_type": "code",
   "execution_count": 3,
   "metadata": {},
   "outputs": [
    {
     "name": "stdout",
     "output_type": "stream",
     "text": [
      "[name: \"/device:CPU:0\"\n",
      "device_type: \"CPU\"\n",
      "memory_limit: 268435456\n",
      "locality {\n",
      "}\n",
      "incarnation: 6181889679292703173\n",
      ", name: \"/device:XLA_CPU:0\"\n",
      "device_type: \"XLA_CPU\"\n",
      "memory_limit: 17179869184\n",
      "locality {\n",
      "}\n",
      "incarnation: 16176760870079880775\n",
      "physical_device_desc: \"device: XLA_CPU device\"\n",
      "]\n"
     ]
    }
   ],
   "source": [
    "from tensorflow.python.client import device_lib \n",
    "print(device_lib.list_local_devices())"
   ]
  },
  {
   "cell_type": "code",
   "execution_count": null,
   "metadata": {},
   "outputs": [],
   "source": []
  },
  {
   "cell_type": "code",
   "execution_count": null,
   "metadata": {},
   "outputs": [],
   "source": []
  },
  {
   "cell_type": "code",
   "execution_count": null,
   "metadata": {},
   "outputs": [],
   "source": []
  },
  {
   "cell_type": "code",
   "execution_count": 2,
   "metadata": {
    "colab": {
     "base_uri": "https://localhost:8080/"
    },
    "id": "NnELKcfRLN56",
    "outputId": "e823fe3b-a271-4db4-d9d1-9ff1f78a9c7e"
   },
   "outputs": [
    {
     "name": "stdout",
     "output_type": "stream",
     "text": [
      "Mounted at /content/drive\n"
     ]
    }
   ],
   "source": [
    "# from google.colab import drive\n",
    "# drive.mount('/content/drive', force_remount=True)"
   ]
  },
  {
   "cell_type": "code",
   "execution_count": 5,
   "metadata": {
    "colab": {
     "base_uri": "https://localhost:8080/"
    },
    "id": "P8wSlgXoDPCR",
    "outputId": "f4263df5-f281-4a60-ccde-fc218eb9da2a"
   },
   "outputs": [
    {
     "name": "stderr",
     "output_type": "stream",
     "text": [
      "Fetching checkpoint: 1.05Mit [00:00, 505Mit/s]                                                      \n",
      "Fetching encoder.json: 1.05Mit [00:00, 104Mit/s]                                                    \n",
      "Fetching hparams.json: 1.05Mit [00:00, 737Mit/s]                                                    \n",
      "Fetching model.ckpt.data-00000-of-00001: 1.42Git [00:05, 247Mit/s]                                  \n",
      "Fetching model.ckpt.index: 1.05Mit [00:00, 269Mit/s]                                                \n",
      "Fetching model.ckpt.meta: 1.05Mit [00:00, 85.4Mit/s]                                                \n",
      "Fetching vocab.bpe: 1.05Mit [00:00, 109Mit/s]                                                       \n"
     ]
    }
   ],
   "source": [
    "if FINETUNE_GPT2:\n",
    "    gpt2.download_gpt2(model_name=\"355M\")"
   ]
  },
  {
   "cell_type": "code",
   "execution_count": 6,
   "metadata": {
    "colab": {
     "base_uri": "https://localhost:8080/"
    },
    "id": "ZytPeBEi5lxw",
    "outputId": "725e3a7f-052e-4c7f-ba9c-c8bf6c3f8e45"
   },
   "outputs": [
    {
     "name": "stdout",
     "output_type": "stream",
     "text": [
      "WARNING:tensorflow:From /usr/local/lib/python3.6/dist-packages/gpt_2_simple/src/sample.py:17: where (from tensorflow.python.ops.array_ops) is deprecated and will be removed in a future version.\n",
      "Instructions for updating:\n",
      "Use tf.where in 2.0, which has the same broadcast rule as np.where\n",
      "WARNING:tensorflow:From /usr/local/lib/python3.6/dist-packages/gpt_2_simple/src/memory_saving_gradients.py:62: get_backward_walk_ops (from tensorflow.contrib.graph_editor.select) is deprecated and will be removed after 2019-06-06.\n",
      "Instructions for updating:\n",
      "Please use tensorflow.python.ops.op_selector.get_backward_walk_ops.\n",
      "Loading checkpoint models/355M/model.ckpt\n",
      "INFO:tensorflow:Restoring parameters from models/355M/model.ckpt\n"
     ]
    },
    {
     "name": "stderr",
     "output_type": "stream",
     "text": [
      "100%|██████████| 1/1 [00:00<00:00, 22.10it/s]"
     ]
    },
    {
     "name": "stdout",
     "output_type": "stream",
     "text": [
      "Loading dataset...\n"
     ]
    },
    {
     "name": "stderr",
     "output_type": "stream",
     "text": [
      "\n"
     ]
    },
    {
     "name": "stdout",
     "output_type": "stream",
     "text": [
      "dataset has 566149 tokens\n",
      "Training...\n",
      "[10 | 23.88] loss=3.27 avg=3.27\n",
      "[20 | 38.97] loss=3.14 avg=3.21\n",
      "[30 | 54.29] loss=2.86 avg=3.09\n",
      "[40 | 69.82] loss=2.88 avg=3.04\n",
      "[50 | 85.62] loss=2.89 avg=3.01\n",
      "[60 | 101.59] loss=3.04 avg=3.01\n",
      "[70 | 117.75] loss=3.17 avg=3.04\n",
      "[80 | 133.91] loss=2.38 avg=2.95\n",
      "[90 | 149.92] loss=3.30 avg=2.99\n",
      "[100 | 165.89] loss=2.78 avg=2.97\n",
      "[110 | 181.93] loss=2.66 avg=2.94\n",
      "[120 | 198.01] loss=2.91 avg=2.94\n",
      "[130 | 214.08] loss=3.22 avg=2.96\n",
      "[140 | 230.13] loss=3.46 avg=3.00\n",
      "[150 | 246.19] loss=2.75 avg=2.98\n",
      "[160 | 262.24] loss=2.62 avg=2.96\n",
      "[170 | 278.27] loss=2.70 avg=2.94\n",
      "[180 | 294.32] loss=2.98 avg=2.94\n",
      "[190 | 310.35] loss=2.96 avg=2.94\n",
      "[200 | 326.37] loss=2.65 avg=2.93\n",
      "======== SAMPLE 1 ========\n",
      " of God. After the death of Philip II in 1516, he and his brother Philip I, Prince of Austria, united the royal domains of Croatia, Montenegro and Serbia into one, following a long and painful struggle. Their victory over the Ottoman sultan, Mehmed II Mustafa, was a watershed event in the history of the Balkans, and had the effect of separating the Serbian people from Constantinople.  Both their husbands are mentioned on Ottoman records of 1516.  His marriage with the daughter of another Serbian noble was the subject of a conflict in 1517, when the Ottoman general Omar, the man who succeeded Mehmed II, was forced to declare him to be an illegitimate heir.    The Ottoman rule of Serbia extended northwards from the Vlachos in the south, as far, perhaps, as the Danube valley in the west. It was originally intended as a defense against the Ottomans. However, the great Balkan power-switching crisis of 1523-1524 meant that the Ottoman state was unable to maintain the lines of the Balkan Peninsula (the Caspian Chain) that stretched from the Balkans to the Adriatic.  This forced a complete abandonment of that defense. The Ottomans quickly realised their mistake and started building defensive fortifications on the Turkish frontier. This, too, soon led to Balkan war and the establishment of Ottoman territories there. As a result, the Ottoman-controlled area of Montenegro expanded. They could build fortifications, but then only in accordance with the condition of the population, not that of the soil.  In 1523-1524, when the Balkans rose, they built only three fortifications in the Adriatic, of which Montenegro is noted as the last.     Montenegro was the largest of those remaining and only separated from the Empire of Greece by a small island. Although he had no formal connection with any Greek monarchy, he had an impressive commercial base and an extensive merchant fleet. The Greeks refused him their protection and their naval blockade was finally broken in 1524, though not until 1526 when he managed to get over the blockade by sending to their court ambassadors. During that time he also built up his reputation in the Venetian court, and, in return, was treated as the vassal of Greece. He served for the next 40 years as a ducal councillor, but he was not only a vassal, but he even became the court chaplain.  Although he was an excellent soldier, and had already been in the service of the Turks since he completed the siege of Ljubavi in 1518, he also became the only general in the Venetian army capable of successfully defending Montenegro, Serbia and the Byzantine Empire from the Ottoman Empire. He is also mentioned on the list of 14 Venetian officers appointed by Nicholas II for the protection of Montenegro, and is a subject of an Ottoman document on the same occasion.His successor as the ducal councillor was an important element of the Venetian power balance and he did not hesitate to ally Montenegro into the Ottoman Empire.  He used Montenegro extensively and supplied it with valuable military equipment. By the time he died in 1523, Montenegro was being supplied with a very large number of Ottoman ships. He died on 3 March 1564, aged 86, and was interred in the Basilica of San Giorgio San Marco (San Giorgio San Marco) in Venice. There is a chapel in his tomb with a statue of him and a plaque on which he is inscribed \"Amoro, a Virtuous Knight. Vices and Perishes for Us.\" He married the daughter of Gen. Enrico I Maffei, lord of Montenegro, in 1526. His son was also named Morosina Lukić - but they were both raised in Venice.  A memorial on his tomb in Venice still bears the inscription \"The Virgin and her Son. Our Adjacent.\" The same monument to his son is to be seen in Montenegro today, now owned by the city that served him well in his time. Some of the buildings which date from his reign include the Basilica of San Giovanni dalle Carceri (the Basilica of Saint Angelo), the Basilica of San Giacomo Maruo, the Basilica of Santi Maria dei Veronese in Montenegro, the Basilica of the Orate of San Michele, the Basilica of San Giovanni dalle Mocenone, the Basilica of San Raffaele in Montenegro, a Cathedral of San Marco, and the Venetian basilica.   <|endoftext|>\n",
      "<|startoftext|>Johann Wolfgang von der Vringa (1609–1698) was a prominent Austrian composer, lyricist and teacher. )  Johann Wolfgang von der Vringa was born in Vienna, which he acquired by marriage to the Duchess Maria d'E\n",
      "\n",
      "[210 | 366.78] loss=3.12 avg=2.94\n",
      "[220 | 382.94] loss=2.82 avg=2.93\n",
      "[230 | 399.11] loss=2.35 avg=2.90\n",
      "[240 | 415.31] loss=2.93 avg=2.90\n",
      "[250 | 431.50] loss=3.11 avg=2.91\n",
      "[260 | 447.71] loss=2.37 avg=2.89\n",
      "[270 | 463.85] loss=2.55 avg=2.88\n",
      "[280 | 480.02] loss=3.23 avg=2.89\n",
      "[290 | 496.15] loss=2.34 avg=2.87\n",
      "[300 | 512.34] loss=2.54 avg=2.86\n",
      "[310 | 528.51] loss=2.64 avg=2.85\n",
      "[320 | 544.65] loss=2.71 avg=2.84\n",
      "[330 | 560.80] loss=2.41 avg=2.83\n",
      "[340 | 576.93] loss=3.16 avg=2.84\n",
      "[350 | 593.06] loss=2.94 avg=2.84\n",
      "[360 | 609.19] loss=2.74 avg=2.84\n",
      "[370 | 625.29] loss=2.32 avg=2.82\n",
      "[380 | 641.42] loss=2.63 avg=2.82\n",
      "[390 | 657.51] loss=2.17 avg=2.80\n",
      "[400 | 673.66] loss=2.88 avg=2.80\n",
      "======== SAMPLE 1 ========\n",
      "   (1864–1909), he made his way to France, where he served as a diplomat, and to Germany. In Germany, he found work as captain of the krai of the German Army of 1847 and 1847–1849 (Kulturkammer, Wien der Krieg und Landruppe). During 1857, he also participated in the trial of Prince Wilhelm of Austria over the War of the Spanish Succession in Flanders, Germany (Himmler-Krummenig, Haut des Princes). Among other works he painted an allegorical portrait (in the Museo del Prado), a religious work, to support the exhibition catalogue of a German collector's group at Dresden in 1858. He also participated in the exhibitions at Rome (the most important for the art world) the following year (1859). Here he is known to have painted paintings, including works for wall and ceiling, for ceilings of the Louvre's Palazzo della Giuseppe.  He painted religious and religious subjects for decoration of three churches in his country. He painted portraits for the churches of his country and the ceiling of the church of San Giovanni e Paolo, Italy (Bauch, Berlin, 1875).  He painted frescoes of the frescoes of churches and paintings and drawings of churches. The chapel of the parish church of St. Mark, Venice (Roma) was a project of his, and he painted ceiling frescoes of the ceiling of the Chapel of the Mass in the church  of the parish that he painted for the chapel in the church of San Lorenzo in Venice. Among other works, he painted the ceiling of the chapel of the church of San Rufina in Perugia, Italy (Perugini, Corfu, 1874) and a ceiling fresco in the chapel of the church of the Narnia Basilica of Ponte in Venice and a ceiling fresco of St. Mark, Venice (Milan, 14th cent) (in the Museo del Prado) He also painted   ceiling of the church of San Lorenzo in Venice  in 1793 and in several other installations.    He painted for the cathedral ceiling of San Giovanni e Paolo, Italy. He painted for churches and  for the grandiose ceiling frescoes of the cathedral ceiling of Cologne Cathedral in Germany, dated to 1516. He painted for the ceiling of St. Mark's in Florence:   He painted for mosaics in the ceiling of St. Mark's, Italy in 1792;  and another ceiling fresco for ceiling of the Altarpiece of St. Mark in Germany in 1830. He painted a ceiling fresco in the ceiling of the church of the Venera in Venice.In 1793 he painted a ceiling fresco of the chapel of St. Mark's in Florence during the Papal Conclave of that city, for the Altarpiece of St. Mark, depicting Christ the Saviour. He painted three rooms of stained glass in Dresden (L'Italia di San Giovanni e Paolo at Rome), the highest art gallery in Germany.He painted a fresco ceiling of the church of the Nun on a high altarpiece ceiling in Munich in 1794 and for more of this ceiling ceiling ceiling, now in the church of the Madonna in Rome.  Another portrait of Christ is attributed to him by the Spanish artist Diego Foscarini. He painted the ceiling at the church of the Madonna of the Rosary in Florence, Italy, in 1794. His ceiling frescoes of  the church of the Madonna in Rome  with the Altarpiece of St. Mark at the Vatican in 1811 and in the church of San Francesco in Rome, and a floor fresco ceiling fresco, painted in 1812, is also said to be by him. His ceiling frescoes were on a ceiling ceiling of the church of Santa Maria in Padua, Italy, in 1811.  He painted the ceiling of the church of Santa Maria at the Prado in 1813 (painting originally in Dresden) as well as at Rome in 1815 (painting later) and for more of this ceiling ceiling ceiling, today in the chapel of Santa Maria at Rome, and in the chapel of Santa Maria del Santo in Venice (1816) and the ceiling of Santa Maria in Ferrara, Rome, a few year later.He painted a ceiling fresco ceiling in the church of Sant'Addario in Verona (Italy), in 1816  (below)    He painted for the church ceiling of the chapel of Santa Maria in Venice from 1818 onwards, possibly in 1823. He painted as Pietro de' Medici at a period of 30 months 1819–1820, the last full year of his career. He painted for his church ceiling in Verona from 1822 until 1822 when he and his wife left for Paris, and for the\n",
      "\n",
      "[410 | 711.49] loss=2.68 avg=2.80\n",
      "[420 | 727.63] loss=2.48 avg=2.79\n",
      "[430 | 743.74] loss=2.85 avg=2.79\n",
      "[440 | 759.89] loss=2.88 avg=2.79\n",
      "[450 | 776.03] loss=3.27 avg=2.80\n",
      "[460 | 792.16] loss=2.78 avg=2.80\n",
      "[470 | 808.27] loss=2.84 avg=2.80\n",
      "[480 | 824.42] loss=2.59 avg=2.80\n",
      "[490 | 840.55] loss=1.02 avg=2.75\n",
      "[500 | 856.68] loss=2.82 avg=2.75\n",
      "Saving checkpoint/old_dates/model-500\n",
      "[510 | 880.42] loss=2.29 avg=2.74\n",
      "[520 | 896.70] loss=2.48 avg=2.74\n",
      "[530 | 912.93] loss=1.98 avg=2.72\n",
      "[540 | 929.08] loss=2.30 avg=2.71\n",
      "[550 | 945.17] loss=2.07 avg=2.69\n",
      "[560 | 961.32] loss=2.30 avg=2.68\n",
      "[570 | 977.51] loss=2.33 avg=2.68\n",
      "[580 | 993.68] loss=2.64 avg=2.68\n",
      "[590 | 1009.86] loss=2.65 avg=2.67\n",
      "[600 | 1026.05] loss=2.38 avg=2.67\n",
      "======== SAMPLE 1 ========\n",
      "\n",
      "\n",
      "Peyton Levene, born in Milan, moved to Venice around 1750-1763 and became a painter. He is most famous for his 1767 bronze depiction of the Birth of the Virgin (Sforzio).   <|endoftext|>\n",
      "<|startoftext|>The Pelegriniere are a group of 15 artists from the middle Baroque period working in Venice in the late 18th century. [SEP] One of the most popular was Giuseppe Foscari (1807–1897). He was part of the famous association of the late Picchi with the early 16th century. The other artists included Francesco Maria Sforza, Andrea Mazzone, and Lorenzo Giuseppe Palma the Younger. The group created a large number of works throughout its life span. Some of the works are in the Museo Correr in Venice, but much of the work in the region has been lost or destroyed over the centuries, due to vandalism and war. The work by the group is divided into seven periods: the 18th, early 19th, early 20th, late 20th, late 20th, and 20th centuries.    Giuseppe Foscari (1807–1897) was a 17th-century Italian painter of the Venetian school. [SEP] Born in a small village near Palermo, he earned his Master at San Marco. From 1801 to 1813 he was part of the association for the restoration (and creation of the world) of St. Peter at the hands of St. Dominic at the Church of St. Mark. His most notable work is the ceiling of the tomb of Bartolomeo Martini in Sant'Anna d'Ete on the Grand Canal.   <|endoftext|>\n",
      "<|startoftext|>Marco Verrocchio (1527–1602) was an 18th-century Italian painter of the Renaissance period, working in Venice. [SEP] He was also a painter, and he painted portraits of dignitaries, including the Duke of Mantua, and the Duchess of Urbino.    He was born in Venice, the nephew of the famous artist Giuseppe Verrocchio, and the son of Giacomo Verrocchio, a sculptors. He was educated at the Convent Porto Vecchia. He painted for the church of the Padri Giovanni e Paolo in Mantua, which was constructed on his uncle's designs at the request of the Grand Duke Giustinian, with the decoration of Raphael's Requiem. He also painted landscapes for the San Maurizio. He is said to have been a pupil of Bartolomeo della Rovere. His first work is a ceiling (1843); he followed that with a series of paintings depicting various scenes; he also painted a number of figures. His first major work is the ceiling of the Chapel of the Fraternity of Saint Anthony of Padua in Candia (1853). He followed that with a series of canvases of the Holy Family (1869); the ceiling of the Chapel of San Giorgio Maggiore (1879); and the ceiling of the Villa Maggiore dei Storlato (1883). He completed a ceiling for the church of San Giorgiore dei Miracoli (1893).   <|endoftext|>\n",
      "<|startoftext|>Domenico Vescovi (12 November 1802 – 29 February 1894) was an Italian painter of the 18th/early 19th century. [SEP] His work is mainly found in Venice, and mainly represented the setting of the Venetian Carnival.    Domenico Vescovi was born at Candia, outside Candia in Venetian Dalmatia. [SEP] He was the son of Giovanni Giovanni Vescovi, who was a shoemaker, and his sister, Giulia, was a shop assistant. As a teenager, he studied at the Accademia di Belle Arti of Venice, where he trained under Paolo Verrocchio. His apprenticeship with Verrocchio led to the creation of a close association between Verrocchio and some of the prominent artists of the period, such as Francesco Guardi. He then trained with Verrocchio under the supervision of Pietro Sartoretto, where the two stayed for a period of time, and then joined the Accademia of Milan. Here he also met Pietro Maria Castelnuovo, who was also a shoemaker, and his friendship was established, and they remained close even after Verrocchio's death. Verrocchio's son Angelo, who was to become the Accademia's second chancellor, was one of the apprentices of Giorgio Massari, who is one of the most celebrated figures in the history of Italian ballroom drama\n",
      "\n",
      "[610 | 1063.87] loss=2.71 avg=2.67\n",
      "[620 | 1079.99] loss=1.80 avg=2.65\n",
      "[630 | 1096.12] loss=2.23 avg=2.64\n",
      "[640 | 1112.25] loss=2.43 avg=2.64\n",
      "[650 | 1128.37] loss=3.31 avg=2.65\n",
      "[660 | 1144.52] loss=2.28 avg=2.64\n",
      "[670 | 1160.66] loss=2.97 avg=2.65\n",
      "[680 | 1176.80] loss=2.26 avg=2.64\n",
      "[690 | 1192.96] loss=2.46 avg=2.64\n",
      "[700 | 1209.08] loss=1.85 avg=2.62\n",
      "[710 | 1225.23] loss=2.47 avg=2.62\n",
      "[720 | 1241.37] loss=1.87 avg=2.61\n",
      "[730 | 1257.50] loss=2.42 avg=2.60\n",
      "[740 | 1273.65] loss=1.88 avg=2.59\n",
      "[750 | 1289.79] loss=1.15 avg=2.56\n",
      "[760 | 1305.90] loss=1.75 avg=2.55\n",
      "[770 | 1322.03] loss=2.30 avg=2.54\n",
      "[780 | 1338.17] loss=2.21 avg=2.53\n",
      "[790 | 1354.28] loss=1.55 avg=2.52\n",
      "[800 | 1370.42] loss=1.97 avg=2.51\n",
      "======== SAMPLE 1 ========\n",
      "adi, but the latter was never heard from again. The story of Ovid is one of the most legendary of all the Venetian myths; but it is not a tale of the triumph of the Republic, but rather of Venetian society and the roles of the noble and the less noble in its internal organisation and functioning - there is little to show for the Republic's achievements in social, political, and military matters.          The Republic of Venice     was one of the most highly structured states in the medieval world. It was governed by a super-legislative body that could not be amended, and was governed by the Venetian Senate that was composed of a patriarch and nine consuls, selected from a list that was drawn up by the Venetian noblemen of Venice. These were chosen from among the nobles who were considered equal to representing Venice in the upper chamber of parliament.  The Senate had no direct power over the Venetian military and the Venetian population, and was the only body that could change the outcome of war or appoint a new consul.  The Senate approved consulships for about a half-dozen consular officers and for at least a dozen praetors, and on a proposal from the Venetian noblemen, the Senate voted to select Ovidius Scaevola as consul for the third time, in 1175, and in 1178, he was elected to the position. He served as consul in Venice until his death in March 1170 and was succeeded by Vettore Turchio, and in 1171, Domenico Zorzi served as consul until his death in 1108. He continued to serve as consul until his death, and it is believed that he was murdered.   Some have claimed that the Senate rejected Consul Ovidio Scaevola because of his antipathy toward the Venetian aristocratic class and because he was considered a Venetian representative of \"old news\". However the Senate's decision concerning Consul Ovidio Scaevola was already well known by the time he was elected as consul for the third time, as is outlined above, and in all probability did not come into play until the third time.  When he was elected to the position, he was supported by the noble Barbaro family, whose interests were paramount in the Senate's decision as well as by Venice's military rulers Angelo of Ferrara, and Andrea Dandolo.  The Senate approved his election as consul for the third time in December 1175, but he refused to accept, leading to the mutiny of his commanders-general Antonio Carnegi and the sack of his fleet which were eventually contained by the Council of Ten, who, in the end, decided to let him remain in the position, and to make him a senator for the first time on the condition that he retire the other senators.The Senate appointed an all-Venetian committee to investigate the mutiny and to identify possible causes or motives for the insurrection, and in November 1178, the Senate, which had been at pains to prevent any attempt at revolt, decided to take Ovidio Scaevola into custody in exchange for the disbanding of the mutiny. The Senate took Ovidio Scaevola to Venice for medical treatment and a re-education of his men, and sent him back to Venice in 1104, after which Ovidio became consul. The Senate elected Vettore Barbaro as the next consul, as well as Ovidio Scaevola. This was a mistake, and Vettore Barbaro was elected instead. The Senate elected Ovidio Scaevola to consul first, and then Vettore Barbaro as the Consul of Venice. The Senate chose Ovidio Scaevola for consul because he represented Italy's southern extension and Venice and she was known for her social and political engagement; he was also a Venetian by birth.The Senate decided that Ovidio would be kept under house arrest, and that he would have to be made to sign a written statement to persuade anyone to support him against the rebels in Milan.  In the meantime, Venice's military leaders, who had long been fighting against the Republic and were in the process of re-education, began to rebel, and the Senate gave the go-ahead to Vettore Barbaro, under the title of consul-general, to crush them. However, in case of doubt, the Senate instead chose consul Ovidio Scaevola. When he returned in the spring of 1176, the Senate selected his successor as Consul, but by this time the rebels had made preparations to revolt again. The Senate chose Ovidio Scaevola, who was in no way a friend to the noble Barbaro, and they took him to Venice on 13 October 1176 and gave him a pension of\n",
      "\n",
      "[810 | 1407.83] loss=2.13 avg=2.50\n",
      "[820 | 1423.93] loss=3.02 avg=2.51\n",
      "[830 | 1440.02] loss=1.40 avg=2.49\n",
      "[840 | 1456.12] loss=1.64 avg=2.48\n",
      "[850 | 1472.22] loss=2.80 avg=2.48\n",
      "[860 | 1488.33] loss=1.07 avg=2.46\n",
      "[870 | 1504.46] loss=1.86 avg=2.45\n",
      "[880 | 1520.57] loss=2.61 avg=2.45\n",
      "[890 | 1536.70] loss=2.02 avg=2.44\n",
      "[900 | 1552.81] loss=1.09 avg=2.42\n",
      "[910 | 1568.95] loss=1.83 avg=2.41\n",
      "[920 | 1585.07] loss=2.47 avg=2.41\n",
      "[930 | 1601.20] loss=2.17 avg=2.41\n",
      "[940 | 1617.32] loss=0.94 avg=2.38\n",
      "[950 | 1633.46] loss=2.00 avg=2.38\n",
      "[960 | 1649.57] loss=1.68 avg=2.36\n",
      "[970 | 1665.69] loss=0.74 avg=2.34\n",
      "[980 | 1681.82] loss=2.79 avg=2.35\n",
      "[990 | 1697.93] loss=2.21 avg=2.34\n",
      "[1000 | 1714.06] loss=2.14 avg=2.34\n",
      "Saving checkpoint/old_dates/model-1000\n",
      "WARNING:tensorflow:From /tensorflow-1.15.2/python3.6/tensorflow_core/python/training/saver.py:963: remove_checkpoint (from tensorflow.python.training.checkpoint_management) is deprecated and will be removed in a future version.\n",
      "Instructions for updating:\n",
      "Use standard file APIs to delete files with this prefix.\n",
      "======== SAMPLE 1 ========\n",
      " second version of the manuscript, which may be seen as an example of the Venetian School´s early writings today (published in Venice between 1820 and 1837). The first version of the work was completed in 1826, with a further 17 lines added in 1828. The later 1842–49 version was not completed at the same pace as the original, and added 17, 14, 16, 18, and 22 lines in 1829, 1833, and 1852. At the start of the 19th century, the 1853 revision replaced some 15 lines of the 1817 book with just 12, while adding 12 new verses for 15, then adding to it another 15, 15, 16, 18, 22, 24, or 26, lines (respectively) in 1855, 1856, 1876, 1887, 1889, 1908, 1812, 1836, 1857, and 1867—the number of lines added or deleted since 1829 is shown by the asterisk (*). As with the 17th-century work, the original manuscript disappeared without trace, and the author either died or moved on to a life of leisure. A copy of the revised work is offered at my web site: http://www.johannesbuchholz.de/kritik/Alton.html     The name Anton Bloch is a corruption of Anton Badoer's first name, or Anton de' Bloch. The Anton Bloch family moved to Venice in the 14th century, taking with them Anton Maria delle Grazie from Verona. Their first residence was on Coron degli Antoni, in the Coron dei Grazie parish, but were later moved to Vicovignano degli Antoni, in the Vicovignano dei Dorme. This family had a number of vicarricards, including one in the Vicovignano delle Grazie area and one in Vicovignano di Treviso, in Vicovignano delle Grazie. In the 16th century this branch of the Bloch family, which had a previous name (Lancios) in Asia Minor (Sparta), now called Dalmatia (Slaton), moved to Bulgaria. Anton Maria died in 1519, at the age of 68. The Anton Bloch family is buried in the parish of St. Cecilia where he was married by Giulia d'Este in 1367.   <|endoftext|>\n",
      "<|startoftext|>Nicolò Badoer (1416 - 12 September 1478) was a Roman Catholic prelate who served as Archbishop of Split (1465–1478), Bishop of Štokavian (1470–1484), and Bishop of Što (1465–1475).    Badoer was ordained a priest in the Order of Preachers on 20 September 1465. He was appointed as Archdeacon of the diocese at the age of 21, with no formal religious training.Badoer took part in the local parish liturgical celebrations and celebrations, such as the celebration of the Feast of St Cecilia, though he himself took no official part in the event. While bishop, he also took part in overseeing a number of local dioceseses including that of Split, where the archdiocese's bishop was located, and supervising the archbishop's relations with the local priest and laity.He took part in the papal conclave of 1475 that elected Pope Paul II. He served as archbishop of Split and bishop of Što (1474–1476) until his death in 1478.    Badoer was born in Tino in Pula (today's Trincač), which was part of Venetian Dalmatia from the 13th century. The family first came from Hungary during the Ottoman conquest of the region. In 1423 A. Stojan and his brother Badoer were appointed as acolytes to the monastery of Saint Cajetan. In 1450 he returned to Hungary, first to the town of Kražan, and then to Budapest. In 1457 Badoer was appointed as the pastor of the Archdiocese of Split. The Archbishop of Split, like the patriarch of St Cajetan, was appointed a priest, but, unlike the patriarch, there was no ecclesiastical function assigned to him. He served as a priest on the Church of the Holy Assumption on 23 April 1440, and the tithes and grants for construction of the Basilica of Saint Simon Zaccaria came due on 1 September 1440. A total of 10 basilicas were constructed with his assistance, including that of the Basilica of St Simon Zaccaria in 1455.In 1462, he travelled to Russia to assist the Moscow Patriarchate in its crusade against Hungary. In 1463 he\n",
      "\n",
      "[1010 | 1758.66] loss=1.92 avg=2.33\n",
      "[1020 | 1774.76] loss=1.18 avg=2.32\n",
      "[1030 | 1790.84] loss=1.57 avg=2.30\n",
      "[1040 | 1806.95] loss=1.63 avg=2.29\n",
      "[1050 | 1823.09] loss=2.45 avg=2.30\n",
      "[1060 | 1839.24] loss=1.39 avg=2.28\n",
      "[1070 | 1855.43] loss=2.92 avg=2.29\n",
      "[1080 | 1871.56] loss=2.56 avg=2.30\n",
      "[1090 | 1887.72] loss=1.77 avg=2.29\n",
      "[1100 | 1903.85] loss=1.86 avg=2.28\n",
      "[1110 | 1919.98] loss=2.27 avg=2.28\n",
      "[1120 | 1936.11] loss=2.12 avg=2.28\n",
      "[1130 | 1952.23] loss=2.22 avg=2.28\n",
      "[1140 | 1968.38] loss=1.50 avg=2.27\n",
      "[1150 | 1984.51] loss=1.61 avg=2.26\n",
      "[1160 | 2000.65] loss=1.45 avg=2.25\n",
      "[1170 | 2016.80] loss=2.19 avg=2.24\n",
      "[1180 | 2032.97] loss=1.59 avg=2.24\n",
      "[1190 | 2049.11] loss=1.26 avg=2.22\n",
      "[1200 | 2065.27] loss=1.02 avg=2.20\n",
      "======== SAMPLE 1 ========\n",
      " musicians and dancers – and in turn, the Venetians provided them with instruments and clothes. From 1617, the group toured the Venetian mainland, spending time in Padua, Naples and Brescia. In Venice, the next three seasons saw shows at the Venetian Pantheon, the Can Fondazione, the Santa Lucia and the Santa Martire. In 1618, the Veneta group produced its last known work, La fianta contadina, which was printed in color in 1623. This was an original translation of the Gaelic poem O iud, ma fiacarioi (\"The fountains of good and true joy\"). The work, written for the occasion of King Louis XII's coronation, was dedicated to the 1604 poet Lúkr, a charter of gratitude to Lúkr, which the poet hopes to one day be fulfilled.   <|endoftext|>\n",
      "<|startoftext|>Benedetto Cappello (c. 1660 or July 4, 1660 – March 23, 1714), also called Canon Anno di Nazareo, was an Italian Dominican friar, writer, and philologist. [SEP] Cappello is best known for his account of his travels, Canzoni di Nazaro (\"Canzone's Nights\"), which were collected and edited by Paolo Gabriele.    Born [SEP] in Venice at the time of the Banquet of Frederick William I, he entered the Order during the later part of its life, and in the latter half of its strength. In 1675 Cappello was elected as its ref; he served in that office until 1679. His brother Jacopo (1650–1717) followed the Order's stepfather. From 1692 to 1700 he was a canon, in charge of a canonric abbey at Orsolato. On 25 Nov 1697, he received the Certificate of the Order of Saint Francisco, and on 11 Apr 1702 he was in the Lateran Council in charge of its financial affairs. He also served as abbot commendato a San Matteo.On 4 May 1703 Cappello received the Certificate of St. [SEP] Francesco Bembo that placed him, in charge of the night watch of the monastery, and entitled him, as the abbot of the order's brotherhood, to the fruits of the monastery's vineyard.   <|endoftext|>\n",
      "<|startoftext|>Pietro Cappello was an Italian cardinal. [SEP] He was elected on 24 March 1677. He served as papal legate to France and the Papal States from 19 July 1679 until his death.    Cappello was the son of the Venetian noble Pietro Cappello. In 1693, he married the daughter of a wealthy Venetian female financier, Fiorenza Sommaripa (d. 1712), and the two immediately set up their household, established a substantial amount of wealth, and secured themselves diplomatic recognition in Madrid. The couple had three sons, Giovanni, Giovanni, Nicolò, and Antonio Cappello: the last of whom married the Belgian queen Isabella d'Este and the two girls entered their inheritance in a trust, which by 1703 could not be easily divided, and which was administered by a company that included Cappello. The inheritance soon became extremely complex, and in 1707 a new tax came in, which was made to be known as the Porte Derel. The Cappelli were no longer able to completely exempt their family from it, and they were forced to decide on which of ten properties they wished to part with. The decision caused a scandal in Venice, and amongst the Venetians, who were not so easily appeased by the offer of money. Cappello was one of the politicians who fell in favour of the petition of the citizens to the reform of the tax. He was also a friend of the Marquis of Urbino, and a contender in the election of the Spanish crown to the Doge of Venice.    Cappello tried to profit from the power of the Order, but was unable to do so, and he was forced to resign his throne as a martyr to the cause of reform from 22 April 1693.   <|endoftext|>\n",
      "<|startoftext|>Giovannuccia Ceruti (also Giovanni; c. 1450/60 – 1537/38), was an Italian condottiero, the tenth Duke of the Archipelagos, from 1456 to 1478. [SEP]  Her husband was the Tribuno Memmo, who ruled the island in behalf of the Kingdom of Naples.    Giovanni Ceruti came from Tuscany, but his ancestors are thought to have arrived on the Greek\n",
      "\n",
      "[1210 | 2102.73] loss=2.64 avg=2.21\n",
      "[1220 | 2118.84] loss=1.89 avg=2.21\n",
      "[1230 | 2134.96] loss=2.48 avg=2.21\n",
      "[1240 | 2151.09] loss=1.60 avg=2.20\n",
      "[1250 | 2167.23] loss=1.05 avg=2.19\n",
      "[1260 | 2183.40] loss=1.13 avg=2.17\n",
      "[1270 | 2199.56] loss=1.52 avg=2.16\n",
      "[1280 | 2215.72] loss=1.57 avg=2.15\n",
      "[1290 | 2231.84] loss=1.30 avg=2.14\n",
      "[1300 | 2247.99] loss=1.86 avg=2.14\n",
      "[1310 | 2264.18] loss=1.82 avg=2.13\n",
      "[1320 | 2280.33] loss=1.39 avg=2.12\n",
      "[1330 | 2296.46] loss=1.37 avg=2.11\n",
      "[1340 | 2312.60] loss=1.69 avg=2.11\n",
      "[1350 | 2328.72] loss=2.42 avg=2.11\n",
      "[1360 | 2344.88] loss=2.92 avg=2.12\n",
      "[1370 | 2361.06] loss=2.56 avg=2.13\n",
      "[1380 | 2377.24] loss=1.43 avg=2.12\n",
      "[1390 | 2393.42] loss=1.14 avg=2.11\n",
      "[1400 | 2409.55] loss=2.73 avg=2.11\n",
      "======== SAMPLE 1 ========\n",
      "78, while the other four are still to be described. He may have been influenced by the drawings by Antonio da Bologna. It is thought that he probably acquired the art of letterpress printing at the age of fifteen. In 1519 he made himself known in a signed letterpress (in Agrigento Maggiore) as an art dealer and exhibited for the first time the work of his apprentices, in the form of drawings. Many of his pastel frescoes are located in churches; most remarkably, his largest fresco was displayed in the Cathedral of Udine as a part of the decoration of the organ loft. The Cathedral of Udine has a gallery full of works by Conegliano. Other works are at Milan: the Cathedral of Treves in Paris; the Cathedral of Sigh in Vicenza, and the Cathedral of Sorrow in Parma, all in Vicenza (151516-17). His frescoes were displayed in theatres at Corfu, Crema, Venice, Paris, Parma and Piacenza, and he also painted the Palatine Garden fresco for the Piacenza theatre. The theatre has been closed since 1807. The frescoes that were exhibited at the Piacenza were acquired by the Uffizi.   <|endoftext|>\n",
      "<|startoftext|>Giovan Battista Novelli (17 February 1733, in Venice – 21 December 1792, in Venice), also known as Giambattista or Gianbattista, was a Venetian painter of the Rococo or Renaissance periods. [SEP]    He (probably) was born outside Udine. He trained under Raffaello Crespi. According to a report commissioned by the Republic of Venice, Battista was known by the artists of the Accademia di Belle Arti as a pupil of Andrea Mantegna. He painted a Madonna della Morte for la Sagredo near Vicenza, in a period when there was a lot of wariness of the Huguenots relative to the French. He painted the St Sabas frescoing the church of San Pietro Maggiore for the Basilica di San Giovanni e Paolo, Venice, and a Madonna with St John and St Philip for the church of San Pietro Palma, Udine. His masterpiece was a Madonna with St John (1789) in Vicenza. He painted also a Cancun fresco for the church of San Raffaele in Venice. He painted two St Barnabas frescoes for the parish church of Santa Maria Cres; one for the parish church of San Vito in Treviso and the other for the sacristy in Vicenza. He also painted a Madonna with Fortuna for the sacristy of St Peter's in the Riva degli Sigismundi in Venice.He painted a Nicodemus for the Palazzi Giacomo in Bergamo.   <|endoftext|>\n",
      "<|startoftext|>Nicholas Crispo nicholas (or Niccolò; ca. 1450 on – 1475 on), born about the year 1445, was a Venetian nobleman, who for over two decades (1466-1474) played an important role in the internal and external politics of the Republic of Venice. [SEP]  Niccolò was the first of several noblemen whose names and dates of birth are known, along with Giambattista Crispo, Pietro Lippi, Domenicus Crispo, Nicholas Crispo and Nicholas Doukas, who played various roles in the affairs of state in Rome and Venice prior to 1466.    Nicholas Crispo, nickname nicholas and/or \"Crispy\", who was born about the year 1445, is the first nobleman whose full name and present-day date of birth and death have been recorded. He was the founder member of the First Council of Five Hundred and Eight. As a member of a prominent local Venetian family, he was the great-grandson of Domenica Crispo and her husband Francesco Sommaripa and grandson of Bartolomeo Crispo. His maternal grandparents had access to the imperial palace in Constantinople and are credited with arranging him for a professed vocation to the Ottoman court. As a youth, he was a party to a dispute in the character of the Venetian ambassador who, as a member of one of the \"crowned patriciate\", was charged with ensuring that the Venetian fleet would periodically participate in the annual Ottoman military victories. He played an active role in leading the struggle for independence from the Ottomans. After the Ottomans retook the Forskolin in 1444, the Venetian representative in Erfurt, Nicholas' brother Niccolo Crispo, went to fight\n",
      "\n",
      "[1410 | 2447.12] loss=2.57 avg=2.12\n",
      "[1420 | 2463.23] loss=1.34 avg=2.11\n",
      "[1430 | 2479.30] loss=2.55 avg=2.12\n",
      "[1440 | 2495.45] loss=1.73 avg=2.11\n",
      "[1450 | 2511.59] loss=1.34 avg=2.10\n",
      "[1460 | 2527.74] loss=2.08 avg=2.10\n",
      "[1470 | 2543.93] loss=1.11 avg=2.09\n",
      "[1480 | 2560.08] loss=1.88 avg=2.08\n",
      "[1490 | 2576.29] loss=1.12 avg=2.07\n",
      "[1500 | 2592.48] loss=1.63 avg=2.07\n",
      "Saving checkpoint/old_dates/model-1500\n",
      "[1510 | 2615.37] loss=1.75 avg=2.06\n",
      "[1520 | 2631.61] loss=0.80 avg=2.05\n",
      "[1530 | 2647.83] loss=1.35 avg=2.04\n",
      "[1540 | 2663.98] loss=0.94 avg=2.02\n",
      "[1550 | 2680.09] loss=0.73 avg=2.01\n",
      "[1560 | 2696.25] loss=2.16 avg=2.01\n",
      "[1570 | 2712.45] loss=1.71 avg=2.01\n",
      "[1580 | 2728.65] loss=0.84 avg=1.99\n",
      "[1590 | 2744.84] loss=1.80 avg=1.99\n",
      "[1600 | 2761.01] loss=1.51 avg=1.98\n",
      "======== SAMPLE 1 ========\n",
      ", Pietro Barbalonga. In the 1530s she was the wife of Giovanni Barbo, Count of Lugano and later of Montecchio of Venice, and in 1537-38 was the governess of Dalmatia. For several years she served as maestro oratorio (comic or musical theater) in the court of Cardinal Pietro Orsini. In 1564, she joined the San Domenico Rosicario, the artistic ensemble of Casa Giustiniani in Florence, where she learned the composers guild and the various musical techniques of her time. After a discussion of the opera industry with Jacopo Siano, she is known to have led the Florence Opera from 1580 to 1583.    Her life is a remarkable tragedy of social and intellectual challenges, framed by an enlightened courtly woman and full of compassion for her most important intellectual, Pietro Barbalonga, whose intellectual gifts were not exhausted in a lifetime. She survived him with his life-long marriage to Caterina Sagredo, the daughter of the music dealer Marco Sagredo. Barbalonga was a remarkable personality, a complete opposite to everything that was bad in Florence between the two of them. She lived a simple life, being far removed from the intrigues of society and the pressures of a world that did not want a philosopher and a social commentator. She wrote down her observations and sentiments as she lived her extraordinary life.She died at the age of 84 in her Florence home.   <|endoftext|>\n",
      "<|startoftext|>The Blessed John Barbo  (c. 1510 – c. 1586) was an Italian Catholic  (and member of the Barbo family) scholar and professor at IESE. In 1550 he published a study of the life of Saint Jerome , which formed the basis of the later works.This saint was originally a slave sent by Pope Paul III to the Palazzo Barbo in Florence to collect the slaves there, but he was captured at the election of Pope Julius II and sent to the Altarpiece Gallery within the same year with the aim of making his portrait into a valuable tribute to the people of Florence. Barbo succeeded in composing a portrait of this saint which was displayed in the Altarpiece Gallery of Florence.    Barbo was an artist of Italian origin; both of his parents were noted painters; and he himself reports to Pope Clement VIII that he had been in England at the age of 21 when, while living under false identification as a slave procuring arms for the King of France, he executed twelve portraits in arms for Henry II. He worked with them almost continuously, creating over 50 in the course of these works.  Barbo is said to have trained with Giovanni Artico, his master, and even to have been the model for one of Artistico's famous models, the Renta-Carlo Coquere. This was not unexpected, since Barbo was the type of artist Barbo had been studying for his entire career. Barbo was noted for his understanding, in detail, of both Renaissance art and the Roman sculpture of the times; moreover, he acted as a translator between the two. For instance, in 1545 he executed a model of the Madonna of the Carmine for the altar of the church of Frari.    His other great work is the altarpiece depicting the Assumption of Mary, which was displayed in the Gallery of Art, Florence in 1585 under the heading Containing the Body of Christ, where he died. There are several copies, including those at the Correr family, in various states of repair, some with Barbo's name inscribed on them.   <|endoftext|>\n",
      "<|startoftext|>Francesco Barbo, O. S. Mantegna (c. 1505 – 13 June 1507) was a 15th-century Venetian  scholar and a professor of the Sacred Scriptures at the University of Pavia in Pavia. His most famous work is a  Renaissance miniature of the Assumption, from which it was drawn. [SEP]    Barbo was born in Correggio.  The year of his birth is unknown, but it seems that he was involved with the Reformation and became affiliated with the Order of St. Sebastian in Mantua in 1515, where he was a full professor.  Barbo was a very successful person, and became associate editor  of several different secular journals like Metaplex.He died in Pavia at the end of the 1520s.  His son was Giovanni Barbo.   <|endoftext|>\n",
      "<|startoftext|>Francesco Barbo  was an Italian Dominican friar, monk, and professor of the Sacred Books at the University of Pavia in Pavia. [SEP] In 1612 he published a small book on the Blessed John de\n",
      "\n",
      "[1610 | 2798.56] loss=1.22 avg=1.97\n",
      "[1620 | 2814.67] loss=1.62 avg=1.97\n",
      "[1630 | 2830.82] loss=1.57 avg=1.96\n",
      "[1640 | 2846.98] loss=1.50 avg=1.96\n",
      "[1650 | 2863.18] loss=0.78 avg=1.94\n",
      "[1660 | 2879.37] loss=1.68 avg=1.94\n",
      "[1670 | 2895.59] loss=1.68 avg=1.94\n",
      "[1680 | 2911.78] loss=1.89 avg=1.94\n",
      "[1690 | 2927.94] loss=2.07 avg=1.94\n",
      "[1700 | 2944.13] loss=1.34 avg=1.93\n",
      "[1710 | 2960.32] loss=0.76 avg=1.92\n",
      "[1720 | 2976.50] loss=0.88 avg=1.90\n",
      "[1730 | 2992.66] loss=1.46 avg=1.90\n",
      "[1740 | 3008.81] loss=3.39 avg=1.92\n",
      "[1750 | 3024.96] loss=0.38 avg=1.90\n",
      "[1760 | 3041.09] loss=1.24 avg=1.89\n",
      "[1770 | 3057.24] loss=0.91 avg=1.88\n",
      "[1780 | 3073.38] loss=1.68 avg=1.88\n",
      "[1790 | 3089.53] loss=1.46 avg=1.87\n",
      "[1800 | 3105.67] loss=1.98 avg=1.87\n",
      "======== SAMPLE 1 ========\n",
      "govern of Dalmatia, as well as being the author of several hundred pages of notes.  His writing activity seems to have ceased in 1655.  According to Diario della calle, it was considered worthy of note, though not great, that while writing \"at the rate of about a page a day\" (a period which, however, he managed to squeeze in between sick leave and night watch), he failed to write a single work of art in nine months, and published only three articles during this period.\"    As far as Venetian letters, there is virtually no literature of note. Despite this, he managed to write three articles from the library of the Venetian government, and they were published in the magazine L'Italia Veneta in 1657 and in the Magazine Giornale Veneta in 1658.In 1662, he published Le donne rosa, which described, \"the general philosophical mode adopted in Venice, which, though officially non-prioriised, has given rise to very public a discussion...\"   <|endoftext|>\n",
      "<|startoftext|>Agostino Barbaro (9 March 1517 – 16 June 1599), also referred to as Barbero (born Venice, 24 September 1563) was an Italian architect born about 1770 in Venice. [SEP] He is considered to be among the most celebrated architect of Venetian Renaissance period, and to have influenced, at least in part, the Florentine Manuscripts. After graduating in architecture from the University of Padua with a degree in both planning and civil engineering, he embarked in the successful defense of Venice against Milanese forces under Fabritio Memmo in 1572, in the famous Battle of Candidato, for which the Venetian Republic were famous. In 1622 he was appointed as Venetian magistrate of state and eventually, after completing his civil works in the Miniani, he was elected as Doge in 1654. He participated, alongside Ippolito Gradenigo, in the election of Marchesino Doge (1654-1665) and was vice-doge from 1671 to 1677.    At his best, Barbaro was considered a Classical orator, displaying a rare ability to speak with authority about contemporary issues. In his \"letter to his beloved Venetian city\" (L'Italia Veneta), he vividly described the many difficulties they had faced while fighting against Milanese, to the point where it is alleged he contemplated suicide. In the letter, written in Italian, it is notable for Barbaro's ability to depict the city in full scale battle scenes, commenting on both the good will of Milanese towards Venice as well as the events of the city's history.In 1643 Barbaro was awarded a knighthood by the Doge of Venice, for his outstanding contribution to the defense of Venice against Milanese troops. \"For his valiant defense of Venice on account of which the fortress [Padova] was erected we decree the city to be safe from all attack, and to accept the present knighthood from his peers\" continued the Doge.Barbaro completed several other works in Venice, one of them very famous - the Battle of Pietrinope (1648) between Venetian cavalry and the cavalry of Emperor Rudolf II, both on her flank, and also in the Miniani to the south of the river. It is said that the Venetians lost 11 officers and 4 pikes, but this is possibly exaggerated. The exact number of the Venetians involved is unknown, though some sources give the number as three pikes, and some as four.   <|endoftext|>\n",
      "<|startoftext|>Jacopo Barbaro (c. 1330 – July 14, 1466) was the Doge of Venice from 1463 until 1466. [SEP] He served as the Republic's ambassador to Constantinople, and was a diplomat of the Council of Ten, consul of Bologna, and a state secretary to Pope Clement V.           On September the death of Emperor Rudolf II, the Venetians elected the 37-year-old son of Doge Jacopo Doge to the position of emperor upon the election of his brother Tullio as emperor in November 1463. Aged and humiliated by his predecessor's ungenerous treatment of Venice, Benedetto Barbaro offered his resignation after just 32 hours in the role. The obvious choice was his nephew Tullio, who had just been deposed by his father and stepmother for attempting to overthrow the Emperor. During his stay in Byzantium Tullio was involved in a dispute with the Emperor. In the event Benedetto's election as Doge restored Tullio's power and prompted his uncle to order a re-appointment as Doge, which he granted\n",
      "\n",
      "[1810 | 3143.08] loss=1.66 avg=1.87\n",
      "[1820 | 3159.20] loss=1.86 avg=1.87\n",
      "[1830 | 3175.33] loss=0.79 avg=1.86\n",
      "[1840 | 3191.49] loss=0.84 avg=1.84\n",
      "[1850 | 3207.63] loss=0.51 avg=1.83\n",
      "[1860 | 3223.72] loss=0.53 avg=1.81\n",
      "[1870 | 3239.86] loss=1.20 avg=1.81\n",
      "[1880 | 3255.99] loss=0.64 avg=1.79\n",
      "[1890 | 3272.15] loss=1.22 avg=1.79\n",
      "[1900 | 3288.32] loss=1.56 avg=1.78\n",
      "[1910 | 3304.49] loss=1.05 avg=1.77\n",
      "[1920 | 3320.68] loss=0.91 avg=1.76\n",
      "[1930 | 3336.83] loss=1.97 avg=1.77\n",
      "[1940 | 3353.01] loss=0.98 avg=1.76\n",
      "[1950 | 3369.21] loss=0.67 avg=1.74\n",
      "[1960 | 3385.38] loss=0.58 avg=1.73\n",
      "[1970 | 3401.57] loss=1.22 avg=1.73\n",
      "[1980 | 3417.73] loss=2.06 avg=1.73\n",
      "[1990 | 3433.89] loss=0.83 avg=1.72\n",
      "[2000 | 3450.05] loss=1.14 avg=1.71\n",
      "Saving checkpoint/old_dates/model-2000\n"
     ]
    }
   ],
   "source": [
    "if FINETUNE_GPT2:\n",
    "#     file_name='bios_old_dates.csv'\n",
    "#     shutil.copyfile(\"/content/drive/Shared drives/FDH/data/\" + file_name, file_name)\n",
    "\n",
    "    # don't be proprietary folks\n",
    "    # gpt2.copy_file_from_gdrive(file_name)\n",
    "\n",
    "    tf.reset_default_graph()\n",
    "    sess = gpt2.start_tf_sess()\n",
    "    gpt2.finetune(sess,\n",
    "                dataset=file_name,\n",
    "                model_name='355M',\n",
    "                steps=2000,\n",
    "                restore_from='latest',\n",
    "                run_name='old_dates',\n",
    "                print_every=10,\n",
    "                sample_every=200,\n",
    "                save_every=500\n",
    "                )\n"
   ]
  },
  {
   "cell_type": "code",
   "execution_count": 9,
   "metadata": {
    "id": "VHdTL8NDbAh3"
   },
   "outputs": [],
   "source": [
    "# if FINETUNE_GPT2:\n",
    "#     gpt2.copy_checkpoint_to_gdrive(run_name='old_dates')"
   ]
  },
  {
   "cell_type": "code",
   "execution_count": 6,
   "metadata": {
    "id": "sUt84OlqoTAU"
   },
   "outputs": [],
   "source": [
    "# don't be proprietary folks\n",
    "# gpt2.copy_file_from_gdrive(\"checkpoint_mediumgpt2_venetianscsv.tar\")\n",
    "\n",
    "# if not FINETUNE_GPT2:\n",
    "#     import shutil\n",
    "#     file_name='checkpoint_old_dates.tar'#mediumgpt2_sep_venetianscsv.tar'\n",
    "#     shutil.copyfile(\"/content/drive/Shared drives/FDH/model/\" + file_name, file_name)"
   ]
  },
  {
   "cell_type": "code",
   "execution_count": 7,
   "metadata": {
    "id": "uo0lHge6oq98"
   },
   "outputs": [],
   "source": [
    "# !tar xf checkpoint_old_dates.tar"
   ]
  },
  {
   "cell_type": "code",
   "execution_count": 30,
   "metadata": {
    "colab": {
     "base_uri": "https://localhost:8080/"
    },
    "id": "sie2tFKNUOdN",
    "outputId": "401237f9-b1fe-4d4f-cc07-3c56162a1159"
   },
   "outputs": [
    {
     "name": "stdout",
     "output_type": "stream",
     "text": [
      "Loading checkpoint checkpoint/old_dates/model-2000\n"
     ]
    }
   ],
   "source": [
    "if not FINETUNE_GPT2:\n",
    "    sess = gpt2.start_tf_sess()\n",
    "    gpt2.load_gpt2(sess, run_name='old_dates')"
   ]
  },
  {
   "cell_type": "code",
   "execution_count": 31,
   "metadata": {
    "id": "Wmltfgv4dSD3"
   },
   "outputs": [],
   "source": [
    "def generate_fake_bio(prompt):\n",
    "    proposed_bio = str(gpt2.generate(sess, run_name='old_dates', return_as_list=True, \n",
    "                                  prefix=prompt, length=4096)[0])\n",
    "\n",
    "    split_proposed_bio = proposed_bio.split('<|')[0]\n",
    "    if split_proposed_bio.count('[SEP]') > 1:\n",
    "        split_proposed_bio = ''.join(''.join(split_proposed_bio.split('[SEP]')[:2]).split('.')[:-2])\n",
    "        split_proposed_bio = '.'.join(split_proposed_bio.split('.')[:-1]) + '.'\n",
    "\n",
    "    return split_proposed_bio"
   ]
  },
  {
   "cell_type": "code",
   "execution_count": 6,
   "metadata": {},
   "outputs": [
    {
     "name": "stdout",
     "output_type": "stream",
     "text": [
      "Giovanni Domenico was a Venetian opera singer. [SEP] He was the son and partner of composer Andrea Mantegna, and composed operas in the style of his father. He was the first in the family to graduate from the minor to the major opera. The Mantegna family was important in the creation of Venetian opera. Giovanni was the first to use the Mantuan school, and is considered to be the father of the Venetian opera.     Giovanni was the first to use the Mantuan school, and is considered to be the father of the Venetian opera. Giovanni Mantegna was born in Venice on 12 October 1609 into the noble family of Mantua. He began his musical education in the Dominican Order, and was educated at the convent of Santa Maria della Salute in Padua, his birthplace. He went to Venice, where he sang at the Scuola di San Giovanni Evangelista, and later moved to the Accademia, where he acquired a sister. He moved to Paris, where he sang at the Chambre, and then to Bologna, where he sang at the Gregoria.    He moved to Bologna in 1565, where he sang at the Gregoria. He joined the company of his brother Bongiovanni and sang at the court of Prince Rudolf II of Hesse. He sang at the court of the Duke of Montalto and sang at the court of the Elector Ferdinand of Hesse. In 1572 he was in Venice, where he sang at the Scuola dei Carmini, and later at the Court of the Duke of Nocheggi. He sang at the Court of the Duke of Montefeltro (1580) and at the Court of the Prince of Artois (1585). He sang at the Court of the Duke of Napoli (1588) and at the Court of the Duke of Urbino (1590). He sang at the Court of the Duke of Parma (1595-97) and at the Court of the Duke of Urbino all'Alberico (1606–1612). He sang at the Court of the Duke of Parma (1606–1612) and at the Court of the Duke of Urbino (1612). He sang at the Court of the Duke of Montalto (1613) and at the Court of the Duke of Montalto (1613-1614). He sang at the Court of the Duke of Parma (1617–18) and at the Court of the Duke of Montalto (1617–18). He sang at the Court of the Elector Ferdinand of Hesse (1621) and at the Court of the Duke of Urbino (1621). He sang at the Court of the Parma (1623) and at the Court of the Duke of Montalto (1623).    He was the main vocal performer of the Court of Urbino (1617–18).    He served as the main principal of the Court of Parma (1618–20) and at the Court of the Duke of Parma (1623–24). He was the principal principal of the Court of Urbino (1624) and sang at the Court of the Duke of Montalto (1624).    He died in Bologna on January 29, 1651. He was buried in the cemetery of the Friulan Church.           \n"
     ]
    }
   ],
   "source": [
    "print(generate_fake_bio('Giovanni Domenico was a Venetian opera singer. [SEP]'))"
   ]
  },
  {
   "cell_type": "code",
   "execution_count": 32,
   "metadata": {},
   "outputs": [],
   "source": [
    "first_names = ['Achille', 'Adamo', 'Adelmo', 'Adriano', 'Agnolo', 'Agostino', 'Alberico', 'Alberto', 'Alderano', 'Aldo', 'Alessandro', 'Alessio', 'Alfio', 'Alfredo', 'Alphons', 'Amadeo', 'Amedeo', 'Amico', 'Amleto', 'Angelo', 'Annibale', 'Ansaldo', 'Antonello', 'Antonino', 'Antonio', 'Armando', 'Arnaldo', 'Arnulfo', 'Arsenio', 'Arturo', 'Atenolfo', 'Atenulfo', 'Augusto', 'Azeglio', 'Baccio', 'Baldassare', 'Bartolomeo', 'Benedetto', 'Benito', 'Benvenuto', 'Beppe', 'Bernardo', 'Biagio', 'Bruno', 'Calcedonio', 'Calogero', 'Camillo', 'Carlo', 'Carlo', 'Carmelo', 'Carmine', 'Cesare', 'Cipriano', 'Cirillo', 'Ciro', 'Claudio', 'Coluccio', 'Constanzo', 'Coriolano', 'Corrado', 'Costantino', 'Costanzo', 'Danilo', 'Damiano', 'Daniele', 'Daniello', 'Dante', 'Dario', 'Davide', 'Delfino', 'Dino', 'Dionigi', 'Domenico', 'Donatello', 'Donato', 'Durante', 'Edgardo', 'Edoardo', 'Elladio', 'Elmo', 'Emilio', 'Ennio', 'Enrico', 'Enzio', 'Enzo', 'Eraldo', 'Ermanno', 'Ermenegildo', 'Ermes', 'Ernesto', 'Ettore', 'Ezio', 'Fabio', 'Fabrizio', 'Fausto', 'Fedele', 'Federico', 'Federigo', 'Ferdinando', 'Filippo', 'Fiorenzo', 'Fiorino', 'Flavio', 'Francesco', 'Franco', 'Fredo', 'Fulvio', 'Gabriele', 'Gaetano', 'Galasso', 'Gaspare', 'Gastone', 'Gavino', 'Gennaro', 'Geppetto', 'Geronimo', 'Giacinto', 'Giacobbe', 'Giacomo', 'Giampaolo', 'Giampiero', 'Gian', 'Gian Carlo', 'Gianantonio', 'Giancarlo', 'Gianfrancesco', 'Gianfranco', 'Gianluca', 'Gianluigi', 'Gianmarco', 'Giannantonio', 'Gianni', 'Gianpaolo', 'Gianpietro', 'Gilberto', 'Gino', 'Gioacchino', 'Gioachino', 'Gioele', 'Gioffre', 'Gionata', 'Giordano', 'Giorgio', 'Giosuè', 'Giovanni', 'Giovanni Battista', 'Girolamo', 'Giuliano', 'Giulio', 'Giuseppe', 'Giustino', 'Goffredo', 'Graziano', 'Greco', 'Guarino', 'Guglielmo', 'Guido', 'Gustavo', 'Hugo', 'Ignazio', 'Ippazio', 'Ivan', 'Ivo', 'Jacopo', 'Lamberto', 'Lando', 'Laureano', 'Lazzaro', 'Leonardo', 'Leone', 'Leopoldo', 'Liberato', 'Liberto', 'Livio', 'Lodovico', 'Lorenzo', 'Lotario', 'Luca', 'Luchino', 'Luciano', 'Lucio', 'Ludovico', 'Luigi', 'Manuel', 'Marcantonio', 'Marcello', 'Marco', 'Mariano', 'Mario', 'Martino', 'Martino', 'Massimiliano', 'Massimo', 'Matteo', 'Mattia', 'Maurilio', 'Maurizio', 'Mauro', 'Michelangelo', 'Michele', 'Micheletto', 'Michelotto', 'Milo', 'Mirco', 'Mirko', 'Moreno', 'Nanni', 'Napoleone', 'Niccolò', 'Nico', 'Nicola', 'Nicolò', 'Nino', 'Nunzio', 'Omero', 'Orazio', 'Oreste', 'Orlando', 'Osvaldo', 'Ottavio', 'Ottone', 'Pandulf', 'Panfilo', 'Paolo', 'Paride', 'Pasqual', 'Pasquale', 'Patrizio', 'Pellegrino', 'Peppino', 'Pier', 'Pierangelo', 'Piergiorgio', 'Piergiuseppe', 'Pierluigi', 'Piermaria', 'Piero', 'Pierpaolo', 'Piersanti', 'Pietro', 'Pompeo', 'Pomponio', 'Puccio', 'Raffaele', 'Raffaellino', 'Raffaello', 'Raimondo', 'Ranieri', 'Rembrandt', 'Renzo', 'Riccardo', 'Ricciotti', 'Rino', 'Roberto', 'Rocco', 'Rodolfo', 'Rolando', 'Roman', 'Romeo', 'Romolo', 'Ronaldo', 'Rosario', 'Ruggero', 'Ruggiero', 'Sabatino', 'Salvatore', 'Salvi', 'Sandro', 'Sante', 'Santino', 'Saverio', 'Sebastiano', 'Sergius', 'Severino', 'Silvestro', 'Silvio', 'Simone', 'Stefano', 'Tazio', 'Telemaco', 'Temistocle', 'Tiziano', 'Tommaso', 'Toni', 'Tonino', 'Tonio', 'Torquato', 'Tullio', 'Ubaldo', 'Uberto', 'Ugo', 'Ugolino', 'Umberto', 'Valerio', 'Venancio', 'Vincentio', 'Vincenzo', 'Virgilio', 'Vito', 'Vittorio', 'Vladimiro', 'Wladimiro', 'Zanobi']\n",
    "last_names = ['Rossi', 'Russo', 'Ferrari', 'Esposito', 'Bianchi', 'Romano', 'Regio', 'Ricci', 'Marino', 'Lupo', 'Lastra', 'Bruno', 'Gallo', 'Conti', 'De Luca', 'Mancini', 'Costa', 'Giordano', 'Rizzo', 'Lombardi', 'Moretti']\n",
    "middle = ' was a Venetian '\n",
    "occupations = ['Acrobat', 'Alchemist', 'Apothecarist', 'Architect', 'Astrologer', 'Armorer', 'Artist', 'Baker', 'Barrister', 'Bookbinder', 'Bowyer', 'Basket Weaver', 'Blacksmith', 'Brewer', 'Brick Layer', 'Butcher', 'Calligrapher', 'Candlemaker', 'Carpenter', 'Cartographer', 'Charcoal Burner', 'Clerk', 'Clothier', 'Cook', 'Coppersmith', 'Cooper', 'Diplomat', 'Dyer', 'Engineer', 'Engraver', 'Falconer', 'Farmer', 'Fisherman', 'Fishmonger', 'Forester', 'Fortune-Teller', 'Fruitier', 'Fuller', 'Furrier', 'Glassblower', 'Goldsmith', 'Grocer', 'Gardener', 'Grain Merchant', 'Grave Digger', 'Haberdasher', 'Herald', 'Herbalist', 'Hunter', 'Inkeeper', 'Interpreter', 'Jester', 'Jeweler', 'Lacemaker', 'Leatherworker', 'Locksmith', 'Mason', 'Mercer', 'Miller', 'Minstrel', 'Messenger', 'Miner', 'Moneylender', 'Navigator', 'Needleworker', 'Painter', 'Pardoner', 'Peddler', 'Priest', 'Physician', 'Playwright', 'Politician', 'Potter', 'Rat Catcher', 'Sailor', 'Scribe', 'Servant', 'Shipwright', 'Shoemaker', 'Silversmith', 'Solicitor', 'Soapmaker', 'Stoncarver', 'Storyteller', 'Spy', 'Tanner', 'Towne Crier', 'Vintner', 'Washer Woman', 'Waterman', 'Weaver', 'Wet Nurse', 'Wheelwright Wood Carver', 'Woodworker']\n",
    "end = '. [SEP] '\n",
    "\n",
    "def generate_random_fake_bio():\n",
    "    import random\n",
    "\n",
    "    prompt = random.choice(first_names) + ' ' + random.choice(last_names) + middle + random.choice(lower(occupations)) + end\n",
    "    return generate_fake_bio(prompt)"
   ]
  },
  {
   "cell_type": "code",
   "execution_count": 8,
   "metadata": {},
   "outputs": [
    {
     "name": "stdout",
     "output_type": "stream",
     "text": [
      "Gavino Lastra was a Venetian Storyteller. [SEP]    He was born in Venice, the son of Tommaso and Amelia Gordino. Tommaso began his story-telling at an early age. One of his first jobs was as a scribe for Cardinal Francesco Barberini. Tommaso then worked for the court of Cardinal Francesco Baldissera Bartolomeo Cornaro and finally for Cardinal Francesco Sixtus IV.    Tommaso developed a style which was very much in keeping with the literary standards of his time. His diction was often accurate, but his sentences often convoluted or garbled. His syntax was also very much in keeping with the times, having become much more complex than it was before. He used many compositional devices, and his plots often felt as though they were entirely planned out.    Tommaso first gained prominence as a writer in the mid-18th century.  Between the years 1775 and 1805, he wrote several manuscripts, mostly on religious and mythological topics, for the Venetian Academy. These works were edited by Francesco Bembo, who would later publish the same year's collection of his work. He also wrote a poem on the poisoning of the Doge Francesco Foscari in 1783, although it is unclear if the poet was referring to Tommaso's work, or to Bembo specifically.  After traveling through Europe, Tommaso settled in 1807 in Venice, where he became a member of the editorial staff of the Venetian Inquisition. He became a professor there from 1830 to 1831. He was a regular contributor to the \"Nuovo libro\" (the libretto for a religious work), and also wrote \"de libris dignissimo\" (de libris dignissimo), \"De nominatore eius nimium dignissimum\" (The names of the dignitaries who made a title out of the mundi of the gods) and \"De eodem natura magnetis\" (De eodem natura magnetis, the magnet of the gods).     In 1812, Tommaso was elected to fill a prominent professorship in Padua. He was appointed professor of literature and letters at the University of Padova from 1813 to 1821.    In 1826, he was elected, with the title of \"Bishop of Brixen\", to the professorship of the Jesuits at the University of Vienna. He held this post until his death, and could not be replaced. Tommaso was the intellectual center of the Austrian Hinterkranz. He was the intellectual instigator of the \"Brixen school\" (Austrian: Brixenia, German: Brunn im Europäischen Gesang, Latin: Bonifacio in Alcinous). The Hinterkranz was one of the three branches of the Austrian monarchy that was held in abeyance during the Napoleonic era. The other two were the Hinterkranz in Neuburg and the Neuburg Hinterkranz. The establishment of the \"Brixen school\" at Vienna in 1848 was largely due to the influence of Tommaso. Among other members of the Brixen family, his successor was Karl Joseph, Grand Duke of Austria.    Tommaso's influence was felt in the establishment of the Hinterkranz in Neuburg. The Hinterkranz there was a separate institution from the university and its branches, which included the \"Saumatarkranz\" (German: Kranzgarden), the \"Verwiriker\" (Kulturiker), and the \"Gesag\" (\"Guardian\"). The chief students were Frederick August II, the Prince-Bishop of Cologne and the \"Pagani\" (Pagani were from Palazzo Sagio). Tommaso was one of the supporters of the former.    Tommaso's influence was felt in the creation of the \"Orfelin Museum\", located in the old Palace of Schloss Spitznagel near Karlsruhe. The Orfelin Museum was named after him.              \n"
     ]
    }
   ],
   "source": [
    "print(generate_random_fake_bio())"
   ]
  },
  {
   "cell_type": "code",
   "execution_count": null,
   "metadata": {},
   "outputs": [
    {
     "name": "stdout",
     "output_type": "stream",
     "text": [
      "Rosario Rizzo was a Venetian Servant. [SEP]      He was born to a Venetian family in Padua, the son of Giambattista Rizzo and his wife Cecilia Contarini. His father was Giovanni Rizzo, a lackey of the Medici family, and his mother was Cecilia Morosini. He was educated at Padua and received at Padua the higher mathematics and humanist education. He was admitted to the University of Padua in 1717.He is believed to have accompanied his father to Florence in 1717, but in that year moved to Venice, to work as a tutor for his brother Bernardo.    In 1718, he took a position as a teacher at the University of Florence. On 2 July 1719, he accepted an appointment as a lecturer at the University of Padua, where he taught mathematics to Francesco Foscari, Giovanni Battista Piazzetta, and Antonio Sdzinski. In 1722, he was appointed as a professor of mathematics to the Università degli Università degli Studi e Latteschi in Venice, and he was a lecturer at the University of Padua the following year. He lectured on mathematics with Giuseppe Maria Barbieri, Carlo Antonio Foscarini, Ludovico Lazzari, and Francesco Hayez (1725–1784). He also lectured on physics with Francesco Lazzari and Andrea D'Avila (1725–1787). He participated in the design of the Lyceum of Venice, with Giovanni Antonio Baio, and the creation of the Accademia degli Storico, a teaching college for Venetian artists. He died in Venice in 1722.   \n",
      "Piergiuseppe Lupo was a Venetian Spy. [SEP]    In Venice, he was a spymaster.    He was a Venetian citizen from 1431 to 1445. He had three brothers who were all important in the Venetian state. They were Marco, Alvise and Jacopo. His father was the Venetian ambassador to the Duke of Milan. He was the first of four sons from his first marriage to Cecilia Formosa, a Venetian patrician. His brothers all died in the chaos of the Second Ottoman–Venetian War. He married five wives, the most important of whom being Celso Dandolo, who became the Doge of Venice from 1365 to 1390.    He was a polyglot, with evidence of French influence, including a scroll to Marcantonio de 'Passeri of Paris dated from 1420 and a scroll dated 1422-1423 from the same city. In medieval sources he is styled as \"Jacopin Dargeli\". He appears to have been educated by the local Venetian academy, the  Pontificio Venetici  (1415–1516), and had at least a bachelor's degree in philosophy and epistemology.    He was the first to ask rhetorically whether God was created in the  Second Vatican Council, a debate that lasted more than two hours and resulted in the famous paradox of the superiority of the dogmatic or fide over the practical or practical sciences.  He is noted for his ability to refute various dogmatic points of the Dominican theologian Bernardino Grillo, whose position he later also took.  He had a long-term relationship with the legendary Italian Cardinal Baldassare Cossa, whom he married and which gave him the opportunity to study theology more closely, as well as to work on the development of his own pastoral theology.  The influence of this figure can be seen in his later style, including in the setting of hiss writings of the complex dogmatic theology of the Italian Dominican Church, a subject for later development.  His writings also reflect the influence of the writings of Giovanni Dolfin, the earlier theologian into gnosticism, the more strongly iconoclastical the better.    He was active in the Italian and the regional churches during the Renaissance. In the late 15th century, he and his followers of the traditional Aristotelian Christian theology were active in the Reformation, particularly in Germany.     He died in Venice.   \n",
      "Sergius Russo was a Venetian Basket Weaver. [SEP]    He was born in Venice,  the son of Stefano Russo and Chiara Delfino. He was the son of the French Hugues de Rossi and Juliette Delfino.He was active in Venice from 1769 to 1796, and in 1797 he was elected a member of the Accademia di Belle Arti di Venezia. He was a procurator of the Academy and a professor of sculpture at the Accademia. He died in Venice. His brother was the famous sculptor Giuseppe Russo.   \n",
      "Rino Regio was a Venetian Artist. [SEP]    He was born in Venice, and was educated at the Academy of Fine Arts, Venice. He painted a  St Jerome for the church of San Marco, Venice. He painted an altarpiece for the monastery of Santa Maria dei Servi Lolin, Brescia. He painted an altarpiece for the church of San Giovanni Crisostomo in Padua. He painted a Madonna del Roseto for the church of the Holy Family, Padua. He painted an altarpiece for the monastery of Santa Maria del Roseto in Padua. He painted an altarpiece for the altar of the church of Santa Maria della Salute in Padua.He painted an altarpiece for the church of Santa Maria del Roseto in Padua. He painted an altarpiece for the altar of the church of Santa Maria della Salute in Padua. He painted an altarpiece for the church of Santa Maria della Salute in Treviso. He painted an altarpiece for the church of Santa Maria della Salute in Treviso.    He was influenced by the style of Giovanni Bellini and Andrea Mantegna. He painted a Madonna of Florence for the church of Santa Maria della Salute in Treviso. He painted an altarpiece for the church of Santa Maria del Roseto in Treviso. He painted a Madonna of Urbino for the church of Santa Maria della Salute in Treviso. He painted an altarpiece for the church of Santa Maria della Salute in Treviso. He painted an altarpiece for the church of Santa Maria del Roseto in Treviso.      He died in Venice.   \n",
      "Alfredo Russo was a Venetian Falconer. [SEP]    He was born in Venice,  his father was Giovanni Antonio Russo, a rich grain merchant. He was a regular at the games at the San Michele Venetian, and after leaving there in 1785, he was more noticed for his athletic achievements than for his wealth. In 1796, he married Maria Giovanna Contarini, daughter and sister respectively of two of the richest men in Venice, both of them extremely wealthy, and had three children:   Alvise, married to Laura Contarini, nicknamed the 'Lady of Tennis' (1796–1799), followed by Francesco, married to Vittoria Contarini (1797–1801), followed by Alvise, married to Caroline Battaglioli, nicknamed the 'Lady of the Flay'    In 1806, he was elected member of the Accademia di Belle Arti di Venezia, winning the chair for the major, and in 1808, he and his brother were recognized by the title of professor of the art of painting. He was awarded a medal by the King for his service to the Holy League of 1806. In 1808, he was elected member of the Academia di Belle Arti di Venezia, and in 1811, member of the Great Council. He was awarded a medal by the King for his service to the Republic of Venice. In 1812, he was elected member of the Council of Ten. In 1816, he was elected member of the Accademia di Belle Arti di Venezia. He was appointed member of the commission on 'An Art of the City of Venice', awarded a medal by the King, and member of the Accademia of Bergamo from 1818 to 1821. In 1819, he was a member of the Accademia di Belle Arti di Venezia. In 1820, he became member of the Great Council. In 1822, he was elected member of the Council of Ten. In 1824, he became member of the Accademia di Belle Arti di Venezia, and member of the Accademia of Milan from 1825 to 1829. In 1825, he became member of the Accademia of Bergamo. In 1826, he was elected member of the Great Council, and member of the Council of Ten from 1826 until 1828. In 1828, he became member of the Council of Ten.    In 1824, he was elected member of the Council of Ten. In 1828, he was elected member of the Council of Forty. In 1829, he was elected member of the Great Council. In 1831, he was elected member of the Council of Ten. He was member of the Accademia of Bergamo from 1833 until 1834.In 1834, he was elected member of the Senate of Venice, and member of the Great Council for the Scuola Grande di San Marco from 1835 until 1836. In 1836 he was elected member of the Council of Twelve. In 1838, he was elected member of the Great Council.    In 1841, he was elected member of the Great Council of Ten. He served as Provveditore of Venetian Dalmatia twice, in 1843 and 1848. In the latter capacity, he organized the Scuola Grande di San Marco and organized the Scuola Grande di San Marco di Nona (Great Council) to address pressing social and political issues of the time. He was elected member of the Venetian Senate for the Venetian Republic from 17 December 1806 until 1810.    In 1813, he was appointed member of the Great Council of Ten. He served as Provveditore General of Venetian Dalmatia once more, in 1814, then member of the Great Council of Ten. In the latter capacity, he organized the Scuola Grande di San Marco and organized the Scuola Grande di San Marco di Nona (Great Council) to address pressing social and political issues of the time. He was elected member of the Venetian Senate for the Venetian Republic from 17 March 1821 until 1823.    In 1821, he married the beautiful Maria Loredan, nicknamed the 'Lady of Tennis', daughter of Federico Loredan and who had a sister, Laura, who was also a tennis player. She and her husband went to Venice together in 1809, and he was elected member of the Great Council of Venice in 1813. In 1821, he became member of the Council of Ten. In 1823, he was elected member of the Great Council.     In 1824, he was elected member of the Great Council once more, in 1827, member of the Council of Ten. In 1828, he was elected member of the Council\n"
     ]
    },
    {
     "name": "stdout",
     "output_type": "stream",
     "text": [
      "Cirillo Lombardi was a Venetian Barrister. [SEP]    He was born in Venice, the son of Tommaso Lombardi and Theresa Novelli. Tommaso was a man of humble origin, born into a family of average wealth. Theresa Lombardi's father was a handicrafts merchant who did not want his son to pursue a career in Venice. Tommaso was not educated, and had to rely on his wife's knowledge. He began his legal studies at the University of Padua, where he obtained a law degree. In 1714, he entered the Venetian Senate, where he was the most senior member and the most influential. In his previous positions, he had to work for the Republic of Venice, because the Republic of Venice did not recognize the position of Senatearian. He was the Senatearian for the Serenissima, and later for the Republic of Genoa. After the revolution of 1618, he acted as treasurer to the Serenissima. He had to repay that relationship with Genoa, however, because of the actions of his predecessor, the Serenissima became allied with the British Crown, and the Venetian Senatearianship was taken over by the British Crown. In 1716, he became a member of the Board of Directors of the National Gallery of Art, where he became a member of the Council of Ten. In 1718, he was appointed Provveditore (commissioner, or official organiser) of the Venetian Arsenal. He took over the management of the Venetian Navy from his predecessor, the infamous Venetian scion of Bergamo, and was appointed Commander of the Fortress Veneto (Venetian quarter) in 1722. He was appointed as Venetian Ambassador to the Spanish court in Madrid, and later as Savio Veneto (vice-doge) in 1725.    In 1724, he was appointed Provveditore (commissioner, or official organiser) of the Venetian Arsenal. He took over the management of the Venetian Navy from his predecessor, the infamous Venetian scion of Bergamo. Tommaso died in 1732.     List of Venetian senators   \n",
      "Edoardo Regio was a Venetian Grain Merchant. [SEP]     He was the son of a noble family from Venice, and was educated at Padua. He began his career as a merchant, but later acquired a professional career as a courtier. In addition to numerous degrees, he held various public offices, including bailo of the Doge's Treasury, bailo of the Venetian Bank of Commerce, bailo of the Bank of England, and bailo of the Bank of France. In the last position he was placed in charge of all the foreign exchange transactions at the Bank of England. When the Panic of 1712 broke out, he was the first to lend money to the Bank, and soon received considerable experience in the business of money. In addition to his many other offices, he was entrusted with the management of the Venetian stocks. When the panic subsided, he was allowed to return to trading, but only after paying a penalty of 100 per cent. of his previous losses. During the Panic, he was the first to renegotiate with the British government, in order to find a solution to the problem of currency, in exchange for which the British would allow him to temporarily to operate a pound bank at one of their colonies in Cyprus. The negotiations lasted some months and the Treaty of Leoben was signed on 5 May. At that time, he also operated a bank in Nicosia, where his employees relied for their livelihood.      He died in Venice on 3 August 1611. He was the last person to hold the office of bailo of the Venetian Senate, which was a prestigious position, and one of the few remaining to do so in the Republic of Venice. The bailo of the Senate was a member of the zonta, a community of Venetian patricians that formed the backbone of Venetian government. The bailo of the Senate was also known as the bailo de cole. Bailo de Cole was the Venetian equivalent of a Chancellor.As one of the few remaining Venetian office holders with this title, Dandolo was often given the title of ducal candidate.    Dandolo was the last Venetian to hold the office of bailo of the Senate. This title was granted to the last Venetian official to hold the office in 1278, when the bailo of the Senate was abolished and its office replaced with that of the Doge.     As one of the few remaining Venetian office holders with this title, Dandolo was often given the title of ducal candidate.                             List of Venetian Bailo de Cole   \n",
      "Nanni Moretti was a Venetian Mason. [SEP]  The was elected to the American Council of Catholic Bishops in 1712 to continue the work of the American Congregation of the Canons of 1710-15. He served also as the Congregation for the Propagation of the Faith and was the Director of the Congregation of the Propaganda Beatus. He was one of the seven cardinals called to consecrate the Roman Missa in 1734. He was also the director of the Roman Missa in 1735 and 1737. He was one of the seven cardinals called to consecrate the Roman Missa at the same meeting in 1738. He was also one of the seven cardinals called to consecrate the Roman Missa in 1739.  He served also as the Director of the Roman Missa in 1746 and 1748.    Giacomo Moretti was born in Venice in 1620 to Silvestro Moretti, a Venetian carpenter and silkier. Moretti began his education under the influence of his father, who had been a lawyer and considered ecclesiastical. Moretti studied classics at the University of Padova and later earned a doctorate in canon law at Padua. He joined the Dominican Order in 1718 and began to preach in the basilica of the Church of the Padri in Venice.In 1725, he was appointed the abbot of the Benedictine Abbey of Brixen in Meister near Nevers. Moretti had been a Freemason since 1722, and was formally organized in the lodge in Brixen in 1726. In 1729, he received ordination to the order. In 1731, he was appointed as the abbot of the Franciscan Abbey in Pordenone. In 1732, he entered the Congregation of the Canons of Rome.    Pope Clement XIII elected Moretti as one of the seven cardinals called to approve the nomination of Pope Innocent X. He was one of the eight cardinals called to approve the nomination of Pope Pius IV.               Giacomo Moretti was elected as the Archbishop of Venice in 1731, and was confirmed thereupon.    Giacomo Moretti was elected as the President of the Republic of Genoa in 1733, and was confirmed thereupon.      In 1734, he was elected to the seat of the Congregation of the Canons of Venice.    In 1735, he was appointed Colonel of the Republic of Genoa, and was ordered to take part in the campaigns in the Italian States.    In 1736, he was elected as the Vice-Chancellor of the Republic of Venice.    In 1738, he became a member of the Board of Directors of the Bank of Venice.    In 1740, he became a member of the Board of Directors of the Bank of Biscayne, and was re-elected to the same office in 1742.      In 1741, he became a member of the Board of Directors of the Bank of Naples, and was re-elected to the same office in 1743.     In 1742, he became a member of the Board of Directors of the Bank of Biscayne, and was re-elected to the same office in 1744.    In 1743, he became a member of the Board of Directors of the Bank of Naples.     In 1744, he became a member of the Board of Directors of the Bank of Venice, and was re-elected to the same office in 1746.    On 8 November 1743, he was appointed to the post of Colonel of the Republic of Genoa by Pope Clement XII.  He held this position until the end of the war in 1748, when he was appointed as the Colonel of the Imperial army.  He held this position until the end of the war in 1754, when he was promoted to the rank of major.  He was promoted to the rank of major general in the Spanish Army in 1757.  He held this rank until the end of the war in 1760, when he was promoted to the rank of brigand commander.  He was promoted to the rank of general in the Spanish Army in 1764.  In 1768, he became a captain in the Spanish Army.  In 1771, he became a military governor of the Kingdom of Naples.  In 1775, he became a member of the Board of Advisors to the Spanish Ambassador to the Vatican.  For this position he was paid 50 ducat and clothing.  In 1782, he became a member of the Board of Directors of the Bank of Venice.  In 1783, he was appointed Vice-Chancellor of the Kingdom of Naples.  In 1784, he became a\n"
     ]
    },
    {
     "name": "stdout",
     "output_type": "stream",
     "text": [
      "Ciro Bianchi was a Venetian Cartographer. [SEP]   \n",
      "Giovanni Lastra was a Venetian Candlemaker. [SEP]     Giovanni Lastra was born in Venice on January 1, 1513. He began his apprenticeship with Andrea Mantegna, who would be his master for the next thirty years. The origin of his style is unclear; his work appears to stem from a late 15th-century design, but was influenced by various design traditions of the time. For his own part, Mantegna produced numerous illuminated manuscripts, with titles such as Santo Domini Lamentatura,  Lamentation on the  Destruction  of the  Temple of Solomon   and  La fanti nobili  (The Martyrdom of Solomon, liturgical text, liturgical text, and   title, with  illustrations).   \n",
      "Delfino Conti was a Venetian Clothier. [SEP]    He was the son of Giacomo Dolfin and Elisabetta Conti. He was composer to the pianoforte by his uncle Giovanni Dolfin, and also wrote madrigals.    In Italy, he wrote two sets of twelve madrigals for four strings, published in 1824 and 1826, and also published several albums of madrigals.   \n",
      "Gustavo Romano was a Venetian Fuller. [SEP]     He was born in Venice in 1666. His father was Giovanni Antonio Grimani. Around 1675, he was employed as a papal legate in Dalmatia and as such, was very familiar with Venetian history, culture and history. In 1679, he was employed as podestà of Bologna and thus, had an even greater appreciation for the beauty of Venice. In 1685, he was appointed governor of Friuli. He was married to Cecilia Contarini and had three daughters and five sons.    He moved to Venice in 1687, where he became a Venetian citizen. From 1693 to 1700, he resided in the Palazzo Loredan.    He was the husband of Cecilia Contarini.    He attended the  Academy of Fine Arts in Venice from 1695 to 1700.He was member of the Academy of Sciences from 1701 to 1703.    He collaborated with architect Carlo Bevilacqua in the decoration of Villa a Torcello in Venice. Bevilacqua produced a series of paintings depicting allegorical female figures (e.g. Minerva, Diana, Aurora) for the Palazzo.    He designed the facade of Villa a Torcello, Venice, and was responsible for decoration of the Balla d'Oro, Villa Moschema and Palazzo Pittoni-Palazzo Belloni-Trevisan. He was the architect on the renovation of Palazzo Pittoni-Trevisan from 1704 to 1708. He was the architect and chief decorator of the Palazzo Pittoni-Trevisan, Venice from 1705 to 1710. He designed the decoration of the ballroom of the Palazzo Pittoni-Trevisan from 1706 to 1709. He was responsible for decorations of the Palazzo Pittoni-Trevisan, Venice from 1708 to 1710. He was married to Cecilia Contarini, and had three daughters and five sons.      \n",
      ".\n",
      "Giorgio Lupo was a Venetian Armorer. [SEP]      He probably died in the early 16th century.   \n",
      "Gustavo Giordano was a Venetian Carpenter. [SEP]    Giordano was born in Venice in 1531. He was a pupil of the highly respected Lodestar Fonte in Venice. In 1546, Giordano was sent to the court of the emperor Ferdinand I of Poland at the time of his coronation. There, he supervised the decorating of the palace of the Polish king, Sigismund of Poland. Giordano again spent time in Poland between 1547 and 1549, for which he is known best by a design commissioned by the Polish court. He is also known to have designed curtains for the Polish royal palace, Kraków. In 1552, Giordano to Surinam, for whom he provided decorations and designs for a restoration of the Ducal Palace of Amsterdam. Giordano's designs for the restoration of the Palazzo Loredan were also used in the restoration of the palace of Vanzetti in Venice in 1587.    In 1568 Giordano was appointed by the Pope to the position of Consecrator of the Vatican Basilica. As Consecrator, Giordano was responsible for the decoration of the papal chapel of St Peter, the ceiling of the papal chapel of St Peter and the ceiling of the papal chapel of Santa Maria della Salute. He was also responsible for the decoration and utensil-dressing of the papal chapel at Santa Maria della Salute, and for the decoration and utensil-dressing of the papal chapel at Belluno.    In 1579 Giordano was appointed Provost of the Academy of Sciences of Venice. He served as Provost of the Academy from 1581 to 1589.From 1590 to 1596, Giordano was a member of the board of governors of the Accademia di Belle Arti di Venezia. From 1596 to 1602, he was a member of the board of governors of the Bologna library. In 1602, he became a member of the board of directors of the Bologna academy. From 1602 to 1606, he was a member of the board of governors of the Accademia di Belle Arti di Venezia. From 1606 to 1612, he was a member of the board of governors of the Bologna house.    From 1612 to 1618, Giordano was a member of the board of provveditore of the Accademia di Belle Arti di Venezia. From 1618 to 1622, he was a member of the board of governors of the Accademia di Belle Arti di Venezia. In 1622, he became a member of the Audit Committee of the most powerful court in Rome, the Scuola della Salute. He was appointed a member of the Council of Ten in 1624, and participated in the last year of the war between Venice and the Papacy. He died in 1625.    Giordano was a prolific author of secular and philosophical treatises, including On the Nature and Significance of Things, which was published posthumously in 1635; and  Etymologicum Magnum in Christoph II (Sicut corno ego) (Sicut eruditionis, sicut  eruditionis), which was published posthumously in 1637. Giordano died in Rome in 1625.        \n",
      "Costantino Ferrari was a Venetian Politician. [SEP]    The son of the influential Venetian family of the Ferrari, Inc., he was a member of the Venetian College of Bishops. He was the brother of Domenico Ferrari, who was a Cardinal. The family of the founder of the family owned the most important property on the Brixen peninsula, which at that time housed the remains of many famous Renaissance artists, including Michelangelo, the father of Gregorio Ferrari, the master of the workshop of Hieronymus Bosch, and the founder of the Fine Arts Academy of Mantua, the same year as Domenico. He was a member of the powerful Council of Ten in the late 13th century and held several high office positions including Bailo of Navigajaro, bailo of Bergamo, bailo of Bologna, bailo of Parma, and bailo of Urbino. He was Chancellor to the Doge of Venice from 1224 to 1230. In his many subsequent posts he was bailo of numerous other states. During his tenure as bailo of Venice, he oversaw a dramatic expansion of the Venetian navy, which had been a distant memory in the history of the republic. In 1282 he was bailo of Ferrara, who at that time were stationed at Parma, Udine, Bologna, and Memmo. In his role as bailo of Bologna, he secured important commercial agreements with the states of the Venetian Archipelago. In particular, he concluded a complex commercial agreement with the Byzantine emperor Basil II for the construction of a new fortress at Dalmatia called Byzantium. In 1283 he was bailedo of Piacenza, who at that time were stationed at Chiron, Piacenza. He led a major Venetian crusade against the Byzantine Empire in 1281. During his tenure as bailo of Piacenza, he oversaw a significant expansion of the university system at Padua. In 1283, Venice was admitted to the  Collegio Romano, a prestigious academic setting. The university system at Padua was one of the most important intellectual environments of the time.    During his tenure as bailo of Piacenza, Domenico Ferrari strengthened the ties with Rome through a complex marriage of the patrician republic with the Byzantine Empire. Between 1282 and 1283 he was Chancellor to the Doge of Venice. In this capacity he coordinated the relations between the Florence Renaissance and the Byzantine Emperors, who also lived near Piacenza. Florence and Byzantium were considered rival cultural centers, so the alliances were often made with them. Domenico Ferrari worked to further the unity of the Venetian church and monastic communities. This was accomplished through various policies, such as the creation of the Venetian Inquisition, the creation of the Patriarchate of Aquilea, the reformation of the ecclesiastical laws and the creation of the Camaldolese order. In 1293 he was created bailo of Ferrara. In this capacity he oversaw the construction of the new basilica of St. Peter on the island of Murano. The basilica had been commissioned by Ferrarese architect Paolo Lazzari. The basilica had been partially completed by 1292 and was ready for the beginning of the Second Atonement in 1295. The basilica was an important element in the relations between the Byzantine Empire and the Vatican, as it housed the remains of the church of St. George and the church of Saint Mark. The emperor transferred the burial place of Christ to this church.Domenico Ferrari died in 1297.   \n"
     ]
    },
    {
     "name": "stdout",
     "output_type": "stream",
     "text": [
      "Silvestro Gallo was a Venetian Storyteller. [SEP]    He was a librettist and masquerades as a clown in order to trick the people of Venice into believing he is actually a librettist. He also changes his appearance depending on the mood of the moment. His libretti are humorous in nature, and often have a dramatic structure, so that the audience is left with the feeling that the author is actually amused. He is considered to be one of the three great storytellers of Venice, alongside Francesco Mosconi and Giovanni Francesco Bembo.    He died at Venice in  1703.   \n",
      "Adamo De Luca was a Venetian Servant. [SEP]    He was born in Venice, the son of Giovanna Morlaiter and her husband, the Captain general of the Sea Francesco Morlaiter. He served as a soldier in the wars of the Bourbons and the Papacy, and participated in the negotiations that led to the Treaty of Piacenza. In 1694, he was appointed governor of Venice, and held that office until 1702, when he was elected as doge. He was a puppet of the Republic of Venice, and was never able to exercise complete control over his local affairs, which was a cause of much dispute between Venice and the Papacy. The dispute was resolved in 1715 by the intervention of the Duke of Mantua, who was a Venetian vassal. In the Treaty of Piacenza, the Papacy was excluded from Venetian territory, and De Luca was forced to sign a treaty with the Republic to avoid this forfeiture.In 1697, he was invited by the King of England to attend the coronation of King Charles I of England. At the coronation, De Luca pretended to be the legitimate vicar of Venice, and was received by the King as such. At the time of his attendance, De Luca was the official representative of the Venetians in England. In his role as vicar, De Luca was responsible for the proceedings of the English Barons, who had been given a quasi-independence by the English Common Law. The English had exercised absolute sovereignty over Venetian territory for centuries, and the Venetians had only nominal sovereignty, which allowed them to pass laws as they wished, but did not allow them to directly ordain bishops or rulers.The coronation took place during the carnival, which was celebrated as the feast of the Assumption. Many Venetian nobles, including some who had invested their families in the Plantagenet family, were present, including the Prince of Brixen, the Cretan War (1645–49), and the Papal candidate for the doge office of provveditore.           During the reign of John II, he was the most influential Venetian figure of the late 16th century.    On 14 March 1611, the Papacy was declared neutral in the ongoing Spanish-Italian War, which was being waged by the Spanish Republic and the Papal States against the Byzantine Empire. The papal declaration of war, signed in 1611, provided the Spanish Empire with a legal justification to wage war against Venice, which was accepted by the Spanish. The Papal Republic had been created in the twelfth century in response to the Spanish Empire's expansion in the Iberian peninsula. Its creation was preceded by attempts to create a Catholic state in Venice, which failed due to the opposition of Venice. From 1648 to 1690, the Republic of Venice played an active role in the military campaigns against the Ottoman Empire, which lasted from the 14th century to the early 16th century. In the papal bull of 1644, the Republic was given overarching political and military responsibility for the management of the papal States, which included Lombardy, Friuli, Merano, Crete, and Bergamo. Venice was also designated as a neutral party, and its role was simplified as it was no longer obligated to fight against the Papal States, which was the preferred option of most Venetians, who preferred to remain neutral. In the mid-17th century, the relationship between Venice and the Papacy began to change in the form of diplomatic missions and official positions. In the papal bull of 1715, Papal States were recognized as a form of Venetian jurisdiction, and the political alliance between Venice and the Papacy was cemented. In the same bull, the Papacy was given the legal right to recognize Venetian priests as priests of the jurisdiction of the Roman Catholic Church, and to grant their offices and recognition. The Papacy played an active role in the negotiations that led to the signing of the Treaty of Passarowitz, which ended the War of Euboeote Succession, and placed Venice in direct control of the League of Cambrai. The Treaty made Venice the legal ruler of the Venetian dominion in the Iberian peninsula.    Pope Clement VII created 31 cardinals in his reign (1638), which was the most number of any pope in the history of the Church. The number of papal candidates increased with the number of papal candidates accepted by the Spanish. In 1694, the number of papal candidates was down to 21. In 1701, it was up to 30. In this period, the number of cardinals increased from 33 to 39. The number of cardinals increased by five to 12 in the course of the 17th century, and the papal bull of 1725, the Apost\n",
      "Ippazio Gallo was a Venetian Pardoner. [SEP]    He started out as a youth pederast, keeping a very low profile. He was briefly a banker, and then entered the service of the Republic of Venice, where he earned the nickname, \"Madarolo\", or \"Madarolo the Venetian\". He served as a pederastic court physician to the Severans, and later worked as a diplomat of the Republic of Venice at the court of emperor Charles V (1531-1541).     In 1534 he married Domenico Mocenigo, a Venetian patrician who had relatives in Germany, and had Domenico enter the service of Venice. He was a pederast, and made frequent trips to Germany, in which time he married Constance of Nassau, with whom he had four children, and who was a court physician to the Severans. In 1536, he entered the service of the King of France, and became a member of the Nobles Corte of France. In 1540 he became a member of the Council of Ten, and was a contender for Doge of Venice. In 1546 he married Caterina Loredan, to whom he had inherited a collection of noble women's jewelry. In 1553 he became a member of the Council of Ten, and was elected as a Protonotary Apostolic. In 1557 he was appointed as podestà of Bologna. In 1560 he was appointed as podestà of Belluno, and by 1568 as podestà at Venice. In 1564 he was appointed as podestà at Vicenza, and by 1567 as podestà at Treviso. In 1570 he became a Protonotary Apostolic.    In 1574 he was elected as a Cretan ambassador to Venice. In 1579 he was elected Protonotary Apostolic, and by 1581 Bishop of Brixen. In 1582 he became a Cardinal, to which he was appointed by the Pope in 1583. In 1584 he became a lay member of the Roman Curia, and was elected as Patriarch of Aquilea, the last position of the Catholic Bishops in Italy.    In 1589 he became the first member of the Apostolic Council of Trent, seated during the trial of Pope Julius III. He was one of three cardinals who, on the death of Pope Julius III, were elected to the vacant chair of Archbishop of Salerno.         During the Thirty Years' War, he was a supporter of Louis XIV. In 1590 he was elected as a member of the Council of Ten, and by that means entered the innermostmost sanctum of the Catholic Church. On the death of Pope Julius III, he was elected as Bishop of Brixen, and later as Patriarch of Aquilea, the last position of the Catholic Bishops in Italy.          During the Thirty Years' War, he was a member of the Italian League of Cambrai. During the Seven Years' war, he was a participant of the Papal conclave of 1590-93. During this war he was a participant of the Papal conclave of 1594-96.    On 9 May 1596, during the Papal conclave of 1596, he was elected as Archbishop of Salerno, a position that was later filled by Pietro Beccarelli.    On 19 February 1597, during the Papal conclave of 1597, he was appointed as Bishop of Città Castello, another seat in the valley of Salerno.    On 26 March 1597, during the Papal conclave of 1597, he was elected as Pope Alexander VIII. He was elected as Pope in the first ballot of the Papal conclave of 1597, and was officially declared King of Rome on 19 March 1597.He was the son of a rich Venetian family, who, after a matriculation, became the nobility of Sixtus. He was the nephew of Domenico Sixtus IV, who was also a cardinal.    Alexander VIII had been elected by the popular assembly in March 1597, with 33 of the 40 cardinals voting for him.  Alexander VIII had been crowned and crowned with the title of \"King of the Romans\" by the newly elected Pope Julius III on 20 March 1597.  Alexander VIII was crowned with the title of \"Son of the Roman Emperor\" on 26 March 1597.    On 4 April 1597, he was appointed as Bishop of Città Castello, another seat in the valley of Salerno.    On 10 April 1597, he was appointed as Archbishop of Verona, another seat in the valley of Salerno.   \n"
     ]
    },
    {
     "name": "stdout",
     "output_type": "stream",
     "text": [
      "Piergiorgio Regio was a Venetian Weaver. [SEP]    He was born in Venice and was educated at the School of Orazio. He spent some time in Germany and France. He was in England by 1774. He was in England by 1796. He was in Germany by 1797. He was once again in England by 1812. He was in England by 1813. In 1814, he was in Scotland. In 1815, he was in France. He was in France by 1817. He was in Spain again in 1821. He was in England by 1827. He was in Spain again in 1828. He was in Italy by 1829. He was in Venice by 1832. He was in Italy by 1833. He was in England by 1837. He was in Scotland by 1838. He was in Scotland by 1839. He was in Italy by 1841. He was in England by 1844. He was in Italy by 1847. He was in Germany by 1849. He was in Germany by 1851. He was in Italy by 1854. In 1856, he was in England. He was in Germany by 1859. He returned to Spain in 1867.     He is also known as   Pardo de la Fornarina, Pardo dal Pardo, or La Fornarina. The Spanish translation of his name is unknown, although several variations of the name are known. He was the father of Andriasio Pardo.     Pardo was a noted artist and an important member of the Venetian painters guild. He was well known for his portraits and his silks, which were often embroidered with text with his portrait. His style developed a following associated with him as an influential stylist. Pardo's silk paintings are characterized by vigorous brushwork, with cool, almost silky, hues. His embroidery, on the other hand, is more colorful and dynamic, incorporating many patterns. It is a style rooted in the Neoclassicism, and its influence can be detected in the vibrant colors and textures of his silk paintings. His engravings are characterized by elegant presentation, but sophisticated composition.     Pardo was born in Venice in 1554; he had been an international student of the great masters Bernardo Strozzi and Giovanni Antonio Fasolo. He soon opened his own studio, which was soon followed by engravings and which became the inspiration for his silks, portraits and silk dresses. His first international clients were from England. He was to work on silks for many years after this period. Pardo was to influence the fashion in a number of ways. First, he was to influence the silk industry in Italy, which had been in a state of flux following Giovanni Suetonius' panic-spread panic-dressing of silkworms in Venice in 1551. The  development of the silkworm in the late 1550s was influenced by Pardo's work. Secondly, Pardo was to influence the fashion in England, which had been in a state of flux following Giovanni Suetonius' panic-spread panic-dressing of silkworms in 1551. The ostentatious opulence and materialism of the aristocratic class of clients soon led to a decline in clientele. The more lavishly decorated the shop, the more expensive the work, and the more directly the clientele were influenced by Pardo's style.    Pardo was to influence a variety of later masters, including Francesco Guardi, Pietro della Vecchia, Giovanni Battista Tiepolo, and Ludovico Ariosto. Pardo was to influence Filippo Negri.       Pardo's influence over the English court can be traced in the gowns and silks he produced while employed as a court painter in the Venetian Republic in the 1590s. The Kensington gown, now in the British Museum, was produced by Pardo in 1597 and is particularly notable for its geometric patterns and vivid colors. The silk dress was produced by Pardo and created a few years later. The intricate patterns and brightly colored silk make it one of the most prized pairs of silk dresses in the British Museum. It depicts the Queen seated on an elegant chair with her back to the viewer, with her arms around the shoulder of the man, whose back is turned away from the viewer. The silk dress has been dated to 1594 and is therefore very valuable. The ornate design recalls the pearls of the court of Charles I of England. The silk dress has been dated to 1597 and is therefore extremely valuable. The gold leaf in the brocade has been dated to 1594 and is therefore even more so. The pearls themselves were purchased from the British Museum.      In the silk dress, the Queen is depicted as a robust and commanding woman\n",
      "Giordano Ferrari was a Venetian Mercer. [SEP]     The family of the Venetian nobility was of humble origins, originating from Venice. The son of Giovanni Dolfin and Bianca Morosini, they had three branches:  the Dolfin family, which ruled the Venetian-held islands of Tirreno, Spalato and Corfu; the Morosini family, which ruled the Venetian-held islands of Spalato, Coloni and Crete; and the Badoer family, which ruled the Venetian-held islands of Negroponte and Corfu. Their three dukes were Giordano Dolfin, Federico Dolfin, and Francesco Dolfin.    The family held various positions from soldiers to bureaucrats, from judges to admirals to ambassadors. Giordano Dolfin was commander of the Venetian navy from 1587 to 1592. He participated in the Cretan War (1560–1564) against the Ottoman Empire, and was involved in the negotiations between the Republic of Venice and the Ottoman Empire. He was a participant in the peace negotiation between Venice and the Ottoman Republic in 1570.In 1571, he became a member of the Council of Ten. In 1572, he was appointed as podestà of Bologna. In 1583, he became a member of the Council of Ten. In 1586, he became a member of the Venetian Senate. In 1594, he became a member of the Ten. In this capacity, he supervised the construction of the new Ducal Palace, the Colonna d'Isole, and supervised the acquisition of the land of Palazzo Ducale for the Venetian state. He served also as a member of the Council of Ten.In 1594, he was appointed as Procurator of St Mark's. In this capacity, he oversaw the revision of the calendar, which had been put into effect in the Middle Ages; he recommended the appointment of a new Venetian Pope as a result of a conclave held in 1594; and he negotiated with Ottoman authorities on the exchange of citizens for Turkish prisoners.    In 1597, he was elected Governor of Belluno, followed by the resignation of his predecessor Federico Dolfin on account of his age, that is, on 19 April 1597. In 1598, he was appointed ambassador to Spain. In this capacity, he attempted to improve the relations between Venice and the Byzantine Empire. In this capacity, he met with Joan of Arc, who was a minor Venetian vassal; he also exchanged letters with Philip II of Spain, the son of the Byzantine emperor Alexios III Angelos. In 1599, he was appointed as bailo of Constantinople, and was involved in the administration of the Ottoman Empire. In 1600, he was appointed as bailo of Negroponte and was the guarantor of the cessation of the hostilities between Venice and the Ottoman Empire. In this capacity, he negotiated the end of the Siege of Durazzo.    In 1602, he was created bailo of Negroponte. This position was only valid for a short period of time, namely from 16 May 1602 until 27 July 1605. During this period, he was the administrator of the Venetian territories in the Duchy of the Archipelago and in the Venetian colony of Crete. In this capacity, he concluded a treaty with the Republic of Venice on 5 March 1605. He remained as bailo of Negroponte until the end of the war between Venice and the Ottoman Empire. In 1607, he was appointed bailo of Constantinople and was again the administrator of the Venetian territories in the Duchy of the Archipelago. He remained as bailo of Negroponte until the end of the war between Venice and the Ottoman Empire in 1616. In this capacity, he negotiated the restoration of the island of Euboea to the Venetians on 11 July 1616.     Following the death of the Duke of Negroponte, in 1613, in the Battle of Gallipoli, the Venetian fleet under Giordano Dolfin took over the overall command of the situation in Italy. This development was encouraged by the intervention of the Ottoman fleet under Mahmud Pasha in 1615. In the aftermath of the Battle of Traverset, Dolfin was elected the Doge of Venice. Under Dolfin, Venice employed several Ottoman officers during the more than three decades of Ottoman rule over Negroponte. These included Mehmed the Conqueror (1618–1624), who remains described as \"the most exemplary Ottoman war hero of the 16th century\" after defeating the combined fleet of Genoese, Venetian and Papal vessels.     Following his predecessor Giovanni Dolfin's death\n"
     ]
    },
    {
     "name": "stdout",
     "output_type": "stream",
     "text": [
      "Costantino Mancini was a Venetian Minstrel. [SEP]    He was born in Venice, belonged to the nobility of the city. He was a seeker after truth, in the service of the republic, and was initiated into the mysteries of the academy of Bologna. In 1597 he was professor of mathematics at the University of Padua, and in 1602, member of the Academy of Genoa. In 1612, he became professor in Padua, and was again appointed professor in 1615, for which time he was awarded a large salary and valuable employments. During the course of his time in Padua, he became acquainted with  the vineyard industry of Padua, and there collaborated in the improvement of the art of vine-garden.    In 1615, he became a chancellor (presidentium generale) of the University of Padua. In 1617, he became a member of the Council of Ten. In 1626, he became a member of the Council of Twelve. In 1630, he became a member of the Audit Council of Rome. In 1634, he became provveditore generale di Nivo. In 1636, he became a member of the Ten. On his election as a member of the Twelve in 1636, he was assigned the position of colonel (sopra) of the Venetian navy, which he accepted with great reluctance.  He was appointed to the post in 1638, and soon received the title of sopra di Terraferma. In 1640, he became a member of the Ten, and soon received the title of Procuratie. In 1642, he became a member of the Ten, and soon participated in the Third Council of the Republic. He participated in the Fourth Council of the Republic, and was elected to the post of provveditore generale di Terraferma, that is, in 1644, sopra di Venezia (superintendent generale da terraferma).    In 1644, he became provveditore generale di Terraferma (superintendent generale di subterranean fortification), which was in turn, in 1647, provveditore generale di Liberta (superintendent generale da subterranean fortification and construction), and finally, sopra di Venetia (superintendent generale da Venezia).  His tenure of each post was for a six-month period, during which he was entitled to accept foreign heads of state.  He resigned his position of sopra di Terraferma in 1646, and was succeeded by his son, Marco.        The Venetian navy was one of the most heavily armed in the world, and its standing in the early modern era was often questioned. Venice had been involved in many wars, and the response of its rulers and navies to the repeated invasions of the Ottoman Empire and the Holy Roman Empire was often tested and sometimes uneasy. In the early modern era, however, the Navy of the Republic was one of the few maritime states that did not directly interact with the Ottoman Empire. This was due to the Ottoman threat and the competing territorial ambitions of the Ottoman Empire and the Venetians, who were keen to maintain good trade ties with both countries. This was also a reason for the relative peace during the early republic. The Ottomans did however, occupy several cities on the Greek coast, and the Venetians, thanks to the proximity of the Greek islands to the Turkish coastline, were able to defend themselves and their colonies on the islands. This was an especially important advantage for Venice, which was mainly located on the southern side of the Aegean Sea from the Black Sea to the Levant. In the early republic, the Republic's military might was further demonstrated by the Byzantine defeats at the Peloponnese and the siege of Constantinople. The Byzantine fleet was also beaten off by the Persian navy under Selassar, and then by the Turkish navy under Vasily I. The conflict was ended after Selassar surrendered, with the latter conquering the Byzantine capital of Constantinople. In the aftermath of the surrender, Selassar was forced to abdicate, and the Venetians, who had been forced to negotiate with the Ottomans, were left to govern the islands themselves. In the end, the Venetian-Ottoman peace was signed in 1644, and the Venetians took possession of Negroponte, the last island of the Venetian dominion.             Marco Gradenigo (1631–1691) was a Venetian nobleman, the last major noble in the Duchy of the Archipelago, from 1684 to his death in 1691. He was the son of Giovanni Gradenigo and his wife, both of whom were Venetian noblewomen. Marco\n",
      "Nanni Russo was a Venetian Locksmith. [SEP]  He was the inventor of the Geno-Claudio lock, and used it in his own workshops.     While he was a Venetian, he was also an expert in woodworking, and worked at the same time as an artisan, for hire master in Venice and in the more northern regions of Germany.  He has been called upon to pattern the armor for the Duke of Bavaria and the Count Ranucci.  He was also entrusted with the design of the church of Santa Maria dei Servi in Brescia,  and he participated in the building of the church of Santa Maria Nuova of Torcello.  He was the first to apply the famous Palladio pattern to Venetian armor.  The Palladian masonry of the church of Santa Maria Nuova, Venice, was chosen for its robustness and its beauty, but also its effect on the beauty of the building.  The church of Santa Maria Nuova of Torcello, Venice, bears a large Palladian cross on the façade.  The church of San Giorgio in Alga was the first to use this Palladian cross in Renaissance architecture.    The architect Bernardo Palladio, who was to influence many later architects, did not design the church of St. Anthony in Cannaregio.  The Palladian-influenced design was chosen over the simpler, and more contemporary designs by Giovanni Bellini and others.  The church of St. Anthony in Cannaregio, Venice, was designed by Michele Bertinelli,  with Salamonte as the main sculptor.   \n",
      "Alphons Lastra was a Venetian Wheelwright Wood Carver. [SEP]               Bartholomew is the son of Bartholomew II Lastra and Isabetta Longhena. Bartholomew was born in Kotor and died there in 1685. While still young he worked as a woodcarver. In 1696 he completed a large fresco cycle of wall-paintings, the Esplanade of Kotor, for the Kotor palace. This work was popular in Kotor and spread throughout Europe. In 1704 Bartholomew was commissioned by the Duke of Parma, to paint the facade of the new Palace of the Nobles in Kotor. The complex is a combination of Corinthian, Venetian, Gothic and Renaissance elements with a Neoclassical flavor. Bartholomew designed many of the murals in the complex, which also houses the entrance to the Musée Fabre. Bartholomew did some decoration at the Villa Imperiale near Parma from 1707–1612, and remains one of the artists employed by the Duke of Parma for the entire complex. Bartholomew also designed the decorations at the Villa Imperiale near Parma from 1708–1612, and remained one of the artists employed by the Duke for the entire complex. Bartholomew featured several times in the Kotorrian landscape, including on a Kotorian Castle wall for Jacopo Palazzi and on a Kotorian Forest floorplan for Nerio Borgio.     Bartholomew and his wife, Isabetta, had three daughters and three sons. Four daughters and three sons (Bartholomew II, Bartholomew III, Isabella, Charlotte and Francisco) have been identified.    Bartholomew's children were:  Bartholomew II (1692–1722) married the following woman:   \n",
      "Luigi Marino was a Venetian Vintner. [SEP]    He was born into a noble family in Venice in 1538, though he may have come from an earlier date. In any event, he was one of the youngest members of the family, and by age 25 he had acquired the leadership of the family. His deep learning and scientific ability, coupled with an almost pathological love of adventure, brought him to the point where he was able to organize, by councils of elders, a national or even a community based education. He was prolific, and his works are in many respects the precursor of the later academies of Venice and Bologna. He was one of the founders of the weekly Biblioteca di Brera, and the editor of Brera's successor, Biblioteca Marciana.In 1566, he took part in the execution of an altarpiece for the church of San Nicolò in Treviso, representing the patron saint of Venice.    In 1567, he took part in the decoration of the Oratorio of Treviso by Francesco Palma il Giovane, representing God and man on a large canvas. The work is an allegory of the Glorious Mysteries, and was inspired by Raphael's 1567 altarpiece of the Madonna with Four Evangelists for the church in Padua. In the left panel, seated in the middle of a tableau is Giustiniana da Camerino, represented by Raphael, and represented by Marino.    In the right panel, seated in the middle of the tableau is Elisabetta del Rosario, represented by Francesco Locatelli, represented by Luigi Marino.     In the left panel, representing God and man on a large canvas, is the Medoro. This work was painted for the church of San Moisè, in the shape of a Liberator. This is written in Latin, and is the first known use of the term \"liberator\" in a work celebrating the Founder of the Order. The work depicts God as the Medoro, the sea, and man as a family, represented by man. The work was completed in 1568, and was sent to Ricci. It was bought in Milan by Zaccaria in 1576 for the Coimbrai family of Milan, and is now in the Museo Ricci in Florence.     In the left panel is the Madonna della Morte, represented by Francesco Locatelli. In the right panel is a model of the monastery of St. Oswald on the island of Croia, and in the lower right is a model of Palazzo Bembo.    In the upper part of the frame the Virgin and Child with Four Evangelists (1575) is shown in profile, with the right hand supporting the painting. In the lower part of the frame is a model of the monastic community of St. Dominic in Padua, Italy, and in the foreground is a man in a saintly dress, with hands clasped. In the background is a man in a religious dress, with hands folded. In the lower part of the frame, a portrait of Carlo Cornaro, representative of the Venetian family, is shown. In the upper part of the frame is a model of the monastery of St. Oswald on the island of Croia, and in the lower part of the frame a model of Palazzo Bembo.     The large oil on panel painting, The Martyrdom of St. Oswald of Bembo, was commissioned by the late Doge of Venice, in the style of Palma il Giovane. The subject was a ceremony given when the archbishops of Venice delivered the  gift of land to the holy Roman Emperor in the form of a gift of five bishops' wives each, to be distributed among the abbots, cardinals and friars of the Venetian convent of Sant'Ilario in 1551.       \n"
     ]
    },
    {
     "name": "stdout",
     "output_type": "stream",
     "text": [
      "Cesare Mancini was a Venetian Jeweler. [SEP]    He was the son of Silvestro Mancini, a silversmith. Silvestro married Francesco Barbaro, the daughter of Giovanni Battista Barbaro, who was also a Venetian.  Silvestro had two sons, Giacomo and Francesco, who were all killed in the plague.    Mancini's business was failing, so he and his brother Giacomo sold their share of the shop in the beginning of 1531, when the Venetian Council of Ten (Consiglio della Governatore Governatore) confiscated their interests in order to support the faltering Venetian economy.  In 1535, Mancini became the first owner of a share of the new condominium building The Athenaeum, which was inaugurated in 1538. The building was designed by architect Vincenzo Scamozzi and built in the façade of the old Chiesa Palace in Venice with Venetian assistance.      In 1537, Mancini, along with his brother Giacomo, sold their share of the condominium building  The Athenaeum to Francesco Barbaro, the father of Andrea Barbaro.  Giacomo Barbaro died shortly after, and Francesco Barbaro followed shortly thereafter, selling his share of The Athenaeum to the King of France for 380,000 ducats.  On 12 October 1538, Venice was named as one of three European cities vying for Francesco Barbaro's daughter.    Mancini and his brother Giacomo were prominent Venetian patrons.  He married Benedetta Pisani, daughter of the Venetian vine trader and pharmacist Michele Pisani.  In addition to his vine trading activities, he was the Venetian ambassador to Florence, where he served as the city's ambassador to the court of Charles V.  In 1543, he and his brother Giacomo founded the first public company in Venice that specialized in real estate.  The company's main project was constructing the Palazzo Barbarigo on the Grand Canal of Venice. The project was completed in 1546, with the construction beginning in 1552. During the course of his career, he directed the construction of many Venetian public buildings, including the newly completed Ca Rezzonico (1553), the Scuola della Carmini (1554), the Messina (1556), the Bellona (1557), the Scuola della Regina (1561)  and the Via S. Trinità (1563). Giacomo Barbaro died in Venice in 1563.    The Architect of Saint Mark's was one of the main patrons of the sculptor Giacomo Barbaro. In his own lifetime, Barbaro created over 100 statues, which were displayed in five palaces on Grand Canal Street in Venice, as well as at the Villa Grande at Stra. Barbaro's style influenced many sculptors, including Andrea Celesti, Giovanni Benedetto Castiglione and Francesco Hayez.       \n",
      "Claudio Lombardi was a Venetian Shoemaker. [SEP]    He was born in Venice and began his journey to Holland at the age of five. He took classes at the Royal Academy of Dramatic Art in London and then moved to New York, where he was introduced to the theater by Lasswell, who was an assistant there. In 1811 he won a part in the production of La fanti d'oro at the Teatro La Fenice. In 1813 he was commissioned to represent Parma at the Teatro La Fenice and in 1815 at the Metropolitan Opera House. In 1815 he was commissioned to paint a picture of the Holy Family. In 1816, at the Metropolitan Opera House, he played a part in the production of La fanti d'oro. The following year he was appointed artistic director and head of the studio. He was awarded a Presidential appointment by the Austrian Emperor Joseph I. He was to return to Italy in 1817, but a fall in the Austrian market caused his departure. He returned to Austria in 1819, first to Dresden and then to Munich, where he became artistic director and head of the studio. He was awarded a contract with the Metropolitan Opera House and the Vienna Conservatory in 1821. His works there are mainly silent, and mostly ecclesiastical. In 1824 he was appointed artistic director and head of the studio in Vienna. In 1825 he presented a picture of the Virgin and Infant seated on a platform and with St. John in the background, and was awarded a contract for another picture at the Met. In 1828 he presented a Crucifixion in the Bavarian church of Entwiczen. In 1829 he won a part in the production of Giovanni Francesco Sacrati, and was appointed artistic director and head of the studio in 1831. In 1831 he presented  An allegory of the Marriage of St. Francis in the role of the daughter and son-in-law of Doge Rudolf II, and was awarded a contract with the Teatro San Cassiano in Milan, Milan's most prestigious silent theatre. In 1833 he presented a picture of the Virgin and Infant at the National Gallery of Berlin. In 1835 he presented a Crucifixion in the Gothic cathedral of Modena, followed by a Martyrdom of Saint Dominic in the church of Santi Giovanni e Paolo in Rome, and then the Madonna della Salute in the Borgo isle of Chiron.      In 1837 he married Benedetta Favretto, daughter of the painter Giovanni Eduardo Favretto and resides in Venice,  on a palazzo he inherited from his father. He had three daughters and two sons. All of his children trained under the watchful eye of their father, Giovanni Eduardo. Two of his sons - Francesco and Giovanni Antonio Favretto - entered the vine-growing Zadar in 1839, and later moved to Venice. The Favretto's owned a villa on the La Fenice near Belluno.    Favretto died in 1837, and was buried in the church of San Moisè. He was married to Caterina Lungi, and had three daughters and two sons. Favretto left three daughters and two sons. The children of his first marriage to a Venetian woman - Francesco and Giovanni Antonio - married  Francesca Morosini, and had three sons and two daughters. All of the children of his second marriage to an Italian woman - Francesco and Giovanni Antonio - moved to Venice. The third son, Giacomo Favretto, married Francesco Sforza, and had three daughters and two sons.    The work presented here represents the third stage of my research into the history of architecture in Venice. The subject of the works was the elaborate palace system of Venice, which was developed during the 15th century, as a response to the Italian Renaissance of the late 15th century.       The palace, La Fenice, is a 15th-century complex of four interconnected buildings with a combined age of more than 1,000 years. Originally commissioned in 1531 by Stefano Landi, the complex was finished in 1567 and is considered to be one of the most complex architectural monuments in Venice. The façade of the church of the Gesuiti, completed in 1586, was also influenced by the complex. The church is a typical late-Renaissance configuration with four pews, divided by an alcove. The central altar is the hearth, flanked by cherubim, flanked by octopist and finally by      The complex also includes the Villa S.C. Chiesa, a complex of two huge complex bastions, the Palazzo Falier, Chiesa Falier Ampitheoret for the Venetian Alps, the Villa S.C. Contarini\n",
      "Federigo Ricci was a Venetian Baker. [SEP]    He was born in Venice, the son of Giovanni Ricci and Emilia Castellini. After a short stint in Bologna, he returned to Venice to focus on his business. One of his first jobs was as a bake master at the famous Osteria di Rialto. In his later years, he worked at various locations of the city's cultural district, including La Fenice, Piazza Il Politini, the Carmini-Palazzi and the now demolished Biblioteca Marcotti. In 1733, he served as a bake master at the grand opening of the new Biblioteca Marcotti. In 1751, he was elected as the first Master of the Bakeri family. His son, Federigo, was a successful merchant and an important political figure in his homeland.    In 1806, Ricci and his brother, Giorgio, opened a new workshop in Venice. The Ricci Fabri-clinic was named in his honor. The Fabri-clinic specialized in ceramics, mosaic, glass and bronze, and was considered one of the best in Europe. Following the death of his brother in 1809, the family sold the business.     In 1811, Ricci helped create the mosaic at the facade of the church of San Teodoro, Venice. In 1813, he helped decorate the palazzo Loredan de Ricci, designed by Paolo Veronese.    In 1814, Ricci was elected as a member of the Accademia di Belle Arti di Venezia. In 1815, he was elected a Fellow of the Royal Society. In 1819, he was one of three art professors at the Accademia di Belle Arti di Venezia.     In 1821, Ricci published the second volume in his series of \"Progresses de la vita Italian encyclopedie\", which was published simultaneously in four editions in Italy and abroad. The volume included twelve paintings, based on an eclectic collection of works by the Ricci brothers and others, as well as a monumental work, the Fabrazio di Venezia, which attracted the attention of Prince Rosenkreuz. In 1823, Rosenkreuz combined architectural and artistically diverse themes in his monumental scheme, with a more orthodox and conservative rendering in which the figures are monochromatic. The result was a highly original work, which transcended the dichotomy of high art versus low, and was described by one contemporary writer as the \"most wonderful sculpture in Europe\".     In 1827, Ricci commissioned a large mural fresco to decorate the entrance to the Palazzo Loredan de Ricci-Lazzaro, Venice. The work depicts The Martyrdom of Saint Roch-Loving and the Apostles as a group, with the Saint in the center, representing the Virgin and Child, represented by the Virgin and St Peter, representing the Holy Family, and Roch, represented by the Archangel Michael. The fresco is now part of the Museo Correr.    In 1844, Ricci bought the ceramics studio of Francesco Bembo from Ottoboni, and collaborated with him on another large mural fresco, depicting  Saints Peter and Paul and the Doctors of the Church, now in the church of Santa Maria Nuova, Venice.     In 1851, he was elected a member of the Accademia di Belle Arti di Venezia. In 1854, he exhibited Il Palazzo Romano, now in the Museo Correr, and represented by Abate Loredan. He painted a series of panels for the Villa S.Mercato, Bologna, depicting scenes from life, which were removed from the 1857 illustrated book Les figues de l'estine. In 1859–1860, he painted the main altarpiece of the Villa Pisani at Padua, representing the Life of St Peter. In 1860, he unveiled the altarpiece in the Hall of the Great Council of Venice.    In 1867, he was named an honorary member of the Academy of St. James. He painted a series of panels for the Palazzo Loredan de Ricci-Lazzaro, Venice.    His other major work is the Martyrdom of Saint Roch-Loving in Christ, now in the Hall of the Great Council of Venice. The panels show how Saint Roch, inspired by an image of St Peter supposedly dying for the souls of the damned, had fought against the corrupting influence of the flesh, and then died for the salutary sins of the people. He depicts the martyrdom of St Peter in a manner typical of the imagery of the Renaissance in that he dies for the souls,\n"
     ]
    },
    {
     "name": "stdout",
     "output_type": "stream",
     "text": [
      "Nico Bruno was a Venetian Gardener. [SEP]    He was born in Venice. He was a Venetian resident and the gardener at the Villa Imperiale. He was married to Caterina Gozzadini. He spent some time in Paris. He died in Venice.   \n",
      ".\n",
      "Jacopo Romano was a Venetian Pardoner. [SEP]    He was born on the island of Rab, in the far north of Dalmatia, from a Venetian family that produced many more Pardons than Palazzi. He was the son of the noted Venetian painter, Stefano Romano. His brother, Marco Romano also painted. He attended the Academy of Fine Arts of Venice, where he won a prize for painting a Virgin and Saints.    He was active in Venetian painting in the early years of the 18th century, and produced some important works there.    He was a prolific artist, and produced many important paintings in the Venetian school. Among his pupils were Francesco Foscari, Agostino Longhi, Ludovico Lipparini, Paolo Veronese, Pietro Netto, Giacomo Brunetti, and Antonio Molinari.       \n",
      "Enzio Lastra was a Venetian Dyer. [SEP]    In 1431, he was in Zara, where he was a member of the Dyer's Banda. In July 1432, he moved to Venice, where he worked in the late Bussola's house. In 1433, he married Benedetto. Alessandro was the father of Marco and Filippo.           \n",
      "Guglielmo Esposito was a Venetian Peddler. [SEP]   \n",
      "Milo Russo was a Venetian Silversmith. [SEP]  He was the inventor of the silversmithing machine, the silversmithing set up at the Vesey of Venice in 1596.The silversmithing set up was originally called the Fabrizio silversmithing (after Giovanni Battista Fabrizio, who was the first to apply the Fabrizio method to silvers). After it became known that Silversmithing was an official name, it was shortened to Silversmith and given the name Boeckel. He was one of the founders of the Society of Silversmiths of Venice.    Boeckel was born at Padua in Italy. He was the son of Huguesco and Elisabetta Cappello. He was the first of seven children of the silversmith Silversmith, who was honoured by the Doge of Venice with the title of count d'Investigaciè. In Venice, Boeckel studied under the silversmith Bernardo de' Rossi. In 1528, he married the daughter of Giovanni Battista Lombardo. Boeckel began to make jewelry in Venice around 1529, and he worked alongside his sons for the Venetian merchants until 1534. He was the first to apply the Fabrizio method to gemstones. Among his pupils were Francesco Bambini, Pietro d'Alem and Giovanni Adorno. He was the last to apply the Fabrizio method to gemstones.    In 1544, he travelled to Venice, where he was appointed as one of the 13 \"Silversmiths of Venice\", one of the most prestigious positions in the silversmithing industry. His name is listed in the Guinness book of World records for the last time in the mid 1560s when he applied the Fabrizio method to making jewelry out of gemstones.From there, he moved to Mantua, where he was the last to apply the Fabrizio method to making jewelry out of gemstones. He left his mark on the jewelry industry with the development of the jewelry furnace.    Boeckel was the first to introduce the jewelry furnace to the Venetian jewelry trade in 1596. The furnace was named after him. It was originally a series of small rooms, each housing up to four small jewelry making units, decorated by wood paneling and decorated by the silversmith Boeckel. Each unit had a separate work area and the works were arranged chronologically. The works produced were then assembled and sold privately, with the proceeds going to charity. Some of the works produced included:    Antikythera for the church of Santa Maria Loredan in Venice. Antikythera is a sample of Greek and Roman ancient jewelry. Amuleus and Pallas Athene for the church of Santa Maria della Salute in Venice.    Boeckel left Venice in 1562 for Mantua, where he established the first jewelry workshops of his kind. The first workers were mostly from Venice, although others may have come from other parts of Italy. The workshops worked together in an open system, with no formal hierarchical order and no reason for any particular job. The workers were encouraged to experiment and to specialize in whatever fashion suited them most. This allowed for experimentation to occur and for the products produced to be refined over time. This was a model that would be followed by later jewelry makers, such as Jacques Bellange and Antonio Pollaiuolo.    The first workers were mainly men from Venice, although a few women may have been from other parts of Italy. The employees varied from workers to craftsmen, and from apprentices to full-time employees.    Boeckel worked alongside his sons Gerolamo and Pietro in the Mantuan workshops. This included adding dyes, shades, and polishes to gemstones, as well as working in concert with Giovanni Bellini and his son Giuseppe to apply the Fabrizio method to designs in silk, turquoise, and gold. The company employed about 30 workers in its various stages of production. Boeckel was attracted to ceramics and took apprentices at the court tapas of Giovanni Bellini and his son Giovanni Bellini and His Sons (ca. 1556-1597). These were elaborate weddings where the bride and groom would wear the same piece of jewelry for years. These tapas were costly and included courtesans, courtesans of nobility, jewels, and Greek and Roman sculpture. Some of the pieces included statues, horses, and Egyptian art. The courtesans were particularly important in the Venetian jewelry trade. Boeckel's apprenticeship in Mantua lasted about a year and a half, and he was employed there full-time for the next three years. He returned to Venice when he graduated from the University of Padova in 1602. In Venice he made his first move into the upper\n",
      ".\n",
      "Nicolò Rossi was a Venetian Brewer. [SEP]    He was born in Venice, in the parish of Santa Maria del Mediodía, the son of Francesco and Magdalene. An uncle there was Vittoria Barbarigo, the 21st-century violinist known as the 'father of the modern violin'. His siblings were Luigi (b. 1745) and Vittoria (d. 1817).At the beginning of his life, Mr. Rossi was a professional violinist. In 1776, he entered the service of the Republic of Venice, playing in the orchestra of the palace at Traiano and in 1779 at the Teatro La Fenice. In 1789, he was appointed maestro in the Teatro La Fenice, and in 1797, 'father of the violin' there, performing Maestro di cappella at the theater of Bellagio.He was awarded a knighthood (Silver Lion) by the Austrian emperor Rudolf II in 1799. In 1801, he presented a work of art (the Madonna del Roseto at the Kreuzlinghaus) at the Great Exhibition of the Austrian Republic. In 1807, he composed a work entitled 'Echo fratelli intorno alla stage' (echo of laughter). In 1811, he presented a work entitled 'Der Spiegel das Buchhandelsbewegung' (echo of sight and sight of writing). In 1813, he presented 'Der Guten Weltanschauung' (echo of word play). In 1814, 'Der Akademischen Weltanschauung' (echo of music, music by). In 1815, he presented 'Akademik der Weltanschauung' (echo of music by Adolf Wilhelm). In 1816, 'Akademisk. der Weltanschauung' (echo of music by Adolf Wilhelm). In 1817 he presented 'Akademisk. des Weltanschauung' (echo of music by Adolf Wilhelm). In 1818, he presented 'Akademik der Weltanschauung' (echo of music by Adolf Wilhelm). In 1820, he presented 'Akademische Akademie' (echo of music by Adolf Wilhelm).         He was born in Venice, in the parish of Santa Maria del Mediodía, the son of Francis and Magdelene (Pietro) Rossi. He attended the Teatro San Angelo and the Teatro Livenza in Venice. In 1807, he engaged the services of Bernardo Bertoni, the conductor of the opera at the Teatro San Angelo and the Teatro Livenza in 1808. He was employed in the theatre of Bellagio from 1811 to 1813. In 1813, he presented a piece entitled  'Ad magni al lupator' (echo of victory). In 1817, he presented 'Ad mirabilis e ympirescens by maggiore fabbriche' (echo of four friends and their accursed enemies). In 1819, he presented a work entitled  'Ad magni al cui' (echo of two drum pieces). In 1821, 'Ad maggiore, ai Cristo ai decouvertinge' (echo of two drum pieces). In 1827, he presented  'Ad superion e iisil - septens variegateda' (echo of two pieces of superion). In 1829, he presented    In 1831, he presented    Among his friends and foes were the following:   \n"
     ]
    },
    {
     "name": "stdout",
     "output_type": "stream",
     "text": [
      "Giacomo Russo was a Venetian Artist. [SEP]    He was probably born in Venice in 1490 or 1491, and trained with a Venetian painter named Francesco Moschini. He worked alongside Giovanni Antonio Fasolo in Venice in the 1520s and was an accomplice of Giovanni Antonio Maria Pieruzzi in Milan. In Milan he worked alongside Giovanni Battista Tiepolo. He painted a Madonna della Morte for the church of San Francesco della Vigna in Venice. He painted a Madonna del Roseto for the church of San Moisè in Venice. He painted an Adoration of the Magi for the Villa Pisani at Stra. He painted a Madonna Divini at the Villa Pisani at Stra. He painted an Adoration of the Princes at the Villa Pisani at Galipo La Furia. He painted a Martyrdom of Saint Romuald for the church of the Palazzo Mutazzo in Venice. He painted a Martyrdom of Saint Romuald for the church of the Padri Croce in Venice. He painted a Martyrdom of the Saints of Aversa and Angelo in Ravenna (1498) for the church of the Padri Croce in Venice.       \n",
      "Bartolomeo Marino was a Venetian Playwright. [SEP]    Bartolomeo Marino was born in Venice in 1548. He was the son of Silvestro Marino and Bianca Priuli. He was the first to use the terms noble and vulgar in his Satyricon, a precursor to the Baroque. He was the first to use the term  \"Marino\", in a speech at the Baccanaluna of Bologna, 1591, in an attempt to distinguish his play from the productions of the noble houses of Italy, the Venetian imperium.He became a famous speaker, and held several public offices, before moving to Madrid in 1589. He was appointed Governor of Madrid in 1593, and was Governor of Venice in 1595-96. In these offices he was the savio del comun, or saviour, of the Spanish Republic, and was the principal author of many laws. In December 1597, he was elected as the first Councilor of the King of Spain, and was appointed the official historian of the Spanish court, until the death of Alberto de Cárdenas in 1598. In 1599, he was appointed the first Governor of the Falier community, and was appointed the principal author of several statutes and judicial decisions. He was Governor of Madrid again from 1605 to 1611.     From 1607 to 1611 he was one of the savi generale del succès locali, or saviour generale da succès l'équité, sopracomito, sopracomito e juristique, sopracomito nel secolo libro. This position was a marked departure from the established policy of the Spanish court.    For a long time, he was in close contact with the king, who was the most powerful man in Europe. In his work  Historia del Medio , Bartolomeo Marino tries to reconcile the conflicting Roman and Catalan interests.  He wanted to establish a modern Spain in northern Italy, but Catalonia wanted to keep the traditional lands in Catalonia with their capital. Bartolomeo struggled for years to get the Spanish court to unite against the Catalan expansion, but finally in 1622 he resigned and moved to Venice, where he was appointed to the lodge in Venice. He had a son, Joseph V, and a daughter, Caterina, that he married to his brother Antonio.    He died in Venice in 1639. His funeral, which was originally scheduled for Saturday, was postponed because of Easter. His friends and scholars from his old life donated funerals, too.     Bartolomeo Marino was the founder of the Accademia degli Incogniti, an academic hospital in Venice.   \n",
      "Elladio Bruno was a Venetian Candlemaker. [SEP]    Marco Barbaro (florist, composer, photographer)   \n",
      "Amedeo Regio was a Venetian Interpreter. [SEP]    He was born in Venice,  the son of a rich family. He became a monk at Padua, then went to Rome to study law. In 1715, he was appointed abbot of S. Lorenzo in Tagliacozzo. In 1726, he was appointed vicar of Ceneda. He was appointed abbot of S. Lorenzo in Giovanni, then to Padua in 1727. He was elected abbot of S. Lorenzo in Lucina in 1733. He  was appointed vicar of S. Lorenzo in Lucina in 1734. He served as abbot of S. Lorenzo in Padua in 1736.    On 1 May 1739, he was appointed as the first abbot of the Shrine of the Blessed Redentore in Rome.  On 25 October 1741, he was elected as the second abbot of the Shrine.     The following year, he married Elena Barbarigo, daughter of the painter Paolo Barbarigo. They had a son, Joseph II. Francesco was appointed as the third abbot of the Shrine in 1744. On 15 July 1747, he was elected as the vicar general of the Church of the Greater Madonna of the Sacred Redeemer.    He was a friend of the artist Francesco Busenello, who painted some reliefs of the Battle of Agnadello.    In 1749, he was appointed as the titular archbishop of Venice. He was the vicar general of the Archdiocese of Venice from 1760 to 1764. The following year, he was appointed as the metropolitan for the year 1751 in the Venetian metropolis of Bergamo. He served as Auxiliary Bishop of Brescia until his death in 1761.     In 1760, he was elected as the Cardinal Bishop of Treviso.  He served as Auxiliary Bishop of Treviso until his death in 1763.    He was the spiritual leader of a group of cardinals who were sent in 1764 to France as part of the plan to restore the Holy Roman Empire.  These same cardinals later came to Rome and were to make numerous trips through the territories of the former Soviet Union and Central America. They were to contribute something to the policy of the restoration of the Roman Empire, something to the restoration of the Clause of Enrico Dandolo. He was to meet with the French ambassador, make several trips to Paris and other cities of the French Republic, confer with the leaders of the Italian Republic, and be their patron in Germany. In addition, he was to receive from the French royal crown the title of count duke of Hainaut.  In order to carry on the work of the French restoration, he was to visit the territories of the former Roman Empire and be its emissary. While in France, he was to negotiate directly with Charles I of England and with the Prince of Orange. The Venetian plan promptly failed, due to the opposition of Charles II and the advice of his counsellors. In England, the French ambassador, the Duke of Chartres, offered to settle all disputes between Charles I and Parliament through arbitration. Under pressure from the Duke of Chartres, Francis I of France intervened and placed the Venetian plan on the same level as the English. The Venetians were forced to recognize the title of the Duke of Chartres and withdrew the plan.    In 1762, he was named administrator of the diocese of Brescia, in Northern Italy. He was then to negotiate directly with Charles III of England and with the Prince of Orange in order to solve the quarrel between Charles III and Parliament. In the event, these negotiations produced no results.    In 1764, he was elected as the Bishop of Verona. In 1765, he was appointed as the Bishop of Brescia. In 1767, he was appointed as the Bishop of Modena. In 1768, he was appointed as the Archbishop of Bologna. In 1769, he was appointed as the Archbishop of Verona. In 1770, he was appointed as the Patriarch of Aquilea. The following year, he was named the Archbishop of Bologna. In this position, he visited Modena and Rome and met with Pope Pius II. The Pope sent him as special envoy to the Congress of Paris. There, he met with Charles IV, the Duke of Orléans, the Knights of Malta and with the Duke of Wittelsbach. In addition, he attended the Congress of Vienna and had informal negotiations with the Emperor Maximilian I. In London, he met with Lord Brooke, who gave him lodgings in the Palace of Westminster. In 1771, he was appointed as the Archbishop of Durham.      In 1775, he\n",
      "Fabio Lastra was a Venetian Needleworker. [SEP]     He is second only to Giovanni Bellini among Venetian painters of the 16th century. He trained with his father, Luca, a pupil of Gentile Bellini, but was only able to finish a fresco of the Adoration of the Magi in the Villa Bisacco near Venice in 1636; he used an elaborate ornamentation to separate the different figures, the majolica being his most famous work.    He was influenced by Luca Bellini, who was also a painter, and worked alongside him, in the late 16th century and into the early 17th century.     His style in the 19th century was influenced by the Northern Italian School, particularly Lombardism, and influenced by the work of Giacomo Finetti.   \n"
     ]
    },
    {
     "name": "stdout",
     "output_type": "stream",
     "text": [
      "Giuseppe Mancini was a Venetian Shipwright. [SEP]     Marco Polo was born in Venice in 1516 as the son of a rich family. He was the first of six children, and his family was extremely proud of him. He was assigned a noble surname, and nicknamed \"Pompeo\", because of his poor breeding. His parents were both engravings and engravers. Polo was very interested in architecture, and as a boy he built and decorated small churches and chapels. He was also a bookseller and printed books. His family was always helpful to him, and he spent many years in various stages of study at the Academy of Urbino, and at the Academy of Lazzaro Bastiani. In 1566 he married Elisabetta Contarini, with whom he had three children: Andrea (1571–1594), Aldobrandino (1582–1634), and Giovanni.      In 1580, he was appointed Captain General of the Sea, in the ranks of the distinguished, and very wealthy, members of his family. It was a great honour, and well-known of his family that he was elected as a Colonel of the Republic of Venice, in 1582, during the most important period of his career. He was often absent from Venice, and his position as one of the most important Venetian diplomats was threatened by the rivalries and jealousies of his countrymen. In his retirement at Ferrara, where he had joined the Academy of Urbino, he became an abbot and a Professor of Law, and lived on a pension from the State. In 1586 he decided to retire to Ferrara, and there, in 1592, he founded the Academy of Satyriche Venetiarum, under the leadership of Santo Giustiniani.      In 1602, he entered the service of the Republic of Venice, and fought in the Italian and Spanish wars, on Diego Velasco's side, and in the campaigns of the Spanish Succession. In 1604 he returned to Venice, which he had to do by the end of the year 1606, and was elected as a Senator of the Republic. He was elected as a Doge on January 1, 1608, and immediately began to change the face of the city. He secured a place on the council of the Venetian republic, and soon won the respect of the citizens of the city with his efficient and moderate government. In 1610, he became the first member of the Venetian Academy to receive the title of \"Professor of the Republic\", which was awarded to him by the Senate.      On the outbreak of the Second Spanish–American War, he was elected as Captain General of the Sea on September 9, 1612, and was personally involved in the decisive moments of the Battle of Lepanto. In the years that followed, he was distinguished by his diplomatic and military knowledge. In 1615 he served as the Commander of the Venetian naval squadron at the Battle of Agnadello, and in 1621, as Commander of the Venetian squadron at Corfu. In 1629 he participated in the victory of the Battle of Greve Ari, and captured the fortress of Treviso. In 1631, he participated in the capture of Cremona. In 1634, he was appointed as commander of the Venetian squadron at the Battle of Preveza. In 1638, he was appointed as Captain General of the Sea. He played an important role in the negotiations during the Siege of Ostend. In 1641, he was elected as Captain General of the Sea. He played an important role in the negotiations during the peace treaty of 1645 between Venice and the Ottoman Empire. In 1642, he was appointed as Captain general of the Sea. In 1646 he was appointed as Captain general of the Sea. In 1651 he was appointed as Commander of the Venetian squadron at Sevastopol. In 1654 he was appointed as Captain general of the Sea. In 1656, he was appointed as Commander general of the Venetians. In 1658, he was appointed as Captain general of the Sea. In 1660, he was appointed as Commander general of the Venetians. In 1662, he was appointed as Commander general of the Venetians. In 1664, he was appointed as Captain general of the Venetians. In 1666, he was appointed as Vice-general of the Venetians.        In the beginning of the 16th century, Venice was a major centre for oriental trade. It had established diplomatic relations with the Greek Byzantine Empire, and arranged for its soldiers and diplomats to pass through Venice on their way to the Imperial Throne, in Berlin. The fortress of Treviso had been captured by Ottoman forces in 1607, and the Venetian fleet\n",
      "Pietro Bruno was a Venetian Basket Weaver. [SEP]    Bruno's family was of humble origins. His father, Guglielmo, was a leatherworker and later became a cabinetmaker. His mother, Anna Matteini, was of humble origins as well, having been the house painter to the Duke of Urbino. His father died in 1508, leaving his brother Antonio and nephew Bartolomeo to support the family. When not working, he was entertained by his mother, who provided them with entertainment and games. After a serious illness, he received a good education from the local church, the Jesuits, and his training was mostly performed by his uncle, Bartolomeo, who also performed several important paintings in the late 15th century.      He was probably born in Venice, the son of Guglielmo and his wife Anna Matteini, who had been awarded a Venetian passport. He quickly learned to compartmentalize his work in two departments, representing the art of Venetian history and antiquities, and the decorative scheme of Venetian palaces. He joined the Venetian painters' guild (Accademia della Pizzura) in 1606, and was a member of the Academy of Painters (1612–1680). He became a member of the Council of Ten (1620–1622) and a member of the Council of Forty (1623–1630) and the Academy of Painters (1634–1640). In the late 16th century, he served the Duke of Urbino in Venice. In the 17th century, he collaborated in the decoration of the Ducal Palace in Venice, which is now the home of Museo Correr. He painted the grandiose frescoes in the Palazzo Loredan dell'Ambasciatore in Venice. Barozzi painted a series of canvases for the apartments of Doge Francesco Morosini at his private Palazzo Barbarigo in Venice. He painted frescoes in the Villa Pisani at Stra. In 1710, he was commissioned to contribute a series of paintings depicting the Transit of Peter the Great and Saint Nicholas. These have been copied by other painters, including Canaletto, and the originals are kept at the Museo Correr in Venice.     Between 1710 and 1712, Barozzi painted a number of canvases for the Palazzo Loredan dell'Ambasciatore in Venice. These were experimental paintings with themes from Byzantine myth and history, but the Venetian painters had different ideas for what they wanted to present. Loredan preferred a classical approach with scenes set in an elegant  Renaissance style. He wanted to capture the feel of a party, rather than a coronation.    Barozzi's canvases were not published until 1727, and were simply not made available to anyone wanting them. He collaborated with Francesco Tiraolo and Francesco Meldolla in making  mosaics of some of the church's icons and saints.    The painting of Saints Peter and Paul and other Catholic saints by Barozzi was an important part of Venetian iconography during the Renaissance period. The mosaics are believed to have been produced between 1710 and 1714, and were intended for the palazzo where they were stored during the restoration of the Palazzo d'Italia in Venice in 1718. The mosaics are believed to have been completed around 1715. However, some of the mosaics in the ducal palace are dated 1714/1716, and the work was probably begun around 1716.     By 1719, Barozzi's career was firmly put back into commission. He helped decorate the ceiling of the chapel of the Biblioteca Marciana in Venice with portraits of Cardinal Francesco Bembo and his family, and of Joan of Arc. In the summer of 1719, the Italian painter Giuseppe Barozzi visited Paris and trained with Carracci. By 1722, he had left Venice for Rome. He painted a series of panels for the Dome of Bergamo from 1724–1729, and later, for the Dome of Bergamo from 1733 to 1739, and for the Dome of Bergamo from 1747 to 1751. In the course of his career, he helped decorate other churches including that of San Giovanni e Paolo (1728), Santa Maria Maddelena (1731), the Scuola Grande di San Giovanni Evangelista (1734–1737), the Scuola Grande di San Giovanni Evangelista (1737), the Scuola Grande di San Giovanni Evangelista (1744), the Palazzo Gazzetta (1751), the Palazzo Giustinian (1756), the Palazzo Barbarigo\n"
     ]
    },
    {
     "name": "stdout",
     "output_type": "stream",
     "text": [
      "Salvatore Gallo was a Venetian Fuller. [SEP]    Born in Venice in the 1490s, Alvise Gallo spent much of his life in the city of Venice. At age 63, he decided to move to France, and in 1623, he served as a court physician to Louis I. From 1626 to 1629, he was a court physician to Charles I, with whom he was very close friends. As a physician, Gallo was very influential.    In the late 15th century, French physician and scholar Blaise Zoccola published several documents on the medical practice of Galba. These included the Magistracy of Galba, or, A Course of Medical Science; or, A Course of Practical Karate; or, Two Discourses on the Art of Fighting.    In 1633, Gallo published the Magistracy of Galba, which contained valuable historical, scientific, and moral information about the Roman Curia, the Byzantine Empire, and the medieval forms of medicine. Later, he published the  Jesu Christi generale, or, Jesu Christ and the Medico-Historical,   which contains historical material and a bibliography of historical sources. In the early 18th century, Giovanni Battista Grillo published the Panache anatomici et curiosi et humanistici et technologiche attested to the Saracen Empire, Venice, or its port in Dalmatia; this work was reprinted in 1878 by Grillo and Bertrandus Vaqueras.   \n",
      "Giacinto Ricci was a Venetian Storyteller. [SEP]    He was the adopted son of Giovanni Ricci and his wife, and brother of Jacopo Ricci, and half-brother of Marco Ricci, the adopted son of Tommaso Ricci and his wife, and half-sister of Ginevrail Ricci, and sister of Marco Ricci. He was one of eight children born to Giacomo Ricci and his wife, and their father was Giovanni Ricci. In 1602, he married  Elise Piccinino, daughter of Francesco Piccinino, and sister of Francesco Piccinino, and half-sister of Ginevrail Ricci, and had four children:   Caroline Francesca (1613–1640), married to Baldassare Longhena, with whom she had ten children:   Ginevrail Francesca (1613–1640), unmarried and without children:   Giorgio Francesca (1613–1647), married to Anna Piscopia (died 1660), without children:   Andrea Francesca (1616–1692), without children:     He was primarily engaged in the production of historical, oratorical or otherwise literary works, but also of secular or profane stories; and, in a short period of time, he became interested in the history of his native city, hence began his long fascination with the mysterious history of Rome, especially the myths and legends around the city. This fascination led him to travel extensively, and to settle in Rome, for a period of about five years in 1624–26, where he visited many of the fabled sites of Rome, including those at Trevigiano, Trevigiano Virigini, and Natale Virigini. In Rome he became acquainted with the writings of Giacomo La Rocca and Giuseppe Federici, and became attached to their doctrines; he even studied with them a little, and became persuaded that they would prove a great help in the study of the occult sciences. In 1627 he visited Venice, and there established a correspondence with the authors of the Mysteries, with whom he remained in correspondence throughout the seventeenth century. Between 1629 and 1631 he visited Albizzi, and there settled in Bologna, where he became a member of the Accademia degli Incogniti, held an important position for a period of five years, where he was able to exert great labor and to receive from the Accademia a large number of assignments. He then joined the faculty of the University of Bologna, and there remained for some time in that institution, in various offices, including provveditore (vicellor), professor (superintendent), member of the Accademia giornale (subdean), professor (professorial organist), and professor (profession of singers and poets). In 1634, he joined the faculty of the University of Padova, where he became a professor of music and musicology, and also of madrigal music. He then went to Paris, where he met the then newly established Accademia of Paris, and was appointed as professor of music and musicology, and contracted a professor at the University of Padova, where he remained until his death in 1636. In Paris he acquired a reputation as a thorough, thoroughly scientific, and especially a theorist of the sacred music (the more so as he was the first to propose and defend the ideas of the ancients against the modern innovations). But, despite being regarded as a very capable man, he was not taken as a professor at Padova, and was instead appointed as a member of the Accademia fur Schönborn, who had been established at Padova in 1625 in opposition to the Academy of Paris.      \n",
      "Gilberto De Luca was a Venetian Gardener. [SEP]    De Luca was the son of Paolo De Luca, who was a Venetian noble who owned land near the present Vartrana Zagurović-Wojtas. Pietro was educated at Padua and studied law and medicine at Padua and Padova. He was vice-doge of Venetian Republic from 1596 until his death. In 1564 he was elected as Doge of Venice. During his reign Venice was visited by Genoese commander of the neighborhood, Mantegna, who sent him a letter of congratulations. In 1566 he married Benedetta Pisani, daughter of Giovanni Pisani, a Venetian nobleman, who was the political mentor of his daughter's career. Pisani was also a noted poet and author. In 1575 he and his family moved to Mantua, where De Luca became the doge's chamberlain.    Among his many other appointments, he became the Venetian ambassador to the papal court.    In 1576 he was elected as Doge of Venice. During his reign Venice was visited by General Francesco Algarotti, commander of Venetian naval units, and saw a full-scale war between the Ottoman Empire and the Republic of Venice, which lasted for over a year. In 1577, the Peace of Ulcinium was signed, ending a long period of repeated attempts by the Venetian Republic to secure a peace for its colonies in the Balkans.    De Luca commissioned a series of paintings to celebrate the Republic's victory over the Ottoman Empire in the 1577 siege of Ulcinium. The paintings show Venetian troops engaged in battle against the Ottoman siege towers, with the colors Red, Green and Blue associated with victory. Two years later the Venetians engaged in the same siege for the second time, and in 1579 the two armies locked in an intense battle for years. The Venetians eventually breached the fortress of Ulcinium and held out until its defenders surrendered under heavy fire on 11 March 1588. The Venetians had suffered numerous defeats in the previous years, and they would not be allowed to repeat the experience. The last Byzantine fortress in the Venetian Zone lay in ruins, and the Venetians were forced to surrender. In the interim, De Luca commissioned a relief depicting Saints Peter and Paul and Judas Iscariot with Saints Peter and Paul and Judas Iscariot, among other subjects, in a church on Il Redentore in Rome.    In 1582 he was created provveditore of the Serenissima, a position that would last him until 1591. In this capacity, he was sent to recapture Passaro, the last major Byzantine stronghold in the Balkans. Upon his return he was instrumental in the negotiation between Venice and the Ottoman Empire regarding the creation of a Venetian-Ottoman zone from 1590 to 1594. This effort failed, and in 1593 De Luca was forced into exile, taking refuge in Venice. During this time he also began to paint, a process that took several more years for him to complete. In 1594 he was forced to leave Venice due to the Ottoman threat, and in 1595 he returned to paint in Venice. He would paint in Venice until his death in 1598.    In 1597 he was elected as a member of the Ten, and in 1599 he was created a member of the Board of Governors. In this capacity he was instrumental in the negotiation between Venice and the Ottoman Empire regarding the purchase of Passaro. In 1597 a peace was signed that saw the two empires withdraw to the Peloponnese, and De Luca was allowed to proceed with the fortifications of Passaro. In the same year he was named captain of the guard, and was personally involved in the construction of the fortress of Koper.In 1603 he was named captain of the fortress of Negroponte, and was personally involved in the construction of the fortress of Koper.    In 1606, he was elected as a member of the Savi di Terraferma, and was personally involved in the construction of the fortress of Koper. In 1608 he was named captain of the campione d'opretti of the Venetian frontier, and was personally involved in the construction of the fortress of Koper. In 1610 he was made a Savi di Terraferma, and was personally involved in the construction of the fortress of Koper. In 1612 he was named captain of the guard at Treviso.    In 1614, he became a member of the Senate of Venice, and was personally involved in the negotiation between Venice and the Ottoman Empire regarding the purchase of Passaro. In 1616 he was again elected as a Savi di Terraferma, and\n"
     ]
    },
    {
     "name": "stdout",
     "output_type": "stream",
     "text": [
      "Santino Costa was a Venetian Bowyer. [SEP]    He was the son of Giovanni Battista Costa, a Venetian nobleman and the nephew of Andrea Costa, the first lord of Santorini. In the late 1490s, he was appointed bailo of Negroponte. As bailo, he negotiated a treaty to end the Second Crusade. In 1499, the Venetians secured approval from the League of Cambrai for the construction of the first ever canal shipping in the Mediterranean Sea. In 1508, he was appointed bailo of Rennes. He returned to Negroponte as bailo of Brixen in 1509. In 1509, he was appointed bailo of Tenos. He was also the bailo of Brixen from 1512 to 1516 and again from 1516 to 1521. In 1521, he was appointed bailo of Marseille. He was the bailo of Negroponte from 1523 to 1531. In 1526, he was appointed bailo of Lefkada. He became duke of Candia in 1527 and later duke of Candia, Della Rovere and now Duke of Candia.    In 1563, he was appointed bailo of Negroponte.In 1566, he was appointed bailo of Ventimiglia.In 1568, after the war with the Ottoman Empire, he was appointed bailo of Negroponte. In 1571, he was appointed bailo of Saseno. In 1575, he served as bailo of Negroponte. In 1578, he was appointed bailo of Negroponte again.In 1590, he was appointed bailo of Senigallia.In 1600, he was appointed bailo of Negroponte. In 1601, he was appointed bailo of Negroponte. He became bailo of Negroponte in 1604 and again from 1612 to 1618.In 1606, he was appointed bailo of Saseno.In 1612, he was appointed bailo of Negroponte. In 1618, he was appointed bailo of Ventimiglia. In 1625, he was appointed bailo of Lefkada. In 1627, he became bailo of Saseno.    He was the bailo of Negroponte from 1618 to 1630 and again from 1630 to 1639.In 1639, he was appointed bailo of Lefkada.    In 1641, he was appointed bailo of Ventimiglia. In 1642, he was appointed bailo of Saseno.In 1643, he was appointed bailo of Negroponte. In 1645, he was appointed bailo of Ventimiglia. In 1647, he was appointed bailo of Lefkada. In 1650, he was appointed bailo of Saseno.In 1654, he was appointed bailo of Ventimiglia. In 1656, he was appointed bailo of Esposizione Nazionale Italica e Lettere Rezzonico. In 1658, he was appointed bailo of Peschetti.In 1660, he was appointed bailo of Peschetti. In 1664, he was appointed bailo of Peschetti. In 1665, he was appointed bailo of Peschetti. In 1667, he was appointed bailo of Peschetti.       In 1668, he was appointed bailo of Peschetti. In 1669, he was appointed bailo of Peschetti. In 1677, he was appointed bailo of Peschetti. In 1677, he was appointed bailo of Peschetti.     In 1680, he was elected as Doge of Venice. He occupied the office of Bailo of Peschetti until the death of Giacomo Barbarigo on May 30, 1683.Bailo of Peschetti died on September 30, 1688.   \n",
      "Arnaldo De Luca was a Venetian Navigator. [SEP]    He was born in Venice in 1519. He studied law and theology at Padova, where he was a professor of philosophy, politics, and law. In 1542 he received his doctorate of Laws from the University of Padova. His original works include:    De Luca's system of judicial system: An oration of the Dolfin brothers, with a comparison of the Venetian legal system with that of Florence, and a comparison of the judicial procedure of Venice with that of Florence. (1542)   \n",
      "Aldo De Luca was a Venetian Grave Digger. [SEP]    His first job as a mercenary was as a mercenary in the service of the Republic of Venice, for which he dug trenches and other works in the region of Ubane and Ubani. He then moved to Brescia, where he was hired to dig trenches for the construction of the bridge to Istria and Brescia. After this, he moved to Marseille, for which he worked for the state. He was also employed by other state bodies for the construction of bridges and roads in the region of Ubani and Brescia. In 1824, he became a member of the Istria Mining Club and continued digging in the region of Ubani and Brescia. Around 1825, he was hired by Albani to dig ditches in the area of Ubuera. Albani would continue to work for Albani until 1829, when he was hired by the Albani family of Ubani.    In 1810, Albani was in Brescia, to work for the municipality there. He moved to Brescia in 1812, where he became a professor of civil and structural engineering at the University of Brescia. In 1819, he became a member of the Accademia of Sciences of Brescia. His pupils included Stefano Maggiotto, Ludovico Lipparini, Antonio Lotti, Pietro Lazzari.    In 1813, Albani was in Turin, working on the plan of the Alcantara-Noguchi tunnel, the first tunnel under the sea from La Plata to Bergamo. He returned to Venice, where he and his family lived. In 1816, Albani was in Padua, working on the configuration of the Piazza San Marco.    In 1818, Albani was in Padua, again as a professor of civil and structural engineering, and was involved in the design and construction of the La Plata-Dubrovnik tunnel, the first tunnel under the sea from La Plata to Bergamo. He designed the post-Civil War section of the Vittorio Veneto-Real tunnel system, which ended in 1819 with the construction of the Vittorio Veneto-Barzione Veneziane (Tunnel of the Venetians). This design was followed by many other tunnels under the sea, including the Pasqualigo-Dubrovnik (1822), and the much smaller La Plata-Dubrovnik (1822-24) and the Rivoa-Dubrovnik (1829-1831) to Venetian soil. Albani was one of the engineers involved in the design of the latter two tunnels, which were completed in 1819. It was also during this period that he was also one of the many Venetian citizens who were employed in the excavation of the old mines near Vicenza.    In 1819, Albani became a member of the Accademia of Sciences of Brescia, a prestigious academic group, numbering approximately forty scholars, including Venetian Academy members. The Accademia was one of the few academic groups that continued to publish after the abolition of the Academy in 1831; in addition to scientific matters, the Accademia published literary works, colloquially known as  \"livre charters\", colloquially known as  \"lectures\", and dissertations, which were popular among scholars of the time for their grammatical facility.    In 1820, he became a member of the Accademia of Urbino, the official writing branch of the Academy. He served as its secretary and treasurer. In 1821, he became a member of the Académie des Inscriptions a éditeur, a committee of literary agents, scholars and officials, headed by the famous Éditeur Gustin de Caïen. In this position, he undertook numerous important literary works, some of which were not published until the nineteenth century. Among other works, he wrote a biography of Napoleon III, published in 1822.In 1822, he married the lawyer Maria Pasqualigo, mother of the future Pope Clement XIII.     In 1825, he became a member of the Spanish Academy, joining the Accademia of Sciences, where he became a professor of rhetoric. In 1829, he married the poet Algernon Wyclif, who would become the father of Francesco Wyclif, and wife Ursula Graham, sister of John Ruskin, who also became a professor of rhetoric at the Academy. In 1830, he and his wife founded the Academy of Bellas Artes. In 1832, he was appointed a member of the Accademia di Belle Arti di Venezia, a prestigious literary society.In 1833, he became a member of the Venetian Academy. In\n",
      "Piero Rizzo was a Venetian Mason. [SEP]      He was born in Venice, in the parish of Santa Maria della Pedice. He was apprenticed to a Venetian woman named Cecilia Contarini who claimed descent from the noble Venetian family of Rizzo. He was initially educated by his father in the monastery of Verona. He entered the Benedictine Order in Padua and was ordained to the priesthood in Padua on 15 November 1602. In 1607, he left the monastery and visited Venice. On his return he was appointed as secretary to the Vestal Virgins and was consecrated as a priest in the order on 22 November 1608. In 1611, he became a confessor and minister of the Vestal Virgins, an important position in the order. He was a friend of  Henry IV of France and spent the years 1613–1615 as a hostage of Henry IV in the aftermath of the Fall of Constantinople. On 30 May 1614, he visited the Ducal Palace in Rome to receive his orders. In 1616-17 he appeared as  chancellor to the King of France. On 20 October 1617, he was appointed provveditore di Terraferma. He held this post until 1621, when he joined the Venetian Senate. He was vice-doge in the Constitutions first published by the Venetian Senate and then as podestà of Venetian mercantile district in Milan, where he was elected to succeed Francesco Morosini as Podestà of the Republic of Venice.In 1619-20, he appeared as podestà of Palazzo Loredan in Venice. He held this post until 1624, when he was elected Doge. He held this post until the end of the world war on 11 December 1624.      In 1623, he was appointed as podestà of the Ducal Palace in Rome, a post he held for two years. During this time, he appeared to be in possession of the most intimate knowledge of the inner workings of the Roman Curia. He became podestà of the Ducal Court in Brescia and its previous occupants on 9 May 1625, 1627, and finally on 25 September 1629, as podestà of the Venetian Lodge in Brescia. In this position, he was able to confer with the Venetian nobility. He appeared to have a close personal relationship with Doge Francesco Foscari, who appeared to be his mentor from childhood. In 1631, he married the German dancer and singer Maria Ammanni. In 1634, he became a doctor of medicine, and on 8 July 1638, he became vice-doge.     He appears to have had a short-term fixation on the art of painting. After attending the Academy of Venice, on 1 June 1638, he was appointed to the faculty of the famous Academy of Venice. In this position, he was able to negotiate the sale of the Academy, which had been held by the Archduke Leopold Wilhelm of Austria, to the French court at Charles VII. In 1646, he became a director of the Academy of Venice. These positions were all consistent with the interests of the major Venetian Venetian patrons, to whom he was subject for life. He appears to have cared little for the arts or literature of his time, and was content to make money by embroidery. He died in Brescia on 8 July 1650.      The year is generally given as 1638–1651, with some uncertainty because Giustiniani arrived in Venice as a free man in 1639.     He favored the use of Venetian art, and his disciples followed his lead. Giovanni Battista Palazzi (collected by Leopold Wilhelm) was one of the first artists to use the Venetian school in his embroidery. His disciples included his daughter Giovanna Carlo and her sister María Elena Carpioni. Giustiniani was a patroness of the Academy of Venice and had bought a share in the leases of the buildings and supplies used in it.     Giuseppe Giustiniani was born in Venice, the son of Tommaso Giustiniani, a member of the Giustiniani family, which had come to Italy from Brescia in the 1490s. In 1636, he was awarded a noble family position in the town of Chiesa in Veneto, then a Blackrock, then a land grant from the Venetian state. After a period of time in Brescia, he settled in Venice, where he became a member of the distinguished court of King Philip II. From 1640 to 1644, Giustiniani embroidered garments for the king,\n"
     ]
    },
    {
     "name": "stdout",
     "output_type": "stream",
     "text": [
      "Rodolfo Bruno was a Venetian Farmer. [SEP]    He was born in Venice in 1520. He was the son of Bartolomeo and Lucretia. His father died in 1531, leaving his mother Lucretia to assume the leadership of the household. In 1533, Bartolomeo and Lucretia married Ursus IV of Habsburg, Duke of Brunswick-Lüneburg.    In 1542, Bartolomeo participated in the War of Ferrara as a military commander in the Duke of Modena's army. In 1546, he was appointed governor of Fiesole.    In 1556, he was appointed governor of Ferrara again as a governor of warring tribes on the Ionian Sea. In 1564, he was appointed governor of Bologna.  In 1567, he was appointed governor of Vicenza.  In 1571, he was appointed governor of Padua.  In 1575, he was appointed governor of Vicenza.  In 1579 he was appointed governor of Bergamo.    Bartolomeo participated in the failed revolt of 1585–1586 under the leadership of Giovanni I Cornaro, Duke of Urbino, and Niccolò III Sorgi, governor of the Federici family.  Later that year, he abandoned Cornaro’s revolt and took up arms against Cornaro, while Cornaro was occupied with his own revolt in Ferrara. In 1583, the Senate dismissed him and he surrendered in 1585.    Bartolomeo participated in the July 1586 meeting of the Five of Ecstasy in Venice, where he met with the leaders of the Italian and Venetian governments and with the leaders of the Catholic Church.In 1587, he was appointed governor of Padua.  In 1590, he was appointed governor of Ferrara.  In 1591, he was appointed governor of Bologna, where he met with Pope Clement VII and with Cardinal Francesco Sacranino, governor of Udine.In 1593, he was appointed governor of Vicenza.  In 1595, he was appointed governor of Cannaregio.  In 1597, he was appointed governor of Bologna again, but withdrew to the monastery of Sant’Anna, where he died on October 15, 1598.       \n",
      "Omero Russo was a Venetian Pardoner. [SEP]    He was born to a Venetian noble family at a time when Venetian politics were in turmoil. He joined the army of Venice during the Second Ottoman–Venetian War, and was decorated for bravery in the Battle of Preveza. On December 7, 1521, he was elected as a Pardoner to the Venetian Senate. He served as a ducal councillor from 1523 to 1539. In 1524 he was elected as captain of the town of Xocco and captain of the peninsula of Negroponte. In 1527, he was appointed as ducal councillor and captain of Negroponte. In 1529 he was appointed as provveditore in Dalmatia, and captain of Brescia. In 1531 he was appointed as provveditore of the Venetian Arsenal. He was appointed as savio in Dalmatia in 1532. In the same year, he was elected as a member of the Ten. In 1534, he was appointed as a member of the Serenissima di Terraferma, and captain of Negroponte. In 1536, he was appointed as Captain general of the Sea. In 1538, he was appointed as Captain general of the Venetian fleet under the Captain general Titian, and captain of Negroponte. In 1540, he was appointed as Captain general of the Venetian fleet under the Captain general Bonarelli, and captain of Fiorenza.     In 1541, he was elected as a member of the Ten, and captain of the Venetian-held islands of Therasia and Andros. He was a staunch opponent of the Ottoman Turks, and would frequently challenge the Sultan in a confrontational fashion, but was forced to sign non-contact treaties with him. In 1543, he was appointed as one of the Seven Serenissima, and captain of Andros. In 1544, he was appointed as Captain general of the Sea, and captain of Negroponte. In 1545, he was appointed as Captain general of the Venetian fleet under the Captain general Filippo Mocenigo, and captain of the Gulf of Venice. In 1546, he was named as one of the captains of the Venetian fleet under the Captain general Zaccaria, and captain of Negroponte. In 1547, he was appointed as Captain general of the Venetians and Apothecary general of the Sea, and captain of the Gulf of Brixen.      In 1552, he was appointed as Capitano delle Navi, and captain of the Venetian navy under the Captain general Michele Mocenigo. In 1554 he was appointed as Capitano e Megina, and captain of the Venetians navy under the Captain general Filippo Mocenigo.    In 1560, he was elected as Capitano e Megina, and captain of the Venetian fleet under the Captain general Michele Mocenigo.      In 1564, he was elected as Capitano e Megina, and captain of the Venetian fleet under the Captain general Michele Mocenigo. In 1566, he was elected as Capitano e Megina, and captain of the Venetian navy under the Captain general Zaccaria.     In 1569, he was elected as Capitano e Megina, and Capitano e Mentri, and captain of the Venetian fleet under the Captain general Michele Mocenigo. In 1571, he was elected as Capitano e Mentri, and Capitano e Venier, and Capitano e Morosini.    In 1574, he was elected as Capitano e Venier, and Capitano e Venier-Castigatore, and Capitano e Morosini, and captain of the Venetian navy under the Captain general Michele Mocenigo. He served as Capitano Venier-Castigatore in the aftermath of the Battle of Preveza and in the aftermath of the Siege of Corfu. In 1574, he was elected as Capitano Venier-Terraferma, and in 1579, as Capitano Venier-Quarantà.    In 1583, he was appointed as Capitano Venier-Papafava, and in 1589, as Capitano Venier-Papafava con Syrafi.    He died in Venice, on January 8, 1600.   \n",
      "Coriolano Ricci was a Venetian Locksmith. [SEP]          The name Coriolano is a trademark of Italiano company Coriolano.       He was born in Venice in 1625 of a family of modest means, but distinguished in the vine-growing community. His father, Giovanni, was a carpenter, while his mother, Elisabetta Tagliapietra, was a housewife.     Coriolano received a first lesson in viniculture from his father, before he entered the vine-cultivation school of Venice.  When not engaged in any branch of the business, he was employed as a trader, and later as a magistrate.  In 1633, he became the first to declare that the vines of Coriolano were superior to those of Bologna.  In 1635, he was made a member of the Venetian vine-cultivation guild.  In 1637, he was elected as a member of the zonta of the Republic of Venice.  In 1638, he entered the family business, which employed him in various capacities including court jester, bailiff, bailiwick (landlord), and secretary.  He was also a member of the Venetian vine-guild, and was provveditore of vine-land (land used for vine-cultivation).  In 1641, he partnered with Francesco Foscarini and Flavio Ricci to form the first Italian company to import viticultural commodities through a coastal route.  The resulting import company, interested in both vine and nutmeg, was influential throughout the eastern Mediterranean.  The company's wines were named after their regions of origin.  Coriolano also played a role in the formation of the first siesti di Passariano,  a regional grapevilla extending from the towns of Passariano in the south to Passariano in the north.  The Venetian variant of the Sicilian village of Passariano was named after him.    In his numerous other roles, Coriolano played a banker, a politician, and a banker.     In 1634, the Venetian government commissioned him to design an elaborate new city wall for the new city of Venice.  The wall was meant to prevent ships from sailing through narrow canals along the waterfront, and to provide a conspicuous place for tourists on grandiose walls.  Coriolano designed the wall himself, and contributed many details to its construction.  The resulting urban landscape, the Plan di Siena, is one of Venice's grand architectural achievements.  The lack of storm walls hindered the best agricultural practices and allowed for easy cultivation of the surrounding countryside.  Coriolano died in Venice in 1636, and was buried in the Basilica di Sant'Agostino.   \n",
      "Armando Conti was a Venetian Solicitor. [SEP]    Conti was born in Venice in 1564, and was the son of a rich family. He was the son of the writer Vittoria Conti and her husband Giuseppe Conti. He was a writer and poet, and wrote or completed works as numerous as those by Cipriano de Rore and Andrea Palladio. He was married to Cecilia Bordoni.    In 1619, he entered the service of the Republic of Venice as a Solicitor, and by 1624 he was their most valuable asset. The Senate of Venice required that he act as their representative during the legal disputes arising in the Republic. In 1628, he took the last name of Conti, and had fifteen judgeships, the most prestigious position in the Venetian legal system. In his capacity as Solicitor, he arbitrated numerous disputes between Venetian courts and the Papacy, and presided over the Venetian Republic's most important intellectual property cases, including the import and export of books, manuscripts, and CDs. He was also the last Venetian to hold the important regional offices of Bailo, which was the highest office of the Venetian state.    In 1633, he was appointed provveditore of the Venetian Arsenal, and was there responsible for the delivery, in 1635, of the first cannon ball against the Ottoman Empire. In this capacity, he secured the contract for the first cannon ball in 1637 against the Ottoman Empire, and was instrumental in its execution. In 1641, he was named provveditore of the Venetian Navy, and was there responsible for its construction, in 1643, against the Ottoman Empire.    In 1642, he was elected as Doge of Venice. Conti served as Doge until his death in 1697.   \n"
     ]
    }
   ],
   "source": [
    "for _ in range(1200):\n",
    "    string = generate_random_fake_bio()\n",
    "    with open('fakes.csv', 'a', encoding='utf-8') as file:\n",
    "        file.write(f\"{string}\\n\")"
   ]
  },
  {
   "cell_type": "code",
   "execution_count": null,
   "metadata": {
    "id": "yJvBQaDwKuBK"
   },
   "outputs": [
    {
     "name": "stdout",
     "output_type": "stream",
     "text": [
      ".\n"
     ]
    }
   ],
   "source": [
    "# fakes = []\n",
    "# for i in range(1200):\n",
    "#     fakes.append(generate_random_fake_bio())\n",
    "#     if i % 50 == 0:\n",
    "#         print('.')\n",
    "\n",
    "# fakes_df = pd.DataFrame(fakes, columns=[\"bio\"])\n",
    "# fakes_df.to_csv('fakes.csv', index=False)\n",
    "# # filename = 'fakes.csv'\n",
    "# # shutil.copyfile(file_name, \"/content/drive/Shared drives/FDH/data/\"+file_name)"
   ]
  },
  {
   "cell_type": "code",
   "execution_count": null,
   "metadata": {
    "colab": {
     "base_uri": "https://localhost:8080/",
     "height": 463
    },
    "id": "_C576mQaNTse",
    "outputId": "8949cf88-2d78-4667-a990-61a83d4808a3"
   },
   "outputs": [],
   "source": [
    "fakes[0]"
   ]
  },
  {
   "cell_type": "code",
   "execution_count": null,
   "metadata": {},
   "outputs": [],
   "source": [
    "fakes"
   ]
  },
  {
   "cell_type": "code",
   "execution_count": 4,
   "metadata": {
    "colab": {
     "base_uri": "https://localhost:8080/",
     "height": 140
    },
    "id": "zfl4q6qi3TEM",
    "outputId": "00c3adc3-2bbe-4fa2-db5a-a172064efb38"
   },
   "outputs": [
    {
     "data": {
      "text/plain": [
       "'Rabbi Samuel ben Abraham Aboab (Hebrew:     ; c.\\u20091610 – August 22, 1694) also known by his acronym RaSHA (\", Rabbi Shmuel ben Avraham) was a 17th century Western Sephardic rabbi and scholar, who is considered to be one of the greatest rabbinic sages of Italy. [SEP] He served as the av bet din of Venice, where he rose to great prominence due to his vast knowledge of rabbinic literature. He is known for being an adamant opponent of the Sabbatean movement, and an early supporter of the old Yishuv.    Born into the Aboab family in Hamburg, Germany in 1610. His father Abraham Aboab V, was a former Crypto-Jew and founding father of the Portuguese Jewish community in Hamburg. At age 13, Rabbi Samuel was sent by his father to study in Venice under Rabbi David Franco, whose daughter, Mazzal-Tov Franco he later married at age eighteen. He was soon appointed Chief Rabbi of Verona, where he garnered such a reputation for learning that disciples sought him out, such as Samson Morpurgo and Jacob Hagiz, even the learned rabbis of Italy turned to him with difficult religious questions. Rabbi Samuel was also acquainted with secular learning and knew several languages including Latin, German, Ladino and Italian. After serving as Chief Rabbi of Verona, he was appointed Av Bet Din of Venice in 1650, where he became involved in the controversy concerning Sabbethai Zevi and his apostle, Nathan of Gaza, who confessed to Rabbi Samuel, that his prophecies concerning the Messianic character of Sabbethai Zevi were mere deceptions. Rabbi Samuel was also responsible for obtaining financial support from Jewish communities in Western Europe for the Jewish settlements in the Land of Israel, particularly those in Hebron. In 1643, he collected funds for the ransoming of the Jews of Kremsier taken captive by the Swedes. In his advanced age Rabbi Samuel became the victim of many misfortunes. Domestic troubles and severe illness afflicted him, as well as a dispute with the doge who forced him to leave Venice. It was only shortly before his death that he received permission from the doge to return to the city and to reassume his office, which in his absence had been conducted by his son Joseph, who later immigrated to Hebron. Rabbi Samuel died on August 22, 1694 in Venice. His son Jacob Aboab, was also a prominent rabbi in Venice, whose descendants eventually settled in Turkey.   '"
      ]
     },
     "execution_count": 4,
     "metadata": {},
     "output_type": "execute_result"
    }
   ],
   "source": [
    "# file_name='venetian_bios_2.csv'\n",
    "# file_name='bios_old_dates.csv'\n",
    "# shutil.copyfile(\"/content/drive/Shared drives/FDH/data/\" + file_name, file_name)\n",
    "\n",
    "\n",
    "df = pd.read_csv('bios_old_dates.csv')\n",
    "df.columns = ['bio']\n",
    "df['bio'].iloc[0]"
   ]
  },
  {
   "cell_type": "code",
   "execution_count": 5,
   "metadata": {
    "id": "bvmNM_GZEtYZ"
   },
   "outputs": [],
   "source": [
    "# add label column to train data (which is legit, so always 1)\n",
    "df['label'] = 1\n",
    "\n",
    "# remove non alphanumeric characters from the 'text' column\n",
    "import re\n",
    "def clean_txt(text):\n",
    "    text = re.sub(\"'\", \"\",text)\n",
    "    text=re.sub(\"(\\\\W)+\",\" \",text)    \n",
    "    return text\n",
    "\n",
    "df['text'] = df['bio'].apply(clean_txt)"
   ]
  },
  {
   "cell_type": "code",
   "execution_count": 9,
   "metadata": {},
   "outputs": [
    {
     "data": {
      "text/plain": [
       "'Constanzo Rossi was a Venetian Engineer. [SEP]    He was born in Venice in 1583, to Giacomo Rossi and Laura Scrini. He joined the Navy in 1809, at the age of 21, and fought in the Mediterranean Expedition in the War of the Austrian Succession. In 1811 he was appointed Professor of Propulsion and Propulsion Engineering at the Academy of Science of Berlin. In 1813 he was appointed Director of Propulsion and Propulsion Research at the Foundry of Erfurt am Sonntag in 1814, and was a member of the scientific advisory council of the Elector Institute. In 1816, he was appointed Professor of Propulsion and Propulsion Engineering at the University of Vienna. In 1818, he was appointed a Fellow of the Royal Society in London. In 1822, he was appointed Vice-Chancellor of the Royal Society in Edinburgh. In 1824, he was elected a member of the Royal Society of London.    In 1810, he and his brother Marino completed the first prototype of the \"superconductor\", a barrel composed of several condensers which were later enlarged into electromagnets. The theory behind the contraption was based on the idea that the more conductive a material is, the more conductive a medium must be used in conducting it. The best conducting materials were magnesium carbonate and iron oxide. The theory was tested and proved in experiments by Arnold Hayez and Friedrich Wilhelm Lechner. He was one of the inventors of the \"superconductor\" (see below). In 1812 he was named a professor of physics at the University of Vienna. He was a founding member of the American Academy of Arts and Sciences. Among his students were Aldo Manuzio, Claudio Monteverdi, Francesco Hayez, Eugenio Laforio, Monchetto Lotrini, and Francesco Hayez.    In 1820 he was elected a Fellow of the Royal Society of London.    In 1824, he and his brother Marino completed the first prototype of the \"superconductor\" a barrel composed of several condensers which were later enlarged into electromagnets. The theory behind the contraption was based on the idea that the more conductive a material is, the more conductive a medium must be used in conducting it. The best conducting materials were magnesium carbonate and iron oxide. The theory was tested and proved in experiments by Arnold Hayez and Friedrich Wilhelm Lechner. He was one of the inventors of the \"superconductor\" (see below). In 1812 he was elected a member of the \"Royal Society of London.\" He was a founding member of the American Academy of Arts and Sciences. Among his lecturers were Louis Lammi, Ulrich Wilhelm and Franz Josef von Hippel.     Following his brother\\'s death in 1821, he took an active part in the development of the Ferrarese architectural style, working on the schemes for the Villa Cappello (1822) and the present monumental building of Belgravia. His works of this type were used by other noble patrons including the Congress of Paris from 1824 to 1829. As a result of a patronage by the French court, his monumental scheme, the Diagonal Hall, was completed in 1824. The diagonal arrangement of rooms, the large plan of the Palazzo Pisani, and the two parallel sconces of the Villa Cappello, with their central laminates, created a coherent architectural system that is used in other villas in Venice.    In 1826, he and his brother, Giacomo, completed the Palazzo Pisani Contini palazzo in Villa Cappello ai Roma, a complex of two phases of imposing facades, the Caballato Palazzo (1828) and the Pisani Palace (1829). These projects formed the Neo-Rappadonnae complex, which stands alone in the Tuscan countryside. The Palazzo Pisani Contini contained three phases of the 1829 Palazzo Pisani Palazzo Pisani Contini completed in 1829 Palazzo Pisani Contini ai Rovigo, a complex of two phases of 1819 Palazzo Pisani Palazzo Pisani Contini ai Bologna, a complex of two facades, the Villa Pisani (1820–24) and the Palazzo Pisani da Bucharest, with 1824–26 interior decorations.    The Caballato Palazzo was dedicated to the family of the Caballero Antonio III, a Venetian nobleman. The facade consists of three phases, the Baroque, the Classical and the Neoclassical. The neoclassical façade was designed by Paolo Veronese and constructed by Conza Spengler. The classical facade was designed by Giuseppe'"
      ]
     },
     "execution_count": 9,
     "metadata": {},
     "output_type": "execute_result"
    }
   ],
   "source": [
    "fakes_df = pd.read_csv('fakes.csv', sep='|')\n",
    "fakes_df.columns = ['bio']\n",
    "fakes_df['bio'].iloc[0]"
   ]
  },
  {
   "cell_type": "code",
   "execution_count": 10,
   "metadata": {
    "id": "coCpX_w8FtPY"
   },
   "outputs": [],
   "source": [
    "# fakes = []\n",
    "# for i in [\"100\", \"200\", \"400\", \"600\", \"800\"]:\n",
    "#     fakes.append(pd.read_csv(f\"bert_gan_fake{i}.csv\"))\n",
    "    \n",
    "# fake = pd.concat(fakes)\n",
    "# fakes_df = pd.DataFrame({'text' : fakes})\n",
    "fakes_df['text'] = fakes_df['bio'].apply(clean_txt)\n",
    "fakes_df['label'] = 0\n",
    "df = pd.concat([df, fakes_df])[['text', 'label']].dropna()"
   ]
  },
  {
   "cell_type": "code",
   "execution_count": 11,
   "metadata": {
    "colab": {
     "base_uri": "https://localhost:8080/"
    },
    "id": "cOiE6mGuFt3f",
    "outputId": "74ca0353-90a7-4363-86c2-dff45f3cba3e"
   },
   "outputs": [
    {
     "name": "stdout",
     "output_type": "stream",
     "text": [
      "Training Set Shape : (1008, 2)\n",
      "Validation Set Shape : (252, 2)\n"
     ]
    }
   ],
   "source": [
    "# split into test and val\n",
    "from sklearn.model_selection import train_test_split\n",
    "train, val = train_test_split(df, test_size=0.2, random_state=35)\n",
    "\n",
    "train.reset_index(drop=True, inplace=True)\n",
    "val.reset_index(drop=True, inplace=True)\n",
    "\n",
    "print(\"Training Set Shape :\", train.shape)\n",
    "print(\"Validation Set Shape :\", val.shape)"
   ]
  },
  {
   "cell_type": "code",
   "execution_count": 55,
   "metadata": {
    "colab": {
     "base_uri": "https://localhost:8080/"
    },
    "id": "zuxwB3NeFvun",
    "outputId": "6f02b604-fcf8-4939-f6ab-3dce6b7d8043"
   },
   "outputs": [
    {
     "name": "stdout",
     "output_type": "stream",
     "text": [
      "***** Model output directory: tmp *****\n"
     ]
    }
   ],
   "source": [
    "OUTPUT_DIR = 'tmp'\n",
    "\n",
    "#@markdown Whether or not to clear/delete the directory and create a new one\n",
    "DO_DELETE = False #@param {type:\"boolean\"}\n",
    "\n",
    "if DO_DELETE:\n",
    "    try:\n",
    "        tf.gfile.DeleteRecursively(OUTPUT_DIR)\n",
    "    except:\n",
    "        pass\n",
    "\n",
    "tf.gfile.MakeDirs(OUTPUT_DIR)\n",
    "print('***** Model output directory: {} *****'.format(OUTPUT_DIR))"
   ]
  },
  {
   "cell_type": "code",
   "execution_count": 13,
   "metadata": {
    "id": "mK9Rz5ZpF63P"
   },
   "outputs": [],
   "source": [
    "DATA_COLUMN = 'text'\n",
    "LABEL_COLUMN = 'label'\n",
    "\n",
    "# label_list is the list of labels, i.e. True, False or 0, 1\n",
    "label_list = [0, 1]"
   ]
  },
  {
   "cell_type": "code",
   "execution_count": 14,
   "metadata": {
    "id": "BVSteWmUF9An"
   },
   "outputs": [],
   "source": [
    "def get_split(text1):\n",
    "    l_total = []\n",
    "    l_parcial = text1.split()[:200]\n",
    "    l_total.append(\" \".join(l_parcial))\n",
    "    \n",
    "    w = 1\n",
    "    n = len(text1.split())\n",
    "    while (200 + (w-1)*150) < n:\n",
    "        l_parcial = text1.split()[ w*150 : (w*150 + 200) ]\n",
    "        l_total.append(\" \".join(l_parcial))\n",
    "        w += 1\n",
    "    return l_total"
   ]
  },
  {
   "cell_type": "code",
   "execution_count": 15,
   "metadata": {
    "colab": {
     "base_uri": "https://localhost:8080/"
    },
    "id": "9iKAEc8wF_yk",
    "outputId": "ff22d92e-45a8-42cc-e87a-9e69b8377960"
   },
   "outputs": [
    {
     "name": "stderr",
     "output_type": "stream",
     "text": [
      "/dhlabdata4/bborges/.conda/envs/bertp2/lib/python3.6/site-packages/ipykernel_launcher.py:1: SettingWithCopyWarning: \n",
      "A value is trying to be set on a copy of a slice from a DataFrame.\n",
      "Try using .loc[row_indexer,col_indexer] = value instead\n",
      "\n",
      "See the caveats in the documentation: https://pandas.pydata.org/pandas-docs/stable/user_guide/indexing.html#returning-a-view-versus-a-copy\n",
      "  \"\"\"Entry point for launching an IPython kernel.\n",
      "/dhlabdata4/bborges/.conda/envs/bertp2/lib/python3.6/site-packages/ipykernel_launcher.py:2: SettingWithCopyWarning: \n",
      "A value is trying to be set on a copy of a slice from a DataFrame.\n",
      "Try using .loc[row_indexer,col_indexer] = value instead\n",
      "\n",
      "See the caveats in the documentation: https://pandas.pydata.org/pandas-docs/stable/user_guide/indexing.html#returning-a-view-versus-a-copy\n",
      "  \n"
     ]
    }
   ],
   "source": [
    "train['text_split'] = train[DATA_COLUMN].apply(get_split)\n",
    "val['text_split'] = val[DATA_COLUMN].apply(get_split)"
   ]
  },
  {
   "cell_type": "markdown",
   "metadata": {
    "id": "Bs4jczX3GcZ5"
   },
   "source": [
    "\n",
    "Go from array of chunks into dataframe of chunks."
   ]
  },
  {
   "cell_type": "code",
   "execution_count": 16,
   "metadata": {
    "colab": {
     "base_uri": "https://localhost:8080/",
     "height": 204
    },
    "id": "3BZnXCQiGBlf",
    "outputId": "dec4ed7a-5957-4ef9-9a8b-654dfb32508d"
   },
   "outputs": [
    {
     "data": {
      "text/html": [
       "<div>\n",
       "<style scoped>\n",
       "    .dataframe tbody tr th:only-of-type {\n",
       "        vertical-align: middle;\n",
       "    }\n",
       "\n",
       "    .dataframe tbody tr th {\n",
       "        vertical-align: top;\n",
       "    }\n",
       "\n",
       "    .dataframe thead th {\n",
       "        text-align: right;\n",
       "    }\n",
       "</style>\n",
       "<table border=\"1\" class=\"dataframe\">\n",
       "  <thead>\n",
       "    <tr style=\"text-align: right;\">\n",
       "      <th></th>\n",
       "      <th>text</th>\n",
       "      <th>label</th>\n",
       "    </tr>\n",
       "  </thead>\n",
       "  <tbody>\n",
       "    <tr>\n",
       "      <th>0</th>\n",
       "      <td>Luisa Bergalli 1703 in Venice 1779 in Venice w...</td>\n",
       "      <td>1</td>\n",
       "    </tr>\n",
       "    <tr>\n",
       "      <th>1</th>\n",
       "      <td>Battista Franco Veneziano also known by his co...</td>\n",
       "      <td>1</td>\n",
       "    </tr>\n",
       "    <tr>\n",
       "      <th>2</th>\n",
       "      <td>Antonio Diedo 15 November 1772 1 January 1847 ...</td>\n",
       "      <td>1</td>\n",
       "    </tr>\n",
       "    <tr>\n",
       "      <th>3</th>\n",
       "      <td>the Academy of Fine Arts of Venice In 1838 he ...</td>\n",
       "      <td>1</td>\n",
       "    </tr>\n",
       "    <tr>\n",
       "      <th>4</th>\n",
       "      <td>St SEP Mark Enthroned is an early painting by ...</td>\n",
       "      <td>1</td>\n",
       "    </tr>\n",
       "  </tbody>\n",
       "</table>\n",
       "</div>"
      ],
      "text/plain": [
       "                                                text  label\n",
       "0  Luisa Bergalli 1703 in Venice 1779 in Venice w...      1\n",
       "1  Battista Franco Veneziano also known by his co...      1\n",
       "2  Antonio Diedo 15 November 1772 1 January 1847 ...      1\n",
       "3  the Academy of Fine Arts of Venice In 1838 he ...      1\n",
       "4  St SEP Mark Enthroned is an early painting by ...      1"
      ]
     },
     "execution_count": 16,
     "metadata": {},
     "output_type": "execute_result"
    }
   ],
   "source": [
    "train_l = []\n",
    "label_l = []\n",
    "index_l =[]\n",
    "for idx,row in train.iterrows():\n",
    "    for l in row['text_split']:\n",
    "        train_l.append(l)\n",
    "        label_l.append(row['label'])\n",
    "        index_l.append(idx)\n",
    "\n",
    "train_df = pd.DataFrame({DATA_COLUMN:train_l, LABEL_COLUMN:label_l})\n",
    "train_df.head()"
   ]
  },
  {
   "cell_type": "code",
   "execution_count": 17,
   "metadata": {
    "colab": {
     "base_uri": "https://localhost:8080/",
     "height": 204
    },
    "id": "SHlqauc4GV9y",
    "outputId": "85c10e2b-ca96-4073-d267-7ab6ad39a7b4"
   },
   "outputs": [
    {
     "data": {
      "text/html": [
       "<div>\n",
       "<style scoped>\n",
       "    .dataframe tbody tr th:only-of-type {\n",
       "        vertical-align: middle;\n",
       "    }\n",
       "\n",
       "    .dataframe tbody tr th {\n",
       "        vertical-align: top;\n",
       "    }\n",
       "\n",
       "    .dataframe thead th {\n",
       "        text-align: right;\n",
       "    }\n",
       "</style>\n",
       "<table border=\"1\" class=\"dataframe\">\n",
       "  <thead>\n",
       "    <tr style=\"text-align: right;\">\n",
       "      <th></th>\n",
       "      <th>text</th>\n",
       "      <th>label</th>\n",
       "    </tr>\n",
       "  </thead>\n",
       "  <tbody>\n",
       "    <tr>\n",
       "      <th>0</th>\n",
       "      <td>Nicolò Contarini 26 September 1553 2 April 163...</td>\n",
       "      <td>1</td>\n",
       "    </tr>\n",
       "    <tr>\n",
       "      <th>1</th>\n",
       "      <td>Upon the death of Cornaro a heated debate led ...</td>\n",
       "      <td>1</td>\n",
       "    </tr>\n",
       "    <tr>\n",
       "      <th>2</th>\n",
       "      <td>Leonardo Donà or Donato Venice February 12 153...</td>\n",
       "      <td>1</td>\n",
       "    </tr>\n",
       "    <tr>\n",
       "      <th>3</th>\n",
       "      <td>future Pope Paul V Donatos staunchly anti papa...</td>\n",
       "      <td>1</td>\n",
       "    </tr>\n",
       "    <tr>\n",
       "      <th>4</th>\n",
       "      <td>1605 two weeks before Grimanis death Pope Paul...</td>\n",
       "      <td>1</td>\n",
       "    </tr>\n",
       "  </tbody>\n",
       "</table>\n",
       "</div>"
      ],
      "text/plain": [
       "                                                text  label\n",
       "0  Nicolò Contarini 26 September 1553 2 April 163...      1\n",
       "1  Upon the death of Cornaro a heated debate led ...      1\n",
       "2  Leonardo Donà or Donato Venice February 12 153...      1\n",
       "3  future Pope Paul V Donatos staunchly anti papa...      1\n",
       "4  1605 two weeks before Grimanis death Pope Paul...      1"
      ]
     },
     "execution_count": 17,
     "metadata": {},
     "output_type": "execute_result"
    }
   ],
   "source": [
    "val_l = []\n",
    "val_label_l = []\n",
    "val_index_l = []\n",
    "for idx,row in val.iterrows():\n",
    "    for l in row['text_split']:\n",
    "        val_l.append(l)\n",
    "        val_label_l.append(row['label'])\n",
    "        val_index_l.append(idx)\n",
    "\n",
    "val_df = pd.DataFrame({DATA_COLUMN:val_l, LABEL_COLUMN:val_label_l})\n",
    "val_df.head()"
   ]
  },
  {
   "cell_type": "markdown",
   "metadata": {
    "id": "lzZckFB_Gf5s"
   },
   "source": [
    "Text pre-processing truly finished; start moving data onto BERT."
   ]
  },
  {
   "cell_type": "code",
   "execution_count": 18,
   "metadata": {
    "id": "d-2SHrX3GgdW"
   },
   "outputs": [],
   "source": [
    "train_InputExamples = train_df.apply(lambda x: bert.run_classifier.InputExample(guid=None,\n",
    "                                                                   text_a = x[DATA_COLUMN], \n",
    "                                                                   text_b = None, \n",
    "                                                                   label = x[LABEL_COLUMN]), axis = 1)\n",
    "\n",
    "val_InputExamples = val_df.apply(lambda x: bert.run_classifier.InputExample(guid=None, \n",
    "                                                                   text_a = x[DATA_COLUMN], \n",
    "                                                                   text_b = None, \n",
    "                                                                   label = x[LABEL_COLUMN]), axis = 1)"
   ]
  },
  {
   "cell_type": "code",
   "execution_count": 19,
   "metadata": {
    "id": "9TTw7ddPGlRl"
   },
   "outputs": [],
   "source": [
    "# This is a path to an uncased (all lowercase) version of BERT\n",
    "BERT_MODEL_HUB = \"https://tfhub.dev/google/bert_uncased_L-12_H-768_A-12/1\"\n",
    "\n",
    "def create_tokenizer_from_hub_module():\n",
    "    \"\"\"Get the vocab file and casing info from the Hub module.\"\"\"\n",
    "    with tf.Graph().as_default():\n",
    "        bert_module = hub.Module(BERT_MODEL_HUB)\n",
    "        tokenization_info = bert_module(signature=\"tokenization_info\", as_dict=True)\n",
    "        with tf.Session() as sess:\n",
    "            vocab_file, do_lower_case = sess.run([tokenization_info[\"vocab_file\"],\n",
    "                                            tokenization_info[\"do_lower_case\"]])\n",
    "      \n",
    "    return bert.tokenization.FullTokenizer(\n",
    "      vocab_file=vocab_file, do_lower_case=do_lower_case)\n",
    "\n",
    "tokenizer = create_tokenizer_from_hub_module()"
   ]
  },
  {
   "cell_type": "code",
   "execution_count": 20,
   "metadata": {
    "id": "C3VyTARAGm4j"
   },
   "outputs": [],
   "source": [
    "MAX_SEQ_LENGTH = 200\n",
    "\n",
    "# Convert our train and validation features to InputFeatures that BERT understands.\n",
    "train_features = bert.run_classifier.convert_examples_to_features(\n",
    "    train_InputExamples, label_list, MAX_SEQ_LENGTH, tokenizer)\n",
    "\n",
    "val_features = bert.run_classifier.convert_examples_to_features(\n",
    "    val_InputExamples, label_list, MAX_SEQ_LENGTH, tokenizer)"
   ]
  },
  {
   "cell_type": "code",
   "execution_count": 56,
   "metadata": {
    "id": "wuGb0n9HGpA8"
   },
   "outputs": [],
   "source": [
    "def create_model(is_predicting, input_ids, input_mask, segment_ids, labels,\n",
    "                                 num_labels):\n",
    "    \"\"\"Creates a classification model.\"\"\"\n",
    "\n",
    "    bert_module = hub.Module(\n",
    "            BERT_MODEL_HUB,\n",
    "            trainable=True)\n",
    "    bert_inputs = dict(\n",
    "            input_ids=input_ids,\n",
    "            input_mask=input_mask,\n",
    "            segment_ids=segment_ids)\n",
    "    bert_outputs = bert_module(\n",
    "            inputs=bert_inputs,\n",
    "            signature=\"tokens\",\n",
    "            as_dict=True)\n",
    "\n",
    "    # Use \"pooled_output\" for classification tasks on an entire sentence.\n",
    "    # Use \"sequence_outputs\" for token-level output.\n",
    "    output_layer = bert_outputs[\"pooled_output\"]\n",
    "\n",
    "    hidden_size = output_layer.shape[-1].value\n",
    "\n",
    "    # Create our own layer to tune for politeness data.\n",
    "    output_weights = tf.get_variable(\n",
    "            \"output_weights\", [num_labels, hidden_size],\n",
    "            initializer=tf.truncated_normal_initializer(stddev=0.02))\n",
    "\n",
    "    output_bias = tf.get_variable(\n",
    "            \"output_bias\", [num_labels], initializer=tf.zeros_initializer())\n",
    "\n",
    "    with tf.variable_scope(\"loss\"):\n",
    "\n",
    "        # Dropout helps prevent overfitting\n",
    "        output_layer = tf.nn.dropout(output_layer, keep_prob=0.5)\n",
    "\n",
    "        logits = tf.matmul(output_layer, output_weights, transpose_b=True)\n",
    "        logits = tf.nn.bias_add(logits, output_bias)\n",
    "        log_probs = tf.nn.log_softmax(logits, axis=-1)\n",
    "\n",
    "        # Convert labels into one-hot encoding\n",
    "        one_hot_labels = tf.one_hot(labels, depth=num_labels, dtype=tf.float32)\n",
    "\n",
    "        predicted_labels = tf.squeeze(tf.argmax(log_probs, axis=-1, output_type=tf.int32))\n",
    "        # If we're predicting, we want predicted labels and the probabiltiies.\n",
    "        if is_predicting:\n",
    "            return (predicted_labels, log_probs)\n",
    "\n",
    "        # If we're train/eval, compute loss between predicted and actual label\n",
    "        per_example_loss = -tf.reduce_sum(one_hot_labels * log_probs, axis=-1)\n",
    "        loss = tf.reduce_mean(per_example_loss)\n",
    "        return (loss, predicted_labels, log_probs)\n",
    "\n",
    "\n",
    "# model_fn_builder actually creates our model function\n",
    "# using the passed parameters for num_labels, learning_rate, etc.\n",
    "def model_fn_builder(num_labels, learning_rate, num_train_steps,\n",
    "                                         num_warmup_steps):\n",
    "    \"\"\"Returns `model_fn` closure for TPUEstimator.\"\"\"\n",
    "    def model_fn(features, labels, mode, params):    # pylint: disable=unused-argument\n",
    "        \"\"\"The `model_fn` for TPUEstimator.\"\"\"\n",
    "\n",
    "        input_ids = features[\"input_ids\"]\n",
    "        input_mask = features[\"input_mask\"]\n",
    "        segment_ids = features[\"segment_ids\"]\n",
    "        label_ids = features[\"label_ids\"]\n",
    "\n",
    "        is_predicting = (mode == tf.estimator.ModeKeys.PREDICT)\n",
    "        \n",
    "        # TRAIN and EVAL\n",
    "        if not is_predicting:\n",
    "\n",
    "            (loss, predicted_labels, log_probs) = create_model(\n",
    "                is_predicting, input_ids, input_mask, segment_ids, label_ids, num_labels)\n",
    "\n",
    "            train_op = bert.optimization.create_optimizer(\n",
    "                    loss, learning_rate, num_train_steps, num_warmup_steps, use_tpu=False)\n",
    "\n",
    "            # Calculate evaluation metrics. \n",
    "            def metric_fn(label_ids, predicted_labels):\n",
    "                accuracy = tf.metrics.accuracy(label_ids, predicted_labels)\n",
    "                f1_score = tf.contrib.metrics.f1_score(\n",
    "                        label_ids,\n",
    "                        predicted_labels)\n",
    "                auc = tf.metrics.auc(\n",
    "                        label_ids,\n",
    "                        predicted_labels)\n",
    "                recall = tf.metrics.recall(\n",
    "                        label_ids,\n",
    "                        predicted_labels)\n",
    "                precision = tf.metrics.precision(\n",
    "                        label_ids,\n",
    "                        predicted_labels) \n",
    "                true_pos = tf.metrics.true_positives(\n",
    "                        label_ids,\n",
    "                        predicted_labels)\n",
    "                true_neg = tf.metrics.true_negatives(\n",
    "                        label_ids,\n",
    "                        predicted_labels)     \n",
    "                false_pos = tf.metrics.false_positives(\n",
    "                        label_ids,\n",
    "                        predicted_labels)    \n",
    "                false_neg = tf.metrics.false_negatives(\n",
    "                        label_ids,\n",
    "                        predicted_labels)\n",
    "                return {\n",
    "                        \"eval_accuracy\": accuracy,\n",
    "                        \"f1_score\": f1_score,\n",
    "                        \"auc\": auc,\n",
    "                        \"precision\": precision,\n",
    "                        \"recall\": recall,\n",
    "                        \"true_positives\": true_pos,\n",
    "                        \"true_negatives\": true_neg,\n",
    "                        \"false_positives\": false_pos,\n",
    "                        \"false_negatives\": false_neg\n",
    "                }\n",
    "\n",
    "            eval_metrics = metric_fn(label_ids, predicted_labels)\n",
    "\n",
    "            if mode == tf.estimator.ModeKeys.TRAIN:\n",
    "                return tf.estimator.EstimatorSpec(mode=mode,\n",
    "                    loss=loss,\n",
    "                    train_op=train_op)\n",
    "            else:\n",
    "                    return tf.estimator.EstimatorSpec(mode=mode,\n",
    "                        loss=loss,\n",
    "                        eval_metric_ops=eval_metrics)\n",
    "        else:\n",
    "            (predicted_labels, log_probs) = create_model(\n",
    "                is_predicting, input_ids, input_mask, segment_ids, label_ids, num_labels)\n",
    "\n",
    "            predictions = {\n",
    "                    'probabilities': log_probs,\n",
    "                    'labels': predicted_labels\n",
    "            }\n",
    "            return tf.estimator.EstimatorSpec(mode, predictions=predictions)\n",
    "\n",
    "    # Return the actual model function in the closure\n",
    "    return model_fn"
   ]
  },
  {
   "cell_type": "code",
   "execution_count": 57,
   "metadata": {
    "id": "e2QHlm1wGtDY"
   },
   "outputs": [],
   "source": [
    "BATCH_SIZE = 16\n",
    "LEARNING_RATE = 2e-5\n",
    "NUM_TRAIN_EPOCHS = 2.0\n",
    "# Warmup is a period of time where the learning rate is small and gradually increases--usually helps training.\n",
    "WARMUP_PROPORTION = 0.1\n",
    "# Model configs\n",
    "SAVE_CHECKPOINTS_STEPS = 300\n",
    "SAVE_SUMMARY_STEPS = 100\n",
    "\n",
    "# Compute train and warmup steps from batch size\n",
    "num_train_steps = int(len(train_features) / BATCH_SIZE * NUM_TRAIN_EPOCHS)\n",
    "num_warmup_steps = int(num_train_steps * WARMUP_PROPORTION)\n",
    "\n",
    "# Specify output directory and number of checkpoint steps to save\n",
    "run_config = tf.estimator.RunConfig(\n",
    "    model_dir=OUTPUT_DIR,\n",
    "    save_summary_steps=SAVE_SUMMARY_STEPS,\n",
    "    save_checkpoints_steps=SAVE_CHECKPOINTS_STEPS)\n",
    "\n",
    "# Specify output directory and number of checkpoint steps to save\n",
    "run_config = tf.estimator.RunConfig(\n",
    "    model_dir=OUTPUT_DIR,\n",
    "    save_summary_steps=SAVE_SUMMARY_STEPS,\n",
    "    save_checkpoints_steps=SAVE_CHECKPOINTS_STEPS)"
   ]
  },
  {
   "cell_type": "code",
   "execution_count": 58,
   "metadata": {
    "id": "qYjElVk4GvwP"
   },
   "outputs": [],
   "source": [
    "#Initializing the model and the estimator\n",
    "model_fn = model_fn_builder(\n",
    "  num_labels=len(label_list),\n",
    "  learning_rate=LEARNING_RATE,\n",
    "  num_train_steps=num_train_steps,\n",
    "  num_warmup_steps=num_warmup_steps)\n",
    "\n",
    "estimator = tf.estimator.Estimator(\n",
    "  model_fn=model_fn,\n",
    "  config=run_config,\n",
    "  params={\"batch_size\": BATCH_SIZE})"
   ]
  },
  {
   "cell_type": "code",
   "execution_count": 59,
   "metadata": {
    "id": "Ja_lkPv9GxqR"
   },
   "outputs": [],
   "source": [
    "# Create an input function for training. drop_remainder = True for using TPUs.\n",
    "train_input_fn = bert.run_classifier.input_fn_builder(\n",
    "    features=train_features,\n",
    "    seq_length=MAX_SEQ_LENGTH,\n",
    "    is_training=True,\n",
    "    drop_remainder=False)\n",
    "\n",
    "test_input_fn = run_classifier.input_fn_builder(\n",
    "    features=val_features,\n",
    "    seq_length=MAX_SEQ_LENGTH,\n",
    "    is_training=False,\n",
    "    drop_remainder=False)"
   ]
  },
  {
   "cell_type": "code",
   "execution_count": 60,
   "metadata": {
    "colab": {
     "base_uri": "https://localhost:8080/"
    },
    "id": "RKUisjfBGzbC",
    "outputId": "4c93ee0e-594c-45f4-cdf7-c4d0fe14aeb4"
   },
   "outputs": [
    {
     "name": "stdout",
     "output_type": "stream",
     "text": [
      "Beginning Training!\n"
     ]
    },
    {
     "name": "stderr",
     "output_type": "stream",
     "text": [
      "/dhlabdata4/bborges/.conda/envs/bertp2/lib/python3.6/site-packages/tensorflow/python/ops/gradients_util.py:93: UserWarning: Converting sparse IndexedSlices to a dense Tensor of unknown shape. This may consume a large amount of memory.\n",
      "  \"Converting sparse IndexedSlices to a dense Tensor of unknown shape. \"\n"
     ]
    },
    {
     "name": "stdout",
     "output_type": "stream",
     "text": [
      "Training took time  0:14:43.161784\n"
     ]
    }
   ],
   "source": [
    "# Training the model\n",
    "print(f'Beginning Training!')\n",
    "current_time = datetime.now()\n",
    "estimator.train(input_fn=train_input_fn, max_steps=num_train_steps)\n",
    "print(\"Training took time \", datetime.now() - current_time)"
   ]
  },
  {
   "cell_type": "code",
   "execution_count": 61,
   "metadata": {
    "colab": {
     "base_uri": "https://localhost:8080/"
    },
    "id": "b4sSYbftG12E",
    "outputId": "01c2f141-2272-46fc-a703-2859d376a3ef"
   },
   "outputs": [
    {
     "name": "stderr",
     "output_type": "stream",
     "text": [
      "/dhlabdata4/bborges/.conda/envs/bertp2/lib/python3.6/site-packages/tensorflow/python/ops/gradients_util.py:93: UserWarning: Converting sparse IndexedSlices to a dense Tensor of unknown shape. This may consume a large amount of memory.\n",
      "  \"Converting sparse IndexedSlices to a dense Tensor of unknown shape. \"\n"
     ]
    },
    {
     "data": {
      "text/plain": [
       "{'auc': 0.866433,\n",
       " 'eval_accuracy': 0.9705015,\n",
       " 'f1_score': 0.98439926,\n",
       " 'false_negatives': 11.0,\n",
       " 'false_positives': 9.0,\n",
       " 'loss': 0.09608859,\n",
       " 'precision': 0.9859375,\n",
       " 'recall': 0.98286605,\n",
       " 'true_negatives': 27.0,\n",
       " 'true_positives': 631.0,\n",
       " 'global_step': 299}"
      ]
     },
     "execution_count": 61,
     "metadata": {},
     "output_type": "execute_result"
    }
   ],
   "source": [
    "# Evaluating the model with Validation set\n",
    "estimator.evaluate(input_fn=test_input_fn, steps=None)"
   ]
  },
  {
   "cell_type": "markdown",
   "metadata": {
    "id": "DM5bir1VG4xt"
   },
   "source": [
    "\n",
    "Model trained, select best chunks."
   ]
  },
  {
   "cell_type": "code",
   "execution_count": 62,
   "metadata": {
    "id": "6-jb5O2XG4US"
   },
   "outputs": [],
   "source": [
    "def getPrediction(in_sentences):\n",
    "    labels = [\"Fake\", \"Real\"]\n",
    "    input_examples = [run_classifier.InputExample(guid=\"\", text_a = x[0], text_b = None , label = 0) \n",
    "                      for x in in_sentences] # here, \"\" is just a dummy label\n",
    "    input_features = run_classifier.convert_examples_to_features(\n",
    "        input_examples, label_list, MAX_SEQ_LENGTH, tokenizer)\n",
    "    predict_input_fn = run_classifier.input_fn_builder(\n",
    "        features=input_features, seq_length=MAX_SEQ_LENGTH, is_training=False, drop_remainder=False)\n",
    "    print(predict_input_fn)\n",
    "    predictions = estimator.predict(predict_input_fn)\n",
    "    return pd.DataFrame([(sentence, np.exp(prediction['probabilities'][1]), \n",
    "                          labels[prediction['labels']]) \n",
    "                         for sentence, prediction in zip(in_sentences, predictions)], \n",
    "                        columns=['bio', 'prob_real','label'])"
   ]
  },
  {
   "cell_type": "code",
   "execution_count": 63,
   "metadata": {
    "colab": {
     "base_uri": "https://localhost:8080/",
     "height": 419
    },
    "id": "YchxEpV1qHbX",
    "outputId": "73d0f0c1-269e-4681-a6f5-cb7f20debc5e"
   },
   "outputs": [
    {
     "name": "stdout",
     "output_type": "stream",
     "text": [
      "<function input_fn_builder.<locals>.input_fn at 0x7fa180aaa378>\n"
     ]
    },
    {
     "data": {
      "text/html": [
       "<div>\n",
       "<style scoped>\n",
       "    .dataframe tbody tr th:only-of-type {\n",
       "        vertical-align: middle;\n",
       "    }\n",
       "\n",
       "    .dataframe tbody tr th {\n",
       "        vertical-align: top;\n",
       "    }\n",
       "\n",
       "    .dataframe thead th {\n",
       "        text-align: right;\n",
       "    }\n",
       "</style>\n",
       "<table border=\"1\" class=\"dataframe\">\n",
       "  <thead>\n",
       "    <tr style=\"text-align: right;\">\n",
       "      <th></th>\n",
       "      <th>bio</th>\n",
       "      <th>prob_real</th>\n",
       "      <th>label</th>\n",
       "    </tr>\n",
       "  </thead>\n",
       "  <tbody>\n",
       "    <tr>\n",
       "      <th>39</th>\n",
       "      <td>[Pierre Spitznagel O Carm SEP 1411 1465 was a ...</td>\n",
       "      <td>0.999395</td>\n",
       "      <td>Real</td>\n",
       "    </tr>\n",
       "    <tr>\n",
       "      <th>125</th>\n",
       "      <td>[The Two Foscari An Historical Tragedy 1821 is...</td>\n",
       "      <td>0.999278</td>\n",
       "      <td>Real</td>\n",
       "    </tr>\n",
       "    <tr>\n",
       "      <th>47</th>\n",
       "      <td>[Theodora Doukaina Greek before 1059 after 107...</td>\n",
       "      <td>0.999166</td>\n",
       "      <td>Real</td>\n",
       "    </tr>\n",
       "    <tr>\n",
       "      <th>1</th>\n",
       "      <td>[Leonardo Donà or Donato Venice February 12 15...</td>\n",
       "      <td>0.999157</td>\n",
       "      <td>Real</td>\n",
       "    </tr>\n",
       "    <tr>\n",
       "      <th>2</th>\n",
       "      <td>[Girolamo Michelangelo Grigoletti 29 August 18...</td>\n",
       "      <td>0.999079</td>\n",
       "      <td>Real</td>\n",
       "    </tr>\n",
       "    <tr>\n",
       "      <th>...</th>\n",
       "      <td>...</td>\n",
       "      <td>...</td>\n",
       "      <td>...</td>\n",
       "    </tr>\n",
       "    <tr>\n",
       "      <th>88</th>\n",
       "      <td>[Nicolao Colletti also written Coletti 18th ce...</td>\n",
       "      <td>0.984484</td>\n",
       "      <td>Real</td>\n",
       "    </tr>\n",
       "    <tr>\n",
       "      <th>108</th>\n",
       "      <td>[Ugo Pendini August 14 1853 1895 was an Italia...</td>\n",
       "      <td>0.983787</td>\n",
       "      <td>Real</td>\n",
       "    </tr>\n",
       "    <tr>\n",
       "      <th>31</th>\n",
       "      <td>[Albano Contarini was a Venetian nobleman and ...</td>\n",
       "      <td>0.980954</td>\n",
       "      <td>Real</td>\n",
       "    </tr>\n",
       "    <tr>\n",
       "      <th>217</th>\n",
       "      <td>[Lorenzo de Monacis was a distinguished diplom...</td>\n",
       "      <td>0.049343</td>\n",
       "      <td>Fake</td>\n",
       "    </tr>\n",
       "    <tr>\n",
       "      <th>169</th>\n",
       "      <td>[Contarina Barbarigo died 25 December 1804 was...</td>\n",
       "      <td>0.025767</td>\n",
       "      <td>Fake</td>\n",
       "    </tr>\n",
       "  </tbody>\n",
       "</table>\n",
       "<p>237 rows × 3 columns</p>\n",
       "</div>"
      ],
      "text/plain": [
       "                                                   bio  prob_real label\n",
       "39   [Pierre Spitznagel O Carm SEP 1411 1465 was a ...   0.999395  Real\n",
       "125  [The Two Foscari An Historical Tragedy 1821 is...   0.999278  Real\n",
       "47   [Theodora Doukaina Greek before 1059 after 107...   0.999166  Real\n",
       "1    [Leonardo Donà or Donato Venice February 12 15...   0.999157  Real\n",
       "2    [Girolamo Michelangelo Grigoletti 29 August 18...   0.999079  Real\n",
       "..                                                 ...        ...   ...\n",
       "88   [Nicolao Colletti also written Coletti 18th ce...   0.984484  Real\n",
       "108  [Ugo Pendini August 14 1853 1895 was an Italia...   0.983787  Real\n",
       "31   [Albano Contarini was a Venetian nobleman and ...   0.980954  Real\n",
       "217  [Lorenzo de Monacis was a distinguished diplom...   0.049343  Fake\n",
       "169  [Contarina Barbarigo died 25 December 1804 was...   0.025767  Fake\n",
       "\n",
       "[237 rows x 3 columns]"
      ]
     },
     "execution_count": 63,
     "metadata": {},
     "output_type": "execute_result"
    }
   ],
   "source": [
    "real_sent = val.loc[val['label']==1,['text']].values.tolist()\n",
    "\n",
    "predictions_real = getPrediction(real_sent)\n",
    "predictions_real.sort_values('prob_real', ascending=False)"
   ]
  },
  {
   "cell_type": "code",
   "execution_count": 49,
   "metadata": {
    "id": "G8GN9M4rG_Nm"
   },
   "outputs": [],
   "source": [
    "# proposed_replies = pd.read_csv('TODO_proposed_replies.csv').dropna()\n",
    "# replies_to_test = proposed_replies[['text']].values.tolist()\n",
    "proposed_bio = generate_fake_bio(\"Antonio Di Wolfio was a venetian hunter. [SEP] \")"
   ]
  },
  {
   "cell_type": "code",
   "execution_count": 50,
   "metadata": {
    "colab": {
     "base_uri": "https://localhost:8080/",
     "height": 221
    },
    "id": "KzohSZ-Rljgc",
    "outputId": "5a53098a-44b3-4e46-b453-75bc396f74e9"
   },
   "outputs": [
    {
     "name": "stdout",
     "output_type": "stream",
     "text": [
      "<function input_fn_builder.<locals>.input_fn at 0x7fa180d9ce18>\n"
     ]
    },
    {
     "data": {
      "text/html": [
       "<div>\n",
       "<style scoped>\n",
       "    .dataframe tbody tr th:only-of-type {\n",
       "        vertical-align: middle;\n",
       "    }\n",
       "\n",
       "    .dataframe tbody tr th {\n",
       "        vertical-align: top;\n",
       "    }\n",
       "\n",
       "    .dataframe thead th {\n",
       "        text-align: right;\n",
       "    }\n",
       "</style>\n",
       "<table border=\"1\" class=\"dataframe\">\n",
       "  <thead>\n",
       "    <tr style=\"text-align: right;\">\n",
       "      <th></th>\n",
       "      <th>bio</th>\n",
       "      <th>prob_real</th>\n",
       "      <th>label</th>\n",
       "    </tr>\n",
       "  </thead>\n",
       "  <tbody>\n",
       "    <tr>\n",
       "      <th>4</th>\n",
       "      <td>with the title of \"superintended\" bishop of Ve...</td>\n",
       "      <td>0.210850</td>\n",
       "      <td>Fake</td>\n",
       "    </tr>\n",
       "    <tr>\n",
       "      <th>2</th>\n",
       "      <td>1431 to 1432, he was lord of Negroponte. On 7 ...</td>\n",
       "      <td>0.195992</td>\n",
       "      <td>Fake</td>\n",
       "    </tr>\n",
       "    <tr>\n",
       "      <th>1</th>\n",
       "      <td>to the Italian throne, resisted by the Republi...</td>\n",
       "      <td>0.185716</td>\n",
       "      <td>Fake</td>\n",
       "    </tr>\n",
       "    <tr>\n",
       "      <th>5</th>\n",
       "      <td>dummy</td>\n",
       "      <td>0.184486</td>\n",
       "      <td>Fake</td>\n",
       "    </tr>\n",
       "    <tr>\n",
       "      <th>0</th>\n",
       "      <td>Antonio Di Wolfio was a venetian hunter. [SEP]...</td>\n",
       "      <td>0.146085</td>\n",
       "      <td>Fake</td>\n",
       "    </tr>\n",
       "    <tr>\n",
       "      <th>3</th>\n",
       "      <td>Saints Nazario and Celso in Vicenza. On 4 Janu...</td>\n",
       "      <td>0.135605</td>\n",
       "      <td>Fake</td>\n",
       "    </tr>\n",
       "  </tbody>\n",
       "</table>\n",
       "</div>"
      ],
      "text/plain": [
       "                                                 bio  prob_real label\n",
       "4  with the title of \"superintended\" bishop of Ve...   0.210850  Fake\n",
       "2  1431 to 1432, he was lord of Negroponte. On 7 ...   0.195992  Fake\n",
       "1  to the Italian throne, resisted by the Republi...   0.185716  Fake\n",
       "5                                              dummy   0.184486  Fake\n",
       "0  Antonio Di Wolfio was a venetian hunter. [SEP]...   0.146085  Fake\n",
       "3  Saints Nazario and Celso in Vicenza. On 4 Janu...   0.135605  Fake"
      ]
     },
     "execution_count": 50,
     "metadata": {},
     "output_type": "execute_result"
    }
   ],
   "source": [
    "predictions_proposed = getPrediction(get_split(proposed_bio) + ['dummy'])\n",
    "predictions_proposed.sort_values('prob_real', ascending=False)"
   ]
  },
  {
   "cell_type": "code",
   "execution_count": 51,
   "metadata": {
    "colab": {
     "base_uri": "https://localhost:8080/",
     "height": 190
    },
    "id": "Dug2hXrZmZHF",
    "outputId": "2d6b5ca1-c8a2-48f5-f512-5de1dd65dde4"
   },
   "outputs": [
    {
     "name": "stdout",
     "output_type": "stream",
     "text": [
      "<function input_fn_builder.<locals>.input_fn at 0x7fa3e9927f28>\n"
     ]
    },
    {
     "data": {
      "text/html": [
       "<div>\n",
       "<style scoped>\n",
       "    .dataframe tbody tr th:only-of-type {\n",
       "        vertical-align: middle;\n",
       "    }\n",
       "\n",
       "    .dataframe tbody tr th {\n",
       "        vertical-align: top;\n",
       "    }\n",
       "\n",
       "    .dataframe thead th {\n",
       "        text-align: right;\n",
       "    }\n",
       "</style>\n",
       "<table border=\"1\" class=\"dataframe\">\n",
       "  <thead>\n",
       "    <tr style=\"text-align: right;\">\n",
       "      <th></th>\n",
       "      <th>bio</th>\n",
       "      <th>prob_real</th>\n",
       "      <th>label</th>\n",
       "    </tr>\n",
       "  </thead>\n",
       "  <tbody>\n",
       "    <tr>\n",
       "      <th>1</th>\n",
       "      <td>with the succession to the Italian throne resi...</td>\n",
       "      <td>0.205483</td>\n",
       "      <td>Fake</td>\n",
       "    </tr>\n",
       "    <tr>\n",
       "      <th>4</th>\n",
       "      <td>cardinal by Pope Paul IV with the title of sup...</td>\n",
       "      <td>0.200745</td>\n",
       "      <td>Fake</td>\n",
       "    </tr>\n",
       "    <tr>\n",
       "      <th>5</th>\n",
       "      <td>dummy</td>\n",
       "      <td>0.181982</td>\n",
       "      <td>Fake</td>\n",
       "    </tr>\n",
       "    <tr>\n",
       "      <th>3</th>\n",
       "      <td>abbot of the Abbey of Saints Nazario and Celso...</td>\n",
       "      <td>0.162928</td>\n",
       "      <td>Fake</td>\n",
       "    </tr>\n",
       "    <tr>\n",
       "      <th>0</th>\n",
       "      <td>Antonio Di Wolfio was a venetian hunter SEP He...</td>\n",
       "      <td>0.150778</td>\n",
       "      <td>Fake</td>\n",
       "    </tr>\n",
       "    <tr>\n",
       "      <th>2</th>\n",
       "      <td>of Chios and from 1431 to 1432 he was lord of ...</td>\n",
       "      <td>0.068841</td>\n",
       "      <td>Fake</td>\n",
       "    </tr>\n",
       "  </tbody>\n",
       "</table>\n",
       "</div>"
      ],
      "text/plain": [
       "                                                 bio  prob_real label\n",
       "1  with the succession to the Italian throne resi...   0.205483  Fake\n",
       "4  cardinal by Pope Paul IV with the title of sup...   0.200745  Fake\n",
       "5                                              dummy   0.181982  Fake\n",
       "3  abbot of the Abbey of Saints Nazario and Celso...   0.162928  Fake\n",
       "0  Antonio Di Wolfio was a venetian hunter SEP He...   0.150778  Fake\n",
       "2  of Chios and from 1431 to 1432 he was lord of ...   0.068841  Fake"
      ]
     },
     "execution_count": 51,
     "metadata": {},
     "output_type": "execute_result"
    }
   ],
   "source": [
    "predictions_proposed = getPrediction(get_split(clean_txt(proposed_bio)) + ['dummy'])\n",
    "predictions_proposed.sort_values('prob_real', ascending=False)"
   ]
  },
  {
   "cell_type": "code",
   "execution_count": 52,
   "metadata": {
    "colab": {
     "base_uri": "https://localhost:8080/",
     "height": 395
    },
    "id": "KbGmSTtJc-3H",
    "outputId": "a795d863-49b8-433c-a6ed-2dc715c49e99"
   },
   "outputs": [
    {
     "data": {
      "text/plain": [
       "'Antonio Di Wolfio was a venetian hunter. [SEP]    He was a member of the famous Wolfi family of Venetians. His brother Benedetto returned home. He was a member of a noble family from Bergamo, now in decline. He had two sons: Benedetto III d\\'Este (1490–1511) and Benedetto IV (1511–1553). His daughters Elena (d. 1572) and Marietta (d. 1694) had two daughters who were all  prominent in Venetian politics and culture. His son Bernardo IV (1554–1629) was a very worthy opponent of the Bernardo family, as he was a descendant of the Lombard traders and had close ties with the Bolognese.    He was one of the richest Venetian patricians. He owned seven chancery in Venice, one of the most important estates of the Venetian patriciate.    On 14 January 1411, Antonio di Matteo married his cousin Caterina Barbarigo, daughter of the noble dukes of Urbino and Titian (antagonistic unions with the succession to the Italian throne, resisted by the Republic of Venice).    On 13 January 1412, he was elected to the Council of Ten, the most prestigious office in the state. He was named the official of the Venetian state. On 10 May 1414, he was elected to the Council of Ten. He was the last person to be elected to the Ten, which was established by the Twelve, after the Council of Rome. Legally, he was the suzerain of Venice, as he was the legal candidate of the state. In the chancery of his friend Andrea Barbarigo, he and his brother Benedetto jointly owned companies that produced numerous Venetian articles. His chancery was called upon to settle a debt due to the Duke of Urbino. In 1428, he was sent to the Ottoman court to pay an estate in Ottoman territory. In 1429–30, he was named lord of Chios, and from 1431 to 1432, he was lord of Negroponte.    On 7 March 1432, he was created cardinal by the Apostolic See and was named papal legate to the Venetian Republic. On 13 June 1433, he was elected to the office of bishop of Bergamo. From 1435 to 1437, he was the abbot of the Abbey of Saints Nazario and Celso in Vicenza. He was also the administrator of the duchy of Porto and lord of Brunello and Palatine.In 1438, he was sent to the court of Emperor Rudolf II. He occupied various offices in the imperial court, such as legate, ambassador, count and provveditore. He was administrator of the palazzo of Florence. He became the first person to be appointed cardinal by the Doge of Rome in 1451, when he was named cardinal by the new pope, Adrian VI. From 1454 to 1456, he was the abbot of the Abbey of Saints Nazario and Celso in Vicenza.     On 4 January 1458, he was created cardinal by the new pope, Pope Gregory VIII, in a ceremony held in the chapel of the church of San Marco. On the advice of the new pope, he was assisted by his cousin, the future pope Julius II. On 19 January 1459, he was consecrated bishop by his cousin Julius II, with Francesco Vecellio serving as president. From 1461 to 1462, he served as bishop of Verona.    In 1460, he was appointed cardinal priest by Pope Nicholas V, supported by the King of Italy, Ferdinando I Gonzaga. His appointment was not confirmed by the king\\'s council, and he declined to become cardinal. On 4 February 1461, he was named papal legate to the Venetian Republic. He held that office until his death in 1469.    On 4 March 1463, he was made cardinal by Pope Paul IV, with the title of \"superintended\" bishop of Venice. He held the office of \"superintended\" until Pope Julius II died on 1 March 1463, and then the titular church of the Archdiocese of Veneto, which was given to his nephew, the future pope Pius IV. He was the first papal nominee of his nephew, Benedetto, but the latter withdrew from the superintendence on 3 October 1464, because of a disagreement with his teacher Pius.     On 10 May 1465, he was created cardinal priest by Pope Pius IV, with the title of \"supra\" cardinal, and the cardinal of San Marco. On 30 September 1466, he was elected Bishop of Brixen'"
      ]
     },
     "execution_count": 52,
     "metadata": {},
     "output_type": "execute_result"
    }
   ],
   "source": [
    "proposed_bio"
   ]
  },
  {
   "cell_type": "code",
   "execution_count": null,
   "metadata": {},
   "outputs": [],
   "source": []
  },
  {
   "cell_type": "code",
   "execution_count": 53,
   "metadata": {},
   "outputs": [
    {
     "name": "stdout",
     "output_type": "stream",
     "text": [
      "<function input_fn_builder.<locals>.input_fn at 0x7fa103d4c268>\n"
     ]
    },
    {
     "data": {
      "text/html": [
       "<div>\n",
       "<style scoped>\n",
       "    .dataframe tbody tr th:only-of-type {\n",
       "        vertical-align: middle;\n",
       "    }\n",
       "\n",
       "    .dataframe tbody tr th {\n",
       "        vertical-align: top;\n",
       "    }\n",
       "\n",
       "    .dataframe thead th {\n",
       "        text-align: right;\n",
       "    }\n",
       "</style>\n",
       "<table border=\"1\" class=\"dataframe\">\n",
       "  <thead>\n",
       "    <tr style=\"text-align: right;\">\n",
       "      <th></th>\n",
       "      <th>bio</th>\n",
       "      <th>prob_real</th>\n",
       "      <th>label</th>\n",
       "    </tr>\n",
       "  </thead>\n",
       "  <tbody>\n",
       "    <tr>\n",
       "      <th>2</th>\n",
       "      <td>dummy</td>\n",
       "      <td>0.153999</td>\n",
       "      <td>Fake</td>\n",
       "    </tr>\n",
       "    <tr>\n",
       "      <th>0</th>\n",
       "      <td>Federico Faggin born 1 December 1941 is an Ita...</td>\n",
       "      <td>0.131954</td>\n",
       "      <td>Fake</td>\n",
       "    </tr>\n",
       "    <tr>\n",
       "      <th>1</th>\n",
       "      <td>of Cygnet Technologies and then Synaptics In 2...</td>\n",
       "      <td>0.090662</td>\n",
       "      <td>Fake</td>\n",
       "    </tr>\n",
       "  </tbody>\n",
       "</table>\n",
       "</div>"
      ],
      "text/plain": [
       "                                                 bio  prob_real label\n",
       "2                                              dummy   0.153999  Fake\n",
       "0  Federico Faggin born 1 December 1941 is an Ita...   0.131954  Fake\n",
       "1  of Cygnet Technologies and then Synaptics In 2...   0.090662  Fake"
      ]
     },
     "execution_count": 53,
     "metadata": {},
     "output_type": "execute_result"
    }
   ],
   "source": [
    "predictions_proposed = getPrediction(get_split(clean_txt(\"\"\"Federico Faggin (born 1 December 1941) is an Italian-American physicist, engineer, inventor and entrepreneur. He is best known for designing the first commercial microprocessor, the Intel 4004. He led the 4004 (MCS-4) project and the design group during the first five years of Intel's microprocessor effort. Faggin also created, while working at Fairchild Semiconductor in 1968, the self-aligned MOS (metal–oxide–semiconductor) silicon-gate technology (SGT), which made possible MOS semiconductor memory chips, CCD image sensors, and the microprocessor. After the 4004, he led development of the Intel 8008 and 8080, using his SGT methodology for random logic chip design, which was essential to the creation of early Intel microprocessors. He was co-founder (with Ralph Ungermann) and CEO of Zilog, the first company solely dedicated to microprocessors, and led the development of the Zilog Z80 and Z8 processors. He was later the co-founder and CEO of Cygnet Technologies, and then Synaptics.\n",
    "\n",
    "In 2010, he received the 2009 National Medal of Technology and Innovation, the highest honor the United States confers for achievements related to technological progress. In 2011, Faggin founded the Federico and Elvia Faggin Foundation to support the scientific study of consciousness at US universities and research institutes. In 2015, the Faggin Foundation helped to establish a $1 million endowment for the Faggin Family Presidential Chair in the Physics of Information at UC Santa Cruz to promote the study of \"fundamental questions at the interface of physics and related fields including mathematics, complex systems, biophysics, and cognitive science, with the unifying theme of information in physics.\" Federico Faggin has been a Silicon Valley resident since 1968 and is a naturalized US citizen.\"\"\")) + ['dummy'])\n",
    "predictions_proposed.sort_values('prob_real', ascending=False)"
   ]
  },
  {
   "cell_type": "code",
   "execution_count": 54,
   "metadata": {},
   "outputs": [
    {
     "name": "stdout",
     "output_type": "stream",
     "text": [
      "<function input_fn_builder.<locals>.input_fn at 0x7fa103d4c488>\n"
     ]
    },
    {
     "data": {
      "text/html": [
       "<div>\n",
       "<style scoped>\n",
       "    .dataframe tbody tr th:only-of-type {\n",
       "        vertical-align: middle;\n",
       "    }\n",
       "\n",
       "    .dataframe tbody tr th {\n",
       "        vertical-align: top;\n",
       "    }\n",
       "\n",
       "    .dataframe thead th {\n",
       "        text-align: right;\n",
       "    }\n",
       "</style>\n",
       "<table border=\"1\" class=\"dataframe\">\n",
       "  <thead>\n",
       "    <tr style=\"text-align: right;\">\n",
       "      <th></th>\n",
       "      <th>bio</th>\n",
       "      <th>prob_real</th>\n",
       "      <th>label</th>\n",
       "    </tr>\n",
       "  </thead>\n",
       "  <tbody>\n",
       "    <tr>\n",
       "      <th>1</th>\n",
       "      <td>stresses the connection to Marco Polo arguing ...</td>\n",
       "      <td>0.191589</td>\n",
       "      <td>Fake</td>\n",
       "    </tr>\n",
       "    <tr>\n",
       "      <th>2</th>\n",
       "      <td>dummy</td>\n",
       "      <td>0.165001</td>\n",
       "      <td>Fake</td>\n",
       "    </tr>\n",
       "    <tr>\n",
       "      <th>0</th>\n",
       "      <td>Panfilo Castaldi c 1398 c 1490 also called Pam...</td>\n",
       "      <td>0.092988</td>\n",
       "      <td>Fake</td>\n",
       "    </tr>\n",
       "  </tbody>\n",
       "</table>\n",
       "</div>"
      ],
      "text/plain": [
       "                                                 bio  prob_real label\n",
       "1  stresses the connection to Marco Polo arguing ...   0.191589  Fake\n",
       "2                                              dummy   0.165001  Fake\n",
       "0  Panfilo Castaldi c 1398 c 1490 also called Pam...   0.092988  Fake"
      ]
     },
     "execution_count": 54,
     "metadata": {},
     "output_type": "execute_result"
    }
   ],
   "source": [
    "predictions_proposed = getPrediction(get_split(clean_txt(\"\"\"Panfilo Castaldi (c. 1398 – c. 1490; also called Pamfilo or Pamphilo) was an Italian physician and \"master of the art of printing,\" to whom local tradition attributes the invention of moveable type. He was born in Feltre but spent most of his life working in Milan.\n",
    "\n",
    "The story as it has circulated through the centuries in Feltre is that Castaldi was given examples of early Chinese block printing by Marco Polo, with which he experimented, eventually producing modern type. The story was largely unknown outside of Lombardy until it was reported in the 19th century by Robert Curzon, Baron Zouche, a diplomat. As Curzon tells it, Castaldi began with glass stamps made at Murano and eventually developed wooden printing blocks which he used in a printing press in Venice in 1426. This would have been several years before Johann Gutenberg's first experiments with metal type in the early 1430s. Curzon stresses the connection to Marco Polo, arguing that Castaldi's (undated) early work closely resembles Chinese printing, and also stresses Gutenberg's acquaintance with Venetian printing, thus suggesting that European printing did not emerge distinctly from the Chinese analogues but in imitation (a frequently debated question in any case).\n",
    "\n",
    "Since no more recent scholarship has suggested such an early date for Castaldi's printing, any relationship between Castaldi and Marco Polo, or any connection between Gutenberg and Northern Italy, the story has never received much credit outside of Feltre. In that city, however, it still attracts a fair amount of attention (the statue of Castaldi still stands) and was brought up once again on the occasion of Castaldi's sexcentennial in 1998; in a proposal for a municipal bill recognizing Castaldi, he was referred to as \"il primo inventore dei caratteri mobili per la stampa\" (\"the first inventor of moveable type for printing\").[6] What is clear is that by the 1470s Castaldi was a successful printer; there is a record of a print run of 300 copies of a Cicero epistle in 1471.[7]\n",
    "\n",
    "Panfilo Castaldi is the imprint of a 19th and 20th-century printing house in Feltre.\"\"\")) + ['dummy'])\n",
    "predictions_proposed.sort_values('prob_real', ascending=False)"
   ]
  },
  {
   "cell_type": "code",
   "execution_count": null,
   "metadata": {},
   "outputs": [],
   "source": []
  },
  {
   "cell_type": "code",
   "execution_count": null,
   "metadata": {},
   "outputs": [],
   "source": []
  },
  {
   "cell_type": "code",
   "execution_count": 79,
   "metadata": {
    "colab": {
     "base_uri": "https://localhost:8080/"
    },
    "id": "PbvgPnGNccup",
    "outputId": "6869df3b-de2a-4482-e95c-7dcadcac27c2"
   },
   "outputs": [
    {
     "name": "stdout",
     "output_type": "stream",
     "text": [
      "Giovanni Domenico was a Venetian opera singer. [SEP] He sang at least 12 operas, including four repertory operas, four anthologies and six short, five-minute seriaticks. He is known to have developed the habit of singing with his right hand, which is distinctive to Venetian right hand gestures. He also adopted the habit of bringing his right hand to his mouth, which is unusual in Venetian right hand gestures. He sang in several Venetian dialects, including Italic, Lateran, and Venetian (land) songs. He wrote at least five published pieces in his native Venice, including several lengthy marches, shore marches, and patriotic songs in Italian. Giovanni Domenico was born in Venice on March 11, 1819. He is listed as 19 years old on a mercantile list of Venetian singers in 1878. He was a talented singer, who, thanks to social circumstances and education, came into prominence as a singer in Venice. He was the son of Bortolo Domenico, a singer from Mantua. In 1884, he married Francesca Morlaiter, the daughter of Silvia Morlaiter, who had a Venezian background. The marriage turned out to be a disaster, for which Domenico bitterly complains. He has lived to live a private life ever since, living\n",
      "was the son of Bortolo Domenico, a singer from Mantua. In 1884, he married Francesca Morlaiter, the daughter of Silvia Morlaiter, who had a Venezian background. The marriage turned out to be a disaster, for which Domenico bitterly complains. He has lived to live a private life ever since, living in opulent surroundings in Caorle, near Bergamo. He is wealthy enough that he could not help but become a castellan of some sort, and he used his considerable influence to try to get Venetian opera companies to sign exclusive deals with him; but he died while seeking such a company, and was buried with his father in Venice. He was the author of several poems, including the excellent-sounding L'Osservatore Venetici (1884), and other works. Alessandro Tagliapietra (1817–1881) was an important early opera singer in Venice. Tagliapietra was born and died in Venice. He was educated at the Academy of Fine Arts of Venice, and joined the Venetian Chamber Music Society, where he was a regular performer and writer. He joined the ranks of the nobility at the age of twenty-five, and in his youth he was to have been recognized by the prince. Tagliapietra was to become a tutor to\n",
      "Arts of Venice, and joined the Venetian Chamber Music Society, where he was a regular performer and writer. He joined the ranks of the nobility at the age of twenty-five, and in his youth he was to have been recognized by the prince. Tagliapietra was to become a tutor to the royal court of Greece, and later to have studied with the famous Professor Alessandro Mauro. Tagliapietra returned to Venice in 1815, and began to sing in the Venetian schools, which at that time performed a form of music largely inherited from the Renaissance, especially Chapel Pastoral, the school of Vittorio Carpaccio. His breakthrough came in 1826, as the principal singer at the Scuola di San Giovanni Evangelista. He was a singer of Venice, and its principal opera house. He was considered a major exponent of the instrumental style; his songs were composed especially for this style and were analyzed by the German composers. His output included works in honor of the grandiose patron emperor Joseph I (1819), as well as works celebrating the marriage of Charles V (1829), the visit of the emperor (1831), and the visit of the Holy Roman Emperor Joseph (1832). In 1822, Tagliapietra founded the\n",
      "by the German composers. His output included works in honor of the grandiose patron emperor Joseph I (1819), as well as works celebrating the marriage of Charles V (1829), the visit of the emperor (1831), and the visit of the Holy Roman Emperor Joseph (1832). In 1822, Tagliapietra founded the Venetian Academy of Worship, which was later modified into the Academy of Worship and Cultural Heritage. Among his guests were Charles Vanderbilt, Marquis de Bruijn, Duke of Orléans, Lord Brooke of Maldon and others. In 1835, the Academy of Worship and Cultural Heritage was officially recognized by the Venetian government. In 1837, Tagliapietra became a member of the Academy of Lieutenants of the Roman Academy, and later the Venetian Academy of Science. He lived to old age in Ulm, Baden and Bruges. He died in Venice in 1878.\n"
     ]
    },
    {
     "data": {
      "text/plain": [
       "[None, None, None, None]"
      ]
     },
     "execution_count": 79,
     "metadata": {
      "tags": []
     },
     "output_type": "execute_result"
    }
   ],
   "source": [
    "[print(s) for s in get_split(split_proposed_bio)]"
   ]
  },
  {
   "cell_type": "code",
   "execution_count": 33,
   "metadata": {
    "colab": {
     "base_uri": "https://localhost:8080/",
     "height": 531
    },
    "id": "IJTnCc9fUx_a",
    "outputId": "087db617-3d74-4d62-8329-76efd03c8883"
   },
   "outputs": [
    {
     "data": {
      "application/vnd.google.colaboratory.intrinsic+json": {
       "type": "string"
      },
      "text/plain": [
       "'Racism, as well as the related Problem of Difference and Inequality, was a prominent issue in the Italian Renaissance between the Renaissance and the turn of the 19th century.        The Renaissance were divided into two broad currents, the Neoclassical and the Neoclassical, and although some of their stylistic features resembled each other, they did not follow any particular conceptual or historical model. The main differences between the two, and their relationship to one another, are described in detail later in this article.      Identifying with the Neoclassical tradition, the Baroque ornament of Venetian stained glass is characterized by light golden and gold halo effects, and uses monograms in a complex hierarchical fashion. This style is similar to that of Giovanni Bellini, the influence of Ursus Rex, and references to the Byzantine art of the period. Among its works are  a  bas-relief of Santi Rota in the National Gallery of Art, Washington D.C.  a  divination by the Doge in the National Gallery, Washington D.C.  a restoration of an early Christian theme in the Accademia Carrara of Bergamo.     The traditional view of the origins of the Renaissance in Italy is that the primary influence of the art was from the Byzantine sculptures of the Second Constantinople and the mosaics of the Byzantine Gênesque baths in Venice.  However, new evidence suggests that the art of the Venetians was influenced by more contemporary developments in France and Germany as early as the 12th century.  Art historian Marcantonio Giustinian has argued that the works of the Venetians, and especially those from the 13th to 15th century, exhibit a particularly Venetian style, and were influenced by the Germanic influences      The Venetian school was initially named the Moderne Formae (the \"moderne formae\", after the school of Tommaso Mocenigo) after the Emperor Frederick Barbarossa II and his wife, Joachim I (r. 1209–12).  The name variant, Moderne, derives from the Latin mediæformae, which originally meant \"teacher of forms\", but more generally refers to those members of the classical school who treated forms as though they were real, historical entities.  These included Michelangelo, who in the mid-14th century would be also be called  mediæs imperator (\"teacher of forms\") or Marcantonio Medialetti, whose works  were mainly in Venice.  The school\\'s name was later adopted to distinguish itself from the more prestigious School of Florence, which at that time was considered to be the school of the Venetian school.  The differences in style between the two schools are described in more detail in the separate articles in this guide.     The Venetian school was influenced by three main directions of influence:  neoclassical, Baroque, and panoramic.  The primary artistic influences from this period are mostly listed in Table 1.  The school changed its style under the influence of Italian Renaissance artists, and its focus shifted to frescoes and portraits.  Its frescoes, especially its frescoes at the Palazzo Belloni Palazzo in Venice, became very popular, and numerous copies and variations of their styles exist.  Their unique style, however, was not widely copied, and influenced a variety of secondary artistic groups.  The Venetian school is therefore considered to be one of the main influences of the panoramic art of the 17th century.  The panoramic art of the late 18th century is characterized by the use of large scale color and bright, energetic backgrounds.  Its canvases are often small scale fables or comic romping plays with mythological themes.  They often exhibit    By the late 18th century, the Venetian school had mostly disappeared, and its influence was mainly felt in Northern Italy.  Its members  included Giovanni Bellini, the last professor of the Venetian School;  Francesco Previtali, who would eventually found the Panopticon Institute;  Matteo Ricci, who would develop  a similar artistic style in the late 19th century;  Giovanni Battista Tiepolo, a Venetian painter who specialized in the decorative frescoes of the Palazzo Belloni Palazzo in Venice; and  Francesco Bambini, a Venetian painter who painted in the late 18th century.     The Venetian school represented  three major branches:  neoclassical,  Baroque, and  panoramic.  Each had its own style and characteristics, and its members all contributed something unique to the furniture and decoration of the Villa La Teseo in Florence.  Their contributions to the furniture are generally accepted to be unique'"
      ]
     },
     "execution_count": 33,
     "metadata": {
      "tags": []
     },
     "output_type": "execute_result"
    }
   ],
   "source": [
    "proposed_bio"
   ]
  },
  {
   "cell_type": "code",
   "execution_count": null,
   "metadata": {
    "id": "j08LfPFQHB5I"
   },
   "outputs": [],
   "source": [
    "# best_predictions = (predictions_proposed.sort_values('prob_real', ascending=False)\n",
    "#                     .groupby('comment').first().reset_index())"
   ]
  },
  {
   "cell_type": "code",
   "execution_count": null,
   "metadata": {
    "id": "suNnL7ptHFAi"
   },
   "outputs": [],
   "source": [
    "# best_predictions.loc[best_predictions['prob_real']>0.9]#.to_csv('realistic_replies.csv')"
   ]
  },
  {
   "cell_type": "markdown",
   "metadata": {
    "id": "LTqPgIXVqZNe"
   },
   "source": [
    "Giovanni Domenico was a Venetian opera singer. [SEP] He sang in operas by Benedetto Ferrari, Giovanni Francesco Guardi, Francesco Hayez, the winner of the Golden Jubilee of Venice, and the composer of operas by Francesco Hayez, including 'Signor Paolo De Negri', 'La Fenice', and 'Derriere Ruprechtigo' as well as 'Te Classee Con Agnus Deo' and 'Derriere Ruprechtigo' as well as 'La Fenice' and 'Derriere Ruprechtigo' as well as 'De Confessione Dei Giovvani' and 'Confessione Dei Giovvani' as well as 'Confessione Mi Giovvani' and 'Confessione Mi vino Giovvani' as well as 'Te Classee Con Agnus Deo' and 'Confessione Mi Giovvani'.          Francesco Hayez (1527–1590) was an Italian librettist and opera composer. [SEP] He wrote libretti for operas by Francesco Hayez, including 'Faustina', 'Lambeth' and 'De Confessione'.             Francesco Hayez (fl. 1584–1590) was an Italian librettist and opera composer. [SEP] He wrote libretti for operas by Francesco Hayez, including 'Faustina', 'Lambeth' and 'Confessione'.        He was born in Venice, Italy in 1514. His father was Giovanni Francesco Hayez, a theatrical impresario who specialized in theatrical presentation of religious texts. His mother was Lucia Lombardo, sister of the composer Antonio Lombardo. He took classical education from his father. Hayez studied music with his uncle, and gained a taste for the finer points of the instrument. He was hired by the Camaldolese order in Camaldoli in 1545, and received their highest honor, the Camaldolese Cross of St. Michael holding the \"Bishopric of Christ\" (Cistercalium). In 1547 he visited Rome and became a novice abbot of the Benedictine monastery at Chiesa in Veneto. From 1548-50 he was appointed as head of the composers' school at the Johannist Ascension in Karlovci, and later served as chancellor of the Conservatory of the Triumph of Wisdom from 1551 to 1554. In 1555 he was appointed as director of the Gesuati (agricultural college) of Murano, and later as Dean of the School of Arts from 1565 to 1580.                 He composed several sacred music, including   his own motets (Mantaschinum verum 2, 1554, Venice),   his own  four works for four vocal orantioi (Mantaschinum verum 2, 1560, Venice), and  a motet for two (Mantaschinum verum 2, 1575, Venice).  He also wrote madrigals, canzonette, and canza (ritual for two flautini or four vocal or four flautini).             He died in Venice in 1590.         \n"
   ]
  },
  {
   "cell_type": "code",
   "execution_count": null,
   "metadata": {
    "id": "48iwiM9aqcIq"
   },
   "outputs": [],
   "source": []
  },
  {
   "cell_type": "code",
   "execution_count": null,
   "metadata": {
    "id": "VKJgFf1WrSL9"
   },
   "outputs": [],
   "source": []
  }
 ],
 "metadata": {
  "accelerator": "GPU",
  "colab": {
   "collapsed_sections": [],
   "name": "Ominous v1.ipynb",
   "provenance": []
  },
  "kernelspec": {
   "display_name": "Python 3",
   "language": "python",
   "name": "python3"
  },
  "language_info": {
   "codemirror_mode": {
    "name": "ipython",
    "version": 3
   },
   "file_extension": ".py",
   "mimetype": "text/x-python",
   "name": "python",
   "nbconvert_exporter": "python",
   "pygments_lexer": "ipython3",
   "version": "3.6.12"
  }
 },
 "nbformat": 4,
 "nbformat_minor": 1
}
