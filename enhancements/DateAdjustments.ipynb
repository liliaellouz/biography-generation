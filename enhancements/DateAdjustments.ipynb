{
 "cells": [
  {
   "cell_type": "code",
   "execution_count": 2,
   "metadata": {},
   "outputs": [],
   "source": [
    "import re\n",
    "import pandas as pd"
   ]
  },
  {
   "cell_type": "code",
   "execution_count": 3,
   "metadata": {},
   "outputs": [],
   "source": [
    "real_bios = pd.read_csv('../data/bios_old_dates.csv')"
   ]
  },
  {
   "cell_type": "code",
   "execution_count": 13,
   "metadata": {},
   "outputs": [
    {
     "name": "stdout",
     "output_type": "stream",
     "text": [
      "borns: 0.38917525773195877, dieds: 1.0\n"
     ]
    }
   ],
   "source": [
    "borns = 0\n",
    "dieds = 0\n",
    "for i in range(len(real_bios['biography'])):\n",
    "    if 'born' in real_bios['biography'][i]:\n",
    "        borns += 1\n",
    "    if 'die' or 'dead' in real_bios['biography'][i]:\n",
    "        dieds += 1\n",
    "print('borns: {}, dieds: {}'.format(borns/len(real_bios['biography']), dieds/len(real_bios['biography'])))"
   ]
  },
  {
   "cell_type": "code",
   "execution_count": null,
   "metadata": {},
   "outputs": [],
   "source": []
  }
 ],
 "metadata": {
  "kernelspec": {
   "display_name": "Python [conda env:fdhenv]",
   "language": "python",
   "name": "conda-env-fdhenv-py"
  },
  "language_info": {
   "codemirror_mode": {
    "name": "ipython",
    "version": 3
   },
   "file_extension": ".py",
   "mimetype": "text/x-python",
   "name": "python",
   "nbconvert_exporter": "python",
   "pygments_lexer": "ipython3",
   "version": "3.8.5"
  }
 },
 "nbformat": 4,
 "nbformat_minor": 4
}
