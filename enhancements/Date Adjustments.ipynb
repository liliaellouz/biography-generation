{
 "cells": [
  {
   "cell_type": "code",
   "execution_count": 8,
   "metadata": {},
   "outputs": [],
   "source": [
    "import re\n",
    "import datefinder\n",
    "import nltk\n",
    "import spacy\n",
    "import neuralcoref\n",
    "from nltk.tokenize import word_tokenize\n",
    "\n",
    "import pandas as pd\n",
    "import re\n",
    "from datetime import datetime\n",
    "from nltk.corpus import stopwords\n",
    "stop_words = stopwords.words('english')\n",
    "fake_data_path = '../epfl_server/fakes.csv'"
   ]
  },
  {
   "cell_type": "code",
   "execution_count": 9,
   "metadata": {
    "scrolled": true
   },
   "outputs": [
    {
     "data": {
      "text/html": [
       "<div>\n",
       "<style scoped>\n",
       "    .dataframe tbody tr th:only-of-type {\n",
       "        vertical-align: middle;\n",
       "    }\n",
       "\n",
       "    .dataframe tbody tr th {\n",
       "        vertical-align: top;\n",
       "    }\n",
       "\n",
       "    .dataframe thead th {\n",
       "        text-align: right;\n",
       "    }\n",
       "</style>\n",
       "<table border=\"1\" class=\"dataframe\">\n",
       "  <thead>\n",
       "    <tr style=\"text-align: right;\">\n",
       "      <th></th>\n",
       "      <th>bio</th>\n",
       "    </tr>\n",
       "  </thead>\n",
       "  <tbody>\n",
       "    <tr>\n",
       "      <th>0</th>\n",
       "      <td>Constanzo Rossi was a Venetian Engineer. [SEP]...</td>\n",
       "    </tr>\n",
       "    <tr>\n",
       "      <th>1</th>\n",
       "      <td>Umberto Rizzo was a Venetian Forester. [SEP]  ...</td>\n",
       "    </tr>\n",
       "    <tr>\n",
       "      <th>2</th>\n",
       "      <td>Adriano Rossi was a Venetian Moneylender. [SEP...</td>\n",
       "    </tr>\n",
       "    <tr>\n",
       "      <th>3</th>\n",
       "      <td>Adamo Bianchi was a Venetian Pardoner. [SEP]  ...</td>\n",
       "    </tr>\n",
       "    <tr>\n",
       "      <th>4</th>\n",
       "      <td>Massimo Giordano was a Venetian Artist. [SEP] ...</td>\n",
       "    </tr>\n",
       "  </tbody>\n",
       "</table>\n",
       "</div>"
      ],
      "text/plain": [
       "                                                 bio\n",
       "0  Constanzo Rossi was a Venetian Engineer. [SEP]...\n",
       "1  Umberto Rizzo was a Venetian Forester. [SEP]  ...\n",
       "2  Adriano Rossi was a Venetian Moneylender. [SEP...\n",
       "3  Adamo Bianchi was a Venetian Pardoner. [SEP]  ...\n",
       "4  Massimo Giordano was a Venetian Artist. [SEP] ..."
      ]
     },
     "execution_count": 9,
     "metadata": {},
     "output_type": "execute_result"
    }
   ],
   "source": [
    "fakes_df = pd.read_csv(fake_data_path, sep='|')\n",
    "fakes_df.columns = ['bio']\n",
    "fakes_df.head()"
   ]
  },
  {
   "cell_type": "code",
   "execution_count": 10,
   "metadata": {},
   "outputs": [],
   "source": [
    "example = fakes_df['bio'][0]"
   ]
  },
  {
   "cell_type": "markdown",
   "metadata": {},
   "source": [
    "# Date Adjustment"
   ]
  },
  {
   "cell_type": "code",
   "execution_count": 11,
   "metadata": {
    "scrolled": true
   },
   "outputs": [
    {
     "name": "stdout",
     "output_type": "stream",
     "text": [
      "0\n",
      "1\n",
      "2\n",
      "3\n",
      "4\n",
      "5\n",
      "6\n",
      "7\n",
      "8\n",
      "9\n",
      "11\n",
      "12\n",
      "14\n",
      "15\n",
      "18\n",
      "19\n",
      "25\n",
      "34\n",
      "36\n",
      "37\n",
      "38\n",
      "39\n",
      "41\n",
      "42\n",
      "49\n",
      "50\n",
      "51\n",
      "52\n",
      "54\n",
      "56\n",
      "57\n",
      "59\n",
      "61\n",
      "62\n",
      "63\n",
      "64\n",
      "73\n",
      "75\n",
      "78\n",
      "80\n",
      "81\n",
      "82\n",
      "85\n",
      "86\n",
      "87\n",
      "88\n",
      "89\n",
      "90\n",
      "92\n",
      "94\n",
      "95\n",
      "borns: 0.5625, dieds: 0.53125\n"
     ]
    }
   ],
   "source": [
    "borns = 0\n",
    "dieds = 0\n",
    "for i in range(len(fakes_df['bio'])):\n",
    "    if 'born' in fakes_df['bio'][i]:\n",
    "        borns += 1\n",
    "    if ' die' in fakes_df['bio'][i] or 'dead' in fakes_df['bio'][i] or 'death' in fakes_df['bio'][i]:\n",
    "        dieds += 1\n",
    "        print(i)\n",
    "print('borns: {}, dieds: {}'.format(borns/len(fakes_df['bio']), dieds/len(fakes_df['bio'])))"
   ]
  },
  {
   "cell_type": "code",
   "execution_count": 12,
   "metadata": {},
   "outputs": [],
   "source": [
    "match = re.findall(r'\\d{4}', example)\n",
    "sentences = nltk.tokenize.sent_tokenize(example)\n",
    "dates = []\n",
    "date_sentences = []\n",
    "for i in match:\n",
    "    for sentence in sentences:\n",
    "        if i in sentence:\n",
    "#             tokens = word_tokenize(sentence)\n",
    "#             tokens = [word for word in tokens if word.isalpha()]\n",
    "            date_sentences.append([int(i), sentence])\n",
    "#             date_sentences.append(sentence)"
   ]
  },
  {
   "cell_type": "code",
   "execution_count": 13,
   "metadata": {
    "scrolled": true
   },
   "outputs": [
    {
     "data": {
      "text/html": [
       "<div>\n",
       "<style scoped>\n",
       "    .dataframe tbody tr th:only-of-type {\n",
       "        vertical-align: middle;\n",
       "    }\n",
       "\n",
       "    .dataframe tbody tr th {\n",
       "        vertical-align: top;\n",
       "    }\n",
       "\n",
       "    .dataframe thead th {\n",
       "        text-align: right;\n",
       "    }\n",
       "</style>\n",
       "<table border=\"1\" class=\"dataframe\">\n",
       "  <thead>\n",
       "    <tr style=\"text-align: right;\">\n",
       "      <th></th>\n",
       "      <th>date</th>\n",
       "      <th>event</th>\n",
       "    </tr>\n",
       "  </thead>\n",
       "  <tbody>\n",
       "    <tr>\n",
       "      <th>0</th>\n",
       "      <td>1583</td>\n",
       "      <td>[SEP]    He was born in Venice in 1583, to Gia...</td>\n",
       "    </tr>\n",
       "    <tr>\n",
       "      <th>1</th>\n",
       "      <td>1809</td>\n",
       "      <td>He joined the Navy in 1809, at the age of 21, ...</td>\n",
       "    </tr>\n",
       "    <tr>\n",
       "      <th>2</th>\n",
       "      <td>1811</td>\n",
       "      <td>In 1811 he was appointed Professor of Propulsi...</td>\n",
       "    </tr>\n",
       "    <tr>\n",
       "      <th>3</th>\n",
       "      <td>1813</td>\n",
       "      <td>In 1813 he was appointed Director of Propulsio...</td>\n",
       "    </tr>\n",
       "    <tr>\n",
       "      <th>4</th>\n",
       "      <td>1814</td>\n",
       "      <td>In 1813 he was appointed Director of Propulsio...</td>\n",
       "    </tr>\n",
       "  </tbody>\n",
       "</table>\n",
       "</div>"
      ],
      "text/plain": [
       "   date                                              event\n",
       "0  1583  [SEP]    He was born in Venice in 1583, to Gia...\n",
       "1  1809  He joined the Navy in 1809, at the age of 21, ...\n",
       "2  1811  In 1811 he was appointed Professor of Propulsi...\n",
       "3  1813  In 1813 he was appointed Director of Propulsio...\n",
       "4  1814  In 1813 he was appointed Director of Propulsio..."
      ]
     },
     "execution_count": 13,
     "metadata": {},
     "output_type": "execute_result"
    }
   ],
   "source": [
    "df = pd.DataFrame(date_sentences,columns=['date', 'event'])\n",
    "df.head()"
   ]
  },
  {
   "cell_type": "code",
   "execution_count": 14,
   "metadata": {},
   "outputs": [
    {
     "data": {
      "text/html": [
       "<div>\n",
       "<style scoped>\n",
       "    .dataframe tbody tr th:only-of-type {\n",
       "        vertical-align: middle;\n",
       "    }\n",
       "\n",
       "    .dataframe tbody tr th {\n",
       "        vertical-align: top;\n",
       "    }\n",
       "\n",
       "    .dataframe thead th {\n",
       "        text-align: right;\n",
       "    }\n",
       "</style>\n",
       "<table border=\"1\" class=\"dataframe\">\n",
       "  <thead>\n",
       "    <tr style=\"text-align: right;\">\n",
       "      <th></th>\n",
       "      <th>date</th>\n",
       "      <th>event</th>\n",
       "    </tr>\n",
       "  </thead>\n",
       "  <tbody>\n",
       "    <tr>\n",
       "      <th>0</th>\n",
       "      <td>1583</td>\n",
       "      <td>[SEP]    He was born in Venice in 1583, to Gia...</td>\n",
       "    </tr>\n",
       "    <tr>\n",
       "      <th>1</th>\n",
       "      <td>1809</td>\n",
       "      <td>He joined the Navy in 1809, at the age of 21, ...</td>\n",
       "    </tr>\n",
       "    <tr>\n",
       "      <th>14</th>\n",
       "      <td>1810</td>\n",
       "      <td>In 1810, he and his brother Marino completed t...</td>\n",
       "    </tr>\n",
       "    <tr>\n",
       "      <th>2</th>\n",
       "      <td>1811</td>\n",
       "      <td>In 1811 he was appointed Professor of Propulsi...</td>\n",
       "    </tr>\n",
       "    <tr>\n",
       "      <th>25</th>\n",
       "      <td>1812</td>\n",
       "      <td>In 1812 he was elected a member of the \"Royal ...</td>\n",
       "    </tr>\n",
       "  </tbody>\n",
       "</table>\n",
       "</div>"
      ],
      "text/plain": [
       "    date                                              event\n",
       "0   1583  [SEP]    He was born in Venice in 1583, to Gia...\n",
       "1   1809  He joined the Navy in 1809, at the age of 21, ...\n",
       "14  1810  In 1810, he and his brother Marino completed t...\n",
       "2   1811  In 1811 he was appointed Professor of Propulsi...\n",
       "25  1812  In 1812 he was elected a member of the \"Royal ..."
      ]
     },
     "execution_count": 14,
     "metadata": {},
     "output_type": "execute_result"
    }
   ],
   "source": [
    "sorted_events = df.sort_values('date')\n",
    "sorted_events.head()"
   ]
  },
  {
   "cell_type": "code",
   "execution_count": 15,
   "metadata": {},
   "outputs": [],
   "source": [
    "old_sentences = []\n",
    "new_sentences = []\n",
    "if (list(sorted_events['date'])[-1] - sorted_events['date'][0]) > 80:\n",
    "    birth_date = sorted_events['date'][1] - 20\n",
    "    old_sentences.append(sorted_events['event'][0])\n",
    "    new_sentences.append(sorted_events['event'][0].replace(str(sorted_events['date'][0]), str(birth_date)))"
   ]
  },
  {
   "cell_type": "code",
   "execution_count": 39,
   "metadata": {
    "scrolled": true
   },
   "outputs": [],
   "source": [
    "# check that the period between earliest and latest date\n",
    "# marriage or roles 20 years after birth\n",
    "# death after birth"
   ]
  },
  {
   "cell_type": "code",
   "execution_count": 17,
   "metadata": {},
   "outputs": [],
   "source": [
    "if 'die' in df.iloc[-1]['event'] or 'dead' in df.iloc[-1]['event'] or 'death' in df.iloc[-1]['event']:\n",
    "    if df.iloc[-1]['date'] < df.iloc[0]['date']:\n",
    "        death_date = sorted_events.iloc[-1]['date'] + 5\n",
    "        old_sentences.append(df.iloc[-1]['event'])\n",
    "        new_sentences.append(df.iloc[-1]['event'].replace(str(df.iloc[-1]['date']), str(death_date)))"
   ]
  },
  {
   "cell_type": "code",
   "execution_count": 19,
   "metadata": {},
   "outputs": [
    {
     "data": {
      "text/plain": [
       "(['[SEP]    He was born in Venice in 1583, to Giacomo Rossi and Laura Scrini.'],\n",
       " ['[SEP]    He was born in Venice in 1789, to Giacomo Rossi and Laura Scrini.'])"
      ]
     },
     "execution_count": 19,
     "metadata": {},
     "output_type": "execute_result"
    }
   ],
   "source": [
    "old_sentences, new_sentences"
   ]
  },
  {
   "cell_type": "code",
   "execution_count": 43,
   "metadata": {},
   "outputs": [],
   "source": [
    "def baseline_date_adjustment(bio):\n",
    "    \"\"\"\n",
    "    baseline function to adjust the dates in a given biography using regex\n",
    "    Args:\n",
    "    bio - the biography\n",
    "    Rets:\n",
    "    modified_bio - the biography with the dates adjusted\n",
    "    \"\"\"\n",
    "    match = re.findall(r'\\d{4}', bio)\n",
    "    sentences = nltk.tokenize.sent_tokenize(bio)\n",
    "    dates = []\n",
    "    date_sentences = []\n",
    "    for i in match:\n",
    "        for sentence in sentences:\n",
    "            if i in sentence:\n",
    "                date_sentences.append([int(i), sentence])\n",
    "    df = pd.DataFrame(date_sentences,columns=['date', 'event'])\n",
    "    sorted_events = df.sort_values('date')\n",
    "    old_sentences = []\n",
    "    new_sentences = []\n",
    "    if (list(sorted_events['date'])[-1] - sorted_events['date'][0]) > 80:\n",
    "        print((list(sorted_events['date'])[1]))\n",
    "        birth_date = sorted_events['date'][1] - 20\n",
    "        old_sentences.append(sorted_events['event'][0])\n",
    "        new_sentences.append(sorted_events['event'][0].replace(str(sorted_events['date'][0]), str(birth_date)))\n",
    "    if 'die' in df.iloc[-1]['event'] or 'dead' in df.iloc[-1]['event'] or 'death' in df.iloc[-1]['event']:\n",
    "        if df.iloc[-1]['date'] < df.iloc[0]['date']:\n",
    "            death_date = sorted_events.iloc[-1]['date'] + 5\n",
    "            old_sentences.append(df.iloc[-1]['event'])\n",
    "            new_sentences.append(df.iloc[-1]['event'].replace(str(df.iloc[-1]['date']), str(death_date)))\n",
    "    modified_bio = bio[:]\n",
    "    print(old_sentences, new_sentences)\n",
    "    for i in range(len(old_sentences)):\n",
    "        modified_bio = modified_bio.replace(old_sentences[i], new_sentences[i])\n",
    "    return modified_bio"
   ]
  },
  {
   "cell_type": "code",
   "execution_count": 48,
   "metadata": {
    "scrolled": true
   },
   "outputs": [
    {
     "name": "stdout",
     "output_type": "stream",
     "text": [
      "1587\n",
      "['[SEP]       He was born in Venice in 1587, the son of Santo Lippolo and Antonio Lupo.'] ['[SEP]       He was born in Venice in 1591, the son of Santo Lippolo and Antonio Lupo.']\n"
     ]
    },
    {
     "data": {
      "text/plain": [
       "'Angelo Lupo was a Venetian Moneylender. [SEP]       He was born in Venice in 1591, the son of Santo Lippolo and Antonio Lupo. He attended the University of Padova and studied law and economics. In 1611, he took a position in the Court of King Louis XI, where he served as agent for the Minister of War. He returned to Venice in 1626, and was elected to the governatori of the Republic.In 1626 and 1627, Lippolo used his connections to the Medici family to influence the course of the Italian financial crisis. He served as suo jure ambassador to Venice from 1625 to 1629, and was the beneficeri of the King from 1625 to 1631. In 1626, he was the manager of the Ducal Treasury, and in 1628 he was appointed treasurer of the Republic. In the event, he was unable to participate in its management, as he and his brother Marino were still guests of the Ducal Treasury.    Lippolo\\'s connections to the Medici family led him to make several policy decisions that would shape the course of Italian history. The first was the intervention of the Pope in the fight against the Ottoman Empire. In 1615, Pope Alexander VI sent Lippolo to the Italian court to negotiate the outcome of the Fourth Crusade. Lippolo stayed in Rome and was elected to the high office of Bishop of Vicenza.In 1627, he was appointed provveditore of the Venetian Dalmatian Island of Corfu. In 1629, he was appointed governor of Famagusta, and was given the island of Troia. In 1631, he was chosen to be the first to declare for the Republic of Venice, but he refused to go, and was imprisoned. In 1633, he was made the first bishop of the Archdiocese of Candia, and was given the title of Martyrdom of the Holy Family. He remained in Candia, and was succeeded by his eldest and current son, Giovanni Lippolo.     In 1635, Lippolo applied for the position of Archbishop of Zadar, but was turned down. Lippolo applied for the Archbishopric of Brescia, but was turned down again. In 1637, Lippolo accepted the post of Vice-Abbé of Amsterdam. As a result of the outbreak of the Italian War of Commodity in 1640–42, the Venetian market began to decline in 1642, and Lippolo struggled to maintain the balance between private and public creditors. In 1642, Lippolo became the first person to be awarded a pension for his efforts to promote peace in Europe.    In 1644, Lippolo took the post of Chancellor to the Duke of Milan. In this position, he played an important role in the negotiations between Venice and the Ottoman Empire. In 1647, Lippolo received a gift from the Ottoman treasury, which enabled him to start a new trade with Venice.In 1651, Lippolo became the first person recognized in the history of Western Europe as a \"Doctor of the Church\", in response to an Ottoman request. He remained Chancellor of the Venetian Republic until his death.    Lippolo played an important role as a mediator during the negotiations between Venice and the Ottoman Empire. In this role, in 1655 he played a mediator during the Serenissima, the first formal meeting between the Ottoman and Venetian rulers since the Ottoman–Venetian War of 1570. During this meeting, the Venetian mediation team convinced Ottoman grand vizier Mahmud Pasha to agree to an alliance against the French. After the Serenissima, Lippolo played an instrumental role in the signing of the Treaty of Passarowitz, which ended the War of Gradisca.    In 1660, Lippolo became Vice-Dean of the Biblioteca Marciana. In this position, he was in close contact with heads of state of the Venetian Republic, and was personally initiated into the Venetian and Italian nobility. In 1667, he became a member of the Board of Directors of the Venetian Academy of Sciences.    In 1668, Lippolo became a member of the Board of Directors of the Italian Academy of Sciences.    In 1670, he became a trustee of the Venetian Senate.    In 1678, the Venetian Senate granted Lippolo a pension and housing allowance of 25 per cent of his income for life, \"on account of his meritorious deeds and meritorious spirit\". The pension was confirmed in 1689. Lippolo died on 12 January 1690. He was preceded in death by his brother Marino Lippolo and wife, and children Gianfrancesco and Ad'"
      ]
     },
     "execution_count": 48,
     "metadata": {},
     "output_type": "execute_result"
    }
   ],
   "source": [
    "baseline_date_adjustment(fakes_df['bio'][5])"
   ]
  },
  {
   "cell_type": "code",
   "execution_count": null,
   "metadata": {},
   "outputs": [],
   "source": [
    "# Date adjustment using coreference"
   ]
  },
  {
   "cell_type": "code",
   "execution_count": null,
   "metadata": {},
   "outputs": [],
   "source": [
    "# EXAMPLE OF COREF USAGE\n",
    "\n",
    "import spacy\n",
    "import neuralcoref\n",
    "\n",
    "nlp = spacy.load('en')\n",
    "neuralcoref.add_to_pipe(nlp)\n",
    "doc1 = nlp('My sister has a dog. She loves him.')\n",
    "print(doc1._.coref_clusters)\n",
    "\n",
    "doc2 = nlp('Angela lives in Boston. She is quite happy in that city.')\n",
    "for ent in doc2.ents:\n",
    "    print(ent._.coref_cluster)"
   ]
  },
  {
   "cell_type": "code",
   "execution_count": null,
   "metadata": {},
   "outputs": [],
   "source": [
    "import spacy\n",
    "import neuralcoref"
   ]
  },
  {
   "cell_type": "code",
   "execution_count": 282,
   "metadata": {},
   "outputs": [],
   "source": [
    "nlp = spacy.load('en')\n",
    "neuralcoref.add_to_pipe(nlp)\n",
    "example_doc = nlp(example)\n",
    "sentences_og = nltk.tokenize.sent_tokenize(example)\n",
    "sentences_mod = nltk.tokenize.sent_tokenize(example_doc._.coref_resolved)\n",
    "main_cluster = example_doc._.coref_clusters[0]\n",
    "main_cluster_indices = [i[0].i for i in main_cluster]"
   ]
  },
  {
   "cell_type": "code",
   "execution_count": 283,
   "metadata": {},
   "outputs": [
    {
     "data": {
      "text/plain": [
       "Constanzo Rossi: [Constanzo Rossi, He, Giacomo Rossi, He, he, he, he, he, he, he, he, his]"
      ]
     },
     "execution_count": 283,
     "metadata": {},
     "output_type": "execute_result"
    }
   ],
   "source": [
    "main_cluster"
   ]
  },
  {
   "cell_type": "code",
   "execution_count": 284,
   "metadata": {},
   "outputs": [
    {
     "data": {
      "text/plain": [
       "[0, 11, 20, 26, 55, 74, 110, 128, 143, 159, 175, 177]"
      ]
     },
     "execution_count": 284,
     "metadata": {},
     "output_type": "execute_result"
    }
   ],
   "source": [
    "main_cluster_indices"
   ]
  },
  {
   "cell_type": "code",
   "execution_count": 285,
   "metadata": {},
   "outputs": [],
   "source": [
    "def get_root(token):\n",
    "    \"\"\"\n",
    "    function to get the root of a Spacy tree\n",
    "    Args:\n",
    "    token - a node in the tree\n",
    "    Rets:\n",
    "    next_ - the root of the tree where the node is\n",
    "    \"\"\"\n",
    "    current = token\n",
    "    next_ = token.head\n",
    "    while (next_.text != current.text):\n",
    "        current = next_\n",
    "        next_ = current.head\n",
    "    return next_\n",
    "head = get_root(example_doc[177])"
   ]
  },
  {
   "cell_type": "code",
   "execution_count": 304,
   "metadata": {},
   "outputs": [],
   "source": [
    "def all_tree_nodes(root):\n",
    "    \"\"\"\n",
    "    function to get all nodes in a given Spacy tree\n",
    "    Args:\n",
    "    root - root of the tree\n",
    "    Rets:\n",
    "    all_nodes - a list of all the nodes in the tree\n",
    "    \"\"\"\n",
    "    if not root.children:\n",
    "        return []\n",
    "    all_nodes = list(root.children)\n",
    "    for child in root.children:\n",
    "        all_nodes.extend(all_tree_nodes(child))\n",
    "    return all_nodes\n"
   ]
  },
  {
   "cell_type": "code",
   "execution_count": 305,
   "metadata": {
    "scrolled": true
   },
   "outputs": [
    {
     "data": {
      "text/plain": [
       "[In,\n",
       " ,,\n",
       " he,\n",
       " prototype,\n",
       " .,\n",
       " 1810,\n",
       " and,\n",
       " brother,\n",
       " his,\n",
       " Marino,\n",
       " the,\n",
       " first,\n",
       " of,\n",
       " superconductor,\n",
       " the,\n",
       " \",\n",
       " \",\n",
       " ,,\n",
       " barrel,\n",
       " a,\n",
       " composed,\n",
       " of,\n",
       " condensers,\n",
       " several,\n",
       " enlarged,\n",
       " which,\n",
       " were,\n",
       " later,\n",
       " into,\n",
       " electromagnets]"
      ]
     },
     "execution_count": 305,
     "metadata": {},
     "output_type": "execute_result"
    }
   ],
   "source": [
    "all_tree_nodes(get_root(example_doc[177]))"
   ]
  },
  {
   "cell_type": "code",
   "execution_count": 311,
   "metadata": {
    "scrolled": true
   },
   "outputs": [],
   "source": [
    "events = []\n",
    "for i in main_cluster_indices:\n",
    "    subject = example_doc[i]\n",
    "    head = get_root(example_doc[i])\n",
    "    context = all_tree_nodes(head)\n",
    "    for word in context:\n",
    "        match = re.findall(r'\\d{4}', word.text)\n",
    "        if match:\n",
    "            events.append([subject, head, word])"
   ]
  },
  {
   "cell_type": "code",
   "execution_count": 312,
   "metadata": {},
   "outputs": [
    {
     "data": {
      "text/plain": [
       "[[He, born, 1583],\n",
       " [Giacomo, born, 1583],\n",
       " [He, joined, 1809],\n",
       " [he, appointed, 1811],\n",
       " [he, appointed, 1813],\n",
       " [he, appointed, 1814],\n",
       " [he, appointed, 1816],\n",
       " [he, appointed, 1818],\n",
       " [he, appointed, 1822],\n",
       " [he, elected, 1824],\n",
       " [he, completed, 1810],\n",
       " [his, completed, 1810]]"
      ]
     },
     "execution_count": 312,
     "metadata": {},
     "output_type": "execute_result"
    }
   ],
   "source": [
    "events"
   ]
  },
  {
   "cell_type": "code",
   "execution_count": 338,
   "metadata": {},
   "outputs": [
    {
     "data": {
      "text/plain": [
       "'1583'"
      ]
     },
     "execution_count": 338,
     "metadata": {},
     "output_type": "execute_result"
    }
   ],
   "source": [
    "dates = sorted([i[2] for i in events])\n",
    "born_rep = -1\n",
    "dead_rep = -1\n",
    "born = -1\n",
    "dead = -1\n",
    "last_date_rep = -1\n",
    "for i in events:\n",
    "    if i[1].text == 'born':\n",
    "        born = i[2]\n",
    "    if i[1].text == 'died':\n",
    "        dead = i[2]\n",
    "if int(born.text) != -1:\n",
    "    if int(dates[1].text) - int(born.text) < 10:\n",
    "        born_rep = int(dates[1].text) - 20\n",
    "if int(born.text) != -1 and int(dead.text) != -1:\n",
    "    if int(dead.text) - born_rep > 100 or int(dead.text) - born_rep < 1:\n",
    "        dead_rep = born_rep + 80\n",
    "elif int(dates[-1].text) - int(dates[0].text) > 80:\n",
    "    last_date_rep = int(dates[0].text) + 80"
   ]
  },
  {
   "cell_type": "code",
   "execution_count": null,
   "metadata": {},
   "outputs": [],
   "source": [
    "if born_rep != -1:\n",
    "    result_doc = nlp.make_doc(example_doc[:born.i].text + f\" {born_rep}\" + example_doc[born.i+1:].text)\n",
    "if dead_rep != -1:\n",
    "    result_doc = nlp.make_doc(result_doc[:dead.i].text + f\" {dead_rep}\" + result_doc[dead.i+1:].text)\n",
    "if last_date_rep != -1:\n",
    "    result_doc = nlp.make_doc(example_doc[:dates[-1].i].text + f\" {last_date_rep}\" + example_doc[dates[-1].i+1:].text)"
   ]
  },
  {
   "cell_type": "code",
   "execution_count": 396,
   "metadata": {},
   "outputs": [],
   "source": [
    "def nlp_sd_date_adjustment(bio):\n",
    "    \"\"\"\n",
    "    function to adjust the dates in a given biography using NLP\n",
    "    Args:\n",
    "    bio - the biography\n",
    "    Rets:\n",
    "    the biography with the adjusted dates (string)\n",
    "    \"\"\"\n",
    "    nlp = spacy.load('en')\n",
    "    neuralcoref.add_to_pipe(nlp)\n",
    "    example_doc = nlp(example)\n",
    "    sentences_og = nltk.tokenize.sent_tokenize(example)\n",
    "    sentences_mod = nltk.tokenize.sent_tokenize(example_doc._.coref_resolved)\n",
    "    main_cluster = example_doc._.coref_clusters[0]\n",
    "    main_cluster_indices = [i[0].i for i in main_cluster]\n",
    "    events = []\n",
    "    born_b = False\n",
    "    dead_b = False\n",
    "    for i in main_cluster_indices:\n",
    "        subject = example_doc[i]\n",
    "        head = get_root(example_doc[i])\n",
    "        context = all_tree_nodes(head)\n",
    "        for word in context:\n",
    "            match = re.findall(r'\\d{4}', word.text)\n",
    "            if match:\n",
    "                if not (head.text == 'born' and born_b):\n",
    "                    if not(head.text == 'died' and dead_b):\n",
    "                        events.append([subject, head, word])\n",
    "                        if head.text == 'born':\n",
    "                            born_b = True\n",
    "                        if head.text == 'died':\n",
    "                            dead_b = True\n",
    "    dates = sorted([i[2] for i in events])\n",
    "    born_rep = -1\n",
    "    dead_rep = -1\n",
    "    born = None\n",
    "    dead = None\n",
    "    last_date_rep = -1\n",
    "    for i in events:\n",
    "        if i[1].text == 'born':\n",
    "            born = i[2]\n",
    "        if i[1].text == 'died':\n",
    "            dead = i[2]\n",
    "    if born:\n",
    "        if int(dates[1].text) - int(born.text) < 10 or int(dates[1].text) - int(born.text) > 20:\n",
    "            born_rep = int(dates[1].text) - 20\n",
    "    if born and dead:\n",
    "        if int(dead.text) - born_rep > 100 or int(dead.text) - born_rep < 1:\n",
    "            dead_rep = born_rep + 80\n",
    "    elif int(dates[-1].text) - int(dates[0].text) > 80:\n",
    "        if born_rep == -1:\n",
    "            last_date_rep = int(dates[0].text) + 80\n",
    "        else:\n",
    "            last_date_rep = born_rep + 80\n",
    "    if born_rep != -1:\n",
    "        result_doc = nlp.make_doc(example_doc[:born.i].text + f\" {born_rep}\" + example_doc[born.i+1:].text)\n",
    "    if dead_rep != -1:\n",
    "        result_doc = nlp.make_doc(result_doc[:dead.i].text + f\" {dead_rep}\" + result_doc[dead.i+1:].text)\n",
    "    if last_date_rep != -1:\n",
    "        result_doc = nlp.make_doc(result_doc[:dates[-1].i].text + f\" {last_date_rep}\" + result_doc[dates[-1].i+1:].text)\n",
    "    return result_doc.text"
   ]
  },
  {
   "cell_type": "code",
   "execution_count": 397,
   "metadata": {},
   "outputs": [
    {
     "data": {
      "text/plain": [
       "'Constanzo Rossi was a Venetian Engineer. [SEP]    He was born in Venice in 1789, to Giacomo Rossi and Laura Scrini. He joined the Navy in 1809, at the age of 21, and fought in the Mediterranean Expedition in the War of the Austrian Succession. In 1811 he was appointed Professor of Propulsion and Propulsion Engineering at the Academy of Science of Berlin. In 1813 he was appointed Director of Propulsion and Propulsion Research at the Foundry of Erfurt am Sonntag in 1814, and was a member of the scientific advisory council of the Elector Institute. In 1816, he was appointed Professor of Propulsion and Propulsion Engineering at the University of Vienna. In 1818, he was appointed a Fellow of the Royal Society in London. In 1822, he was appointed Vice-Chancellor of the Royal Society in Edinburgh. In 1824, he was elected a member of the Royal Society of London.    In 1869, he and his brother Marino completed the first prototype of the \"superconductor\", a barrel composed of several condensers which were later enlarged into electromagnets. The theory behind the contraption was based on the idea that the more conductive a material is, the more conductive a medium must be used in conducting it. The best conducting materials were magnesium carbonate and iron oxide. The theory was tested and proved in experiments by Arnold Hayez and Friedrich Wilhelm Lechner. He was one of the inventors of the \"superconductor\" (see below). In 1812 he was named a professor of physics at the University of Vienna. He was a founding member of the American Academy of Arts and Sciences. Among his students were Aldo Manuzio, Claudio Monteverdi, Francesco Hayez, Eugenio Laforio, Monchetto Lotrini, and Francesco Hayez.    In 1820 he was elected a Fellow of the Royal Society of London.    In 1824, he and his brother Marino completed the first prototype of the \"superconductor\" a barrel composed of several condensers which were later enlarged into electromagnets. The theory behind the contraption was based on the idea that the more conductive a material is, the more conductive a medium must be used in conducting it. The best conducting materials were magnesium carbonate and iron oxide. The theory was tested and proved in experiments by Arnold Hayez and Friedrich Wilhelm Lechner. He was one of the inventors of the \"superconductor\" (see below). In 1812 he was elected a member of the \"Royal Society of London.\" He was a founding member of the American Academy of Arts and Sciences. Among his lecturers were Louis Lammi, Ulrich Wilhelm and Franz Josef von Hippel.     Following his brother\\'s death in 1821, he took an active part in the development of the Ferrarese architectural style, working on the schemes for the Villa Cappello (1822) and the present monumental building of Belgravia. His works of this type were used by other noble patrons including the Congress of Paris from 1824 to 1829. As a result of a patronage by the French court, his monumental scheme, the Diagonal Hall, was completed in 1824. The diagonal arrangement of rooms, the large plan of the Palazzo Pisani, and the two parallel sconces of the Villa Cappello, with their central laminates, created a coherent architectural system that is used in other villas in Venice.    In 1826, he and his brother, Giacomo, completed the Palazzo Pisani Contini palazzo in Villa Cappello ai Roma, a complex of two phases of imposing facades, the Caballato Palazzo (1828) and the Pisani Palace (1829). These projects formed the Neo-Rappadonnae complex, which stands alone in the Tuscan countryside. The Palazzo Pisani Contini contained three phases of the 1829 Palazzo Pisani Palazzo Pisani Contini completed in 1829 Palazzo Pisani Contini ai Rovigo, a complex of two phases of 1819 Palazzo Pisani Palazzo Pisani Contini ai Bologna, a complex of two facades, the Villa Pisani (1820–24) and the Palazzo Pisani da Bucharest, with 1824–26 interior decorations.    The Caballato Palazzo was dedicated to the family of the Caballero Antonio III, a Venetian nobleman. The facade consists of three phases, the Baroque, the Classical and the Neoclassical. The neoclassical façade was designed by Paolo Veronese and constructed by Conza Spengler. The classical facade was designed by Giuseppe'"
      ]
     },
     "execution_count": 397,
     "metadata": {},
     "output_type": "execute_result"
    }
   ],
   "source": [
    "nlp_sd_date_adjustment(example)"
   ]
  },
  {
   "cell_type": "markdown",
   "metadata": {},
   "source": [
    "# SCRAP FOR DATE ADJUSTMENT"
   ]
  },
  {
   "cell_type": "code",
   "execution_count": null,
   "metadata": {},
   "outputs": [],
   "source": [
    "important_sentences_og = []\n",
    "important_sentences_mod = []\n",
    "main_mention = example_doc._.coref_clusters[0].main\n",
    "for i in range(len(sentences_mod)):\n",
    "    if str(main_mention) in sentences_mod[i] and re.findall(r'\\d{4}', sentences_mod[i]):\n",
    "        match = re.findall(r'\\d{4}', sentences_mod[i])\n",
    "        dates = match\n",
    "        sentence_doc = nlp(sentences_mod[i])\n",
    "                \n",
    "#             print(token.text, token.lemma_, token.pos_, token.tag_, token.dep_,\n",
    "#                     token.shape_, token.is_alpha, token.is_stop)\n",
    "#         important_sentences_og.append([dates, [sentences_og[i] for j in dates], verbs])\n",
    "#         important_sentences_mod.append([dates, [sentences_mod[i] for j in dates], verbs])"
   ]
  },
  {
   "cell_type": "code",
   "execution_count": 115,
   "metadata": {
    "collapsed": true
   },
   "outputs": [
    {
     "name": "stdout",
     "output_type": "stream",
     "text": [
      "Constanzo Rossi: [Constanzo Rossi, He, Giacomo Rossi, He, he, he, he, he, he, he, he, his]\n",
      "None\n",
      "None\n",
      "None\n",
      "Constanzo Rossi: [Constanzo Rossi, He, Giacomo Rossi, He, he, he, he, he, he, he, he, his]\n",
      "None\n",
      "None\n",
      "None\n",
      "None\n",
      "None\n",
      "None\n",
      "None\n",
      "None\n",
      "None\n",
      "None\n",
      "None\n",
      "None\n",
      "None\n",
      "None\n",
      "None\n",
      "None\n",
      "London: [London, London]\n",
      "None\n",
      "the Royal Society in London: [the Royal Society in London, the Royal Society, the Royal Society in Edinburgh, the Royal Society of London]\n",
      "None\n",
      "None\n",
      "the Royal Society in London: [the Royal Society in London, the Royal Society, the Royal Society in Edinburgh, the Royal Society of London]\n",
      "None\n",
      "None\n",
      "None\n",
      "None\n",
      "Friedrich Wilhelm Lechner: [Friedrich Wilhelm Lechner, He, he, He, his, he, he, his]\n",
      "None\n",
      "None\n",
      "None\n",
      "None\n",
      "None\n",
      "None\n",
      "None\n",
      "None\n",
      "None\n",
      "None\n",
      "None\n",
      "None\n",
      "None\n",
      "None\n",
      "None\n",
      "None\n",
      "Friedrich Wilhelm Lechner: [Friedrich Wilhelm Lechner, He, he, He, his, his, he, His, his, he, his]\n",
      "None\n",
      "None\n",
      "None\n",
      "None\n",
      "None\n",
      "None\n",
      "None\n",
      "None\n",
      "None\n",
      "the Villa Cappello: [the Villa Cappello, the Villa Cappello]\n",
      "None\n",
      "None\n",
      "None\n",
      "None\n",
      "None\n",
      "None\n",
      "None\n",
      "the Palazzo Pisani: [the Palazzo Pisani, the Villa Pisani]\n",
      "None\n",
      "the Villa Cappello: [the Villa Cappello, the Villa Cappello]\n",
      "None\n",
      "None\n",
      "None\n",
      "Palazzo Pisani Contini: [Palazzo Pisani Contini, The Palazzo Pisani Contini, Palazzo Pisani Contini]\n",
      "the Villa Cappello (1822): [the Villa Cappello (1822), Villa Cappello]\n",
      "None\n",
      "None\n",
      "None\n",
      "None\n",
      "None\n",
      "None\n",
      "None\n",
      "None\n",
      "None\n",
      "None\n",
      "None\n",
      "None\n",
      "Palazzo Pisani Contini: [Palazzo Pisani Contini, The Palazzo Pisani Contini, Palazzo Pisani Contini]\n",
      "None\n",
      "None\n",
      "None\n",
      "Palazzo Pisani: [Palazzo Pisani, The Caballato Palazzo]\n",
      "None\n",
      "None\n",
      "the Palazzo Pisani: [the Palazzo Pisani, the Villa Pisani]\n",
      "None\n",
      "Palazzo Pisani: [Palazzo Pisani, The Caballato Palazzo]\n",
      "None\n",
      "None\n",
      "None\n",
      "None\n",
      "None\n",
      "None\n",
      "None\n",
      "None\n"
     ]
    }
   ],
   "source": [
    "for ent in example_doc.ents:\n",
    "    print(ent._.coref_cluster)"
   ]
  },
  {
   "cell_type": "code",
   "execution_count": 158,
   "metadata": {},
   "outputs": [
    {
     "data": {
      "text/plain": [
       "He"
      ]
     },
     "execution_count": 158,
     "metadata": {},
     "output_type": "execute_result"
    }
   ],
   "source": [
    "example_doc._.coref_clusters[0][]"
   ]
  },
  {
   "cell_type": "code",
   "execution_count": 89,
   "metadata": {
    "scrolled": true
   },
   "outputs": [],
   "source": [
    "important_sentences_og = []\n",
    "important_sentences_mod = []\n",
    "main_mention = example_doc._.coref_clusters[0].main\n",
    "for i in range(len(sentences_mod)):\n",
    "    if str(main_mention) in sentences_mod[i] and re.findall(r'\\d{4}', sentences_mod[i]):\n",
    "        match = re.findall(r'\\d{4}', sentences_mod[i])\n",
    "        dates = match\n",
    "        sentence_doc = nlp(sentences_mod[i])\n",
    "                \n",
    "#             print(token.text, token.lemma_, token.pos_, token.tag_, token.dep_,\n",
    "#                     token.shape_, token.is_alpha, token.is_stop)\n",
    "#         important_sentences_og.append([dates, [sentences_og[i] for j in dates], verbs])\n",
    "#         important_sentences_mod.append([dates, [sentences_mod[i] for j in dates], verbs])"
   ]
  },
  {
   "cell_type": "code",
   "execution_count": 23,
   "metadata": {
    "collapsed": true
   },
   "outputs": [
    {
     "name": "stdout",
     "output_type": "stream",
     "text": [
      "Constanzo Rossi\n",
      "Constanzo Rossi: [Constanzo Rossi, He, Giacomo Rossi, He, he, he, he, he, he, he, he, his]\n",
      "Venetian\n",
      "None\n",
      "Venice\n",
      "None\n",
      "1583\n",
      "None\n",
      "Giacomo Rossi\n",
      "Constanzo Rossi: [Constanzo Rossi, He, Giacomo Rossi, He, he, he, he, he, he, he, he, his]\n",
      "Laura Scrini\n",
      "None\n",
      "Navy\n",
      "None\n",
      "1809\n",
      "None\n",
      "the age of 21\n",
      "None\n",
      "the Mediterranean Expedition\n",
      "None\n",
      "the War of the Austrian Succession\n",
      "None\n",
      "1811\n",
      "None\n",
      "the Academy of Science of Berlin\n",
      "None\n",
      "1813\n",
      "None\n",
      "Sonntag\n",
      "None\n",
      "1814\n",
      "None\n",
      "the scientific advisory council of the Elector Institute\n",
      "None\n",
      "1816\n",
      "None\n",
      "the University of Vienna\n",
      "None\n",
      "1818\n",
      "None\n",
      "a Fellow of the Royal Society\n",
      "None\n",
      "London\n",
      "London: [London, London]\n",
      "1822\n",
      "None\n",
      "the Royal Society\n",
      "the Royal Society in London: [the Royal Society in London, the Royal Society, the Royal Society in Edinburgh, the Royal Society of London]\n",
      "Edinburgh\n",
      "None\n",
      "1824\n",
      "None\n",
      "the Royal Society of London\n",
      "the Royal Society in London: [the Royal Society in London, the Royal Society, the Royal Society in Edinburgh, the Royal Society of London]\n",
      "1810\n",
      "None\n",
      "Marino\n",
      "None\n",
      "first\n",
      "None\n",
      "Arnold Hayez\n",
      "None\n",
      "Friedrich Wilhelm Lechner\n",
      "Friedrich Wilhelm Lechner: [Friedrich Wilhelm Lechner, He, he, He, his, he, he, his]\n",
      "one\n",
      "None\n",
      "1812\n",
      "None\n",
      "the University of Vienna\n",
      "None\n",
      "the American Academy of Arts and Sciences\n",
      "None\n",
      "Aldo Manuzio\n",
      "None\n",
      "Claudio Monteverdi\n",
      "None\n",
      "Francesco Hayez\n",
      "None\n",
      "Eugenio Laforio\n",
      "None\n",
      "Monchetto Lotrini\n",
      "None\n",
      "Francesco Hayez\n",
      "None\n",
      "1820\n",
      "None\n",
      "a Fellow of the Royal Society of London\n",
      "None\n",
      "1824\n",
      "None\n",
      "Marino\n",
      "None\n",
      "first\n",
      "None\n",
      "Arnold Hayez\n",
      "None\n",
      "Friedrich Wilhelm Lechner\n",
      "Friedrich Wilhelm Lechner: [Friedrich Wilhelm Lechner, He, he, He, his, his, he, His, his, he, his]\n",
      "one\n",
      "None\n",
      "1812\n",
      "None\n",
      "the \"Royal Society of London\n",
      "None\n",
      "the American Academy of Arts and Sciences\n",
      "None\n",
      "Louis Lammi\n",
      "None\n",
      "Ulrich Wilhelm\n",
      "None\n",
      "Franz Josef von Hippel\n",
      "None\n",
      "1821\n",
      "None\n",
      "Ferrarese\n",
      "None\n",
      "the Villa Cappello\n",
      "the Villa Cappello: [the Villa Cappello, the Villa Cappello]\n",
      "1822\n",
      "None\n",
      "Belgravia\n",
      "None\n",
      "the Congress of Paris\n",
      "None\n",
      "1824 to 1829\n",
      "None\n",
      "French\n",
      "None\n",
      "the Diagonal Hall\n",
      "None\n",
      "1824\n",
      "None\n",
      "the Palazzo Pisani\n",
      "the Palazzo Pisani: [the Palazzo Pisani, the Villa Pisani]\n",
      "two\n",
      "None\n",
      "the Villa Cappello\n",
      "the Villa Cappello: [the Villa Cappello, the Villa Cappello]\n",
      "Venice\n",
      "None\n",
      "1826\n",
      "None\n",
      "Giacomo\n",
      "None\n",
      "Palazzo Pisani Contini\n",
      "Palazzo Pisani Contini: [Palazzo Pisani Contini, The Palazzo Pisani Contini, Palazzo Pisani Contini]\n",
      "Villa Cappello\n",
      "the Villa Cappello (1822): [the Villa Cappello (1822), Villa Cappello]\n",
      "Roma\n",
      "None\n",
      "two\n",
      "None\n",
      "the Caballato Palazzo\n",
      "None\n",
      "1828\n",
      "None\n",
      "the Pisani Palace\n",
      "None\n",
      "1829\n",
      "None\n",
      "Neo-Rappadonnae\n",
      "None\n",
      "Tuscan\n",
      "None\n",
      "three\n",
      "None\n",
      "1829\n",
      "None\n",
      "Palazzo Pisani Palazzo Pisani Contini\n",
      "None\n",
      "1829\n",
      "None\n",
      "Palazzo Pisani Contini\n",
      "Palazzo Pisani Contini: [Palazzo Pisani Contini, The Palazzo Pisani Contini, Palazzo Pisani Contini]\n",
      "Rovigo\n",
      "None\n",
      "two\n",
      "None\n",
      "1819\n",
      "None\n",
      "Palazzo Pisani\n",
      "Palazzo Pisani: [Palazzo Pisani, The Caballato Palazzo]\n",
      "Bologna\n",
      "None\n",
      "two\n",
      "None\n",
      "the Villa Pisani\n",
      "the Palazzo Pisani: [the Palazzo Pisani, the Villa Pisani]\n",
      "the Palazzo Pisani da Bucharest\n",
      "None\n",
      "The Caballato Palazzo\n",
      "Palazzo Pisani: [Palazzo Pisani, The Caballato Palazzo]\n",
      "Caballero Antonio III\n",
      "None\n",
      "Venetian\n",
      "None\n",
      "three\n",
      "None\n",
      "Baroque\n",
      "None\n",
      "Neoclassical\n",
      "None\n",
      "Paolo Veronese\n",
      "None\n",
      "Conza Spengler\n",
      "None\n",
      "Giuseppe\n",
      "None\n"
     ]
    }
   ],
   "source": [
    "for ent in example_doc.ents:\n",
    "    print(ent)\n",
    "    print(ent._.coref_cluster)"
   ]
  },
  {
   "cell_type": "code",
   "execution_count": 197,
   "metadata": {
    "scrolled": true
   },
   "outputs": [
    {
     "ename": "ImportError",
     "evalue": "cannot import name 'YEAR' from 'spacy.symbols' (/Users/andrealphonse/anaconda/envs/fdhenv/lib/python3.8/site-packages/spacy/symbols.cpython-38-darwin.so)",
     "output_type": "error",
     "traceback": [
      "\u001b[0;31m---------------------------------------------------------------------------\u001b[0m",
      "\u001b[0;31mImportError\u001b[0m                               Traceback (most recent call last)",
      "\u001b[0;32m<ipython-input-197-fff2498aa8dd>\u001b[0m in \u001b[0;36m<module>\u001b[0;34m\u001b[0m\n\u001b[1;32m      1\u001b[0m \u001b[0;32mimport\u001b[0m \u001b[0mspacy\u001b[0m\u001b[0;34m\u001b[0m\u001b[0;34m\u001b[0m\u001b[0m\n\u001b[0;32m----> 2\u001b[0;31m \u001b[0;32mfrom\u001b[0m \u001b[0mspacy\u001b[0m\u001b[0;34m.\u001b[0m\u001b[0msymbols\u001b[0m \u001b[0;32mimport\u001b[0m \u001b[0mnsubj\u001b[0m\u001b[0;34m,\u001b[0m \u001b[0mVERB\u001b[0m\u001b[0;34m,\u001b[0m \u001b[0mdobj\u001b[0m\u001b[0;34m,\u001b[0m \u001b[0mYEAR\u001b[0m\u001b[0;34m\u001b[0m\u001b[0;34m\u001b[0m\u001b[0m\n\u001b[0m\u001b[1;32m      3\u001b[0m \u001b[0;34m\u001b[0m\u001b[0m\n\u001b[1;32m      4\u001b[0m \u001b[0mnlp\u001b[0m \u001b[0;34m=\u001b[0m \u001b[0mspacy\u001b[0m\u001b[0;34m.\u001b[0m\u001b[0mload\u001b[0m\u001b[0;34m(\u001b[0m\u001b[0;34m\"en_core_web_sm\"\u001b[0m\u001b[0;34m)\u001b[0m\u001b[0;34m\u001b[0m\u001b[0;34m\u001b[0m\u001b[0m\n\u001b[1;32m      5\u001b[0m \u001b[0mdoc\u001b[0m \u001b[0;34m=\u001b[0m \u001b[0mnlp\u001b[0m\u001b[0;34m(\u001b[0m\u001b[0mimportant_sentences_og\u001b[0m\u001b[0;34m[\u001b[0m\u001b[0;36m1\u001b[0m\u001b[0;34m]\u001b[0m\u001b[0;34m[\u001b[0m\u001b[0;36m1\u001b[0m\u001b[0;34m]\u001b[0m\u001b[0;34m[\u001b[0m\u001b[0;36m0\u001b[0m\u001b[0;34m]\u001b[0m\u001b[0;34m)\u001b[0m\u001b[0;34m\u001b[0m\u001b[0;34m\u001b[0m\u001b[0m\n",
      "\u001b[0;31mImportError\u001b[0m: cannot import name 'YEAR' from 'spacy.symbols' (/Users/andrealphonse/anaconda/envs/fdhenv/lib/python3.8/site-packages/spacy/symbols.cpython-38-darwin.so)"
     ]
    }
   ],
   "source": [
    "import spacy\n",
    "from spacy.symbols import nsubj, VERB, dobj\n",
    "\n",
    "nlp = spacy.load(\"en_core_web_sm\")\n",
    "doc = nlp(important_sentences_og[1][1][0])\n",
    "print(important_sentences_og[1][1][0])\n",
    "# Finding a verb with a subject from below — good\n",
    "verbs = set()\n",
    "for possible_subject in doc:\n",
    "#     print('subj ' + str(possible_subject))\n",
    "#     print('head ' + str(possible_subject.head))\n",
    "    print(possible_subject.dep, possible_subject.head.pos)\n",
    "    if possible_subject.head.pos == VERB:#possible_subject.dep == nsubj and :\n",
    "        verbs.add(possible_subject.head)\n",
    "print(verbs)"
   ]
  }
 ],
 "metadata": {
  "kernelspec": {
   "display_name": "Python [conda env:fdhenv]",
   "language": "python",
   "name": "conda-env-fdhenv-py"
  },
  "language_info": {
   "codemirror_mode": {
    "name": "ipython",
    "version": 3
   },
   "file_extension": ".py",
   "mimetype": "text/x-python",
   "name": "python",
   "nbconvert_exporter": "python",
   "pygments_lexer": "ipython3",
   "version": "3.8.5"
  }
 },
 "nbformat": 4,
 "nbformat_minor": 4
}
