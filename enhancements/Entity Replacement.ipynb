{
 "cells": [
  {
   "cell_type": "code",
   "execution_count": 3,
   "metadata": {},
   "outputs": [],
   "source": [
    "import pandas as pd\n",
    "from math import isnan"
   ]
  },
  {
   "cell_type": "code",
   "execution_count": 13,
   "metadata": {},
   "outputs": [],
   "source": [
    "#get historical figures\n",
    "historical_figures_train = pd.read_csv('historical_figures/train1.csv')\n",
    "historical_figures_test = pd.read_csv('historical_figures/test.csv')\n",
    "historical_figures = pd.concat([historical_figures_train, historical_figures_test], axis=0)"
   ]
  },
  {
   "cell_type": "code",
   "execution_count": 14,
   "metadata": {},
   "outputs": [
    {
     "data": {
      "text/html": [
       "<div>\n",
       "<style scoped>\n",
       "    .dataframe tbody tr th:only-of-type {\n",
       "        vertical-align: middle;\n",
       "    }\n",
       "\n",
       "    .dataframe tbody tr th {\n",
       "        vertical-align: top;\n",
       "    }\n",
       "\n",
       "    .dataframe thead th {\n",
       "        text-align: right;\n",
       "    }\n",
       "</style>\n",
       "<table border=\"1\" class=\"dataframe\">\n",
       "  <thead>\n",
       "    <tr style=\"text-align: right;\">\n",
       "      <th></th>\n",
       "      <th>id</th>\n",
       "      <th>id.1</th>\n",
       "      <th>full_name</th>\n",
       "      <th>sex</th>\n",
       "      <th>birth_year</th>\n",
       "      <th>city</th>\n",
       "      <th>state</th>\n",
       "      <th>country</th>\n",
       "      <th>continent</th>\n",
       "      <th>latitude</th>\n",
       "      <th>longitude</th>\n",
       "      <th>occupation</th>\n",
       "      <th>industry</th>\n",
       "      <th>domain</th>\n",
       "      <th>article_languages</th>\n",
       "      <th>page_views</th>\n",
       "      <th>average_views</th>\n",
       "      <th>historical_popularity_index</th>\n",
       "    </tr>\n",
       "  </thead>\n",
       "  <tbody>\n",
       "    <tr>\n",
       "      <th>0</th>\n",
       "      <td>4110</td>\n",
       "      <td>3728</td>\n",
       "      <td>Gao Xingjian</td>\n",
       "      <td>Male</td>\n",
       "      <td>1940</td>\n",
       "      <td>Ganzhou</td>\n",
       "      <td>NaN</td>\n",
       "      <td>China</td>\n",
       "      <td>Asia</td>\n",
       "      <td>25.86667</td>\n",
       "      <td>114.93333</td>\n",
       "      <td>Writer</td>\n",
       "      <td>Language</td>\n",
       "      <td>Humanities</td>\n",
       "      <td>63</td>\n",
       "      <td>1439340</td>\n",
       "      <td>22847</td>\n",
       "      <td>24.1041</td>\n",
       "    </tr>\n",
       "    <tr>\n",
       "      <th>1</th>\n",
       "      <td>8160</td>\n",
       "      <td>3769</td>\n",
       "      <td>Wassily Leontief</td>\n",
       "      <td>Male</td>\n",
       "      <td>1905</td>\n",
       "      <td>Munich</td>\n",
       "      <td>NaN</td>\n",
       "      <td>Germany</td>\n",
       "      <td>Europe</td>\n",
       "      <td>48.13333</td>\n",
       "      <td>11.56667</td>\n",
       "      <td>Economist</td>\n",
       "      <td>Social Sciences</td>\n",
       "      <td>Science &amp; Technology</td>\n",
       "      <td>43</td>\n",
       "      <td>621949</td>\n",
       "      <td>14464</td>\n",
       "      <td>24.0845</td>\n",
       "    </tr>\n",
       "    <tr>\n",
       "      <th>2</th>\n",
       "      <td>4927</td>\n",
       "      <td>1777</td>\n",
       "      <td>Justus von Liebig</td>\n",
       "      <td>Male</td>\n",
       "      <td>1803</td>\n",
       "      <td>Darmstadt</td>\n",
       "      <td>NaN</td>\n",
       "      <td>Germany</td>\n",
       "      <td>Europe</td>\n",
       "      <td>49.86667</td>\n",
       "      <td>8.65000</td>\n",
       "      <td>Chemist</td>\n",
       "      <td>Natural Sciences</td>\n",
       "      <td>Science &amp; Technology</td>\n",
       "      <td>44</td>\n",
       "      <td>1277543</td>\n",
       "      <td>29035</td>\n",
       "      <td>25.3021</td>\n",
       "    </tr>\n",
       "    <tr>\n",
       "      <th>3</th>\n",
       "      <td>3031</td>\n",
       "      <td>5856</td>\n",
       "      <td>William Stanley Jevons</td>\n",
       "      <td>Male</td>\n",
       "      <td>1835</td>\n",
       "      <td>Liverpool</td>\n",
       "      <td>NaN</td>\n",
       "      <td>United Kingdom</td>\n",
       "      <td>Europe</td>\n",
       "      <td>53.40000</td>\n",
       "      <td>-3.00000</td>\n",
       "      <td>Economist</td>\n",
       "      <td>Social Sciences</td>\n",
       "      <td>Science &amp; Technology</td>\n",
       "      <td>27</td>\n",
       "      <td>556636</td>\n",
       "      <td>20616</td>\n",
       "      <td>22.9292</td>\n",
       "    </tr>\n",
       "    <tr>\n",
       "      <th>4</th>\n",
       "      <td>7267</td>\n",
       "      <td>58</td>\n",
       "      <td>Thomas Aquinas</td>\n",
       "      <td>Male</td>\n",
       "      <td>1225</td>\n",
       "      <td>Roccasecca</td>\n",
       "      <td>NaN</td>\n",
       "      <td>Italy</td>\n",
       "      <td>Europe</td>\n",
       "      <td>41.55000</td>\n",
       "      <td>13.66667</td>\n",
       "      <td>Philosopher</td>\n",
       "      <td>Philosophy</td>\n",
       "      <td>Humanities</td>\n",
       "      <td>103</td>\n",
       "      <td>17427900</td>\n",
       "      <td>169203</td>\n",
       "      <td>29.4352</td>\n",
       "    </tr>\n",
       "  </tbody>\n",
       "</table>\n",
       "</div>"
      ],
      "text/plain": [
       "     id  id.1               full_name   sex birth_year        city state  \\\n",
       "0  4110  3728            Gao Xingjian  Male       1940     Ganzhou   NaN   \n",
       "1  8160  3769        Wassily Leontief  Male       1905      Munich   NaN   \n",
       "2  4927  1777       Justus von Liebig  Male       1803   Darmstadt   NaN   \n",
       "3  3031  5856  William Stanley Jevons  Male       1835   Liverpool   NaN   \n",
       "4  7267    58          Thomas Aquinas  Male       1225  Roccasecca   NaN   \n",
       "\n",
       "          country continent  latitude  longitude   occupation  \\\n",
       "0           China      Asia  25.86667  114.93333       Writer   \n",
       "1         Germany    Europe  48.13333   11.56667    Economist   \n",
       "2         Germany    Europe  49.86667    8.65000      Chemist   \n",
       "3  United Kingdom    Europe  53.40000   -3.00000    Economist   \n",
       "4           Italy    Europe  41.55000   13.66667  Philosopher   \n",
       "\n",
       "           industry                domain  article_languages  page_views  \\\n",
       "0          Language            Humanities                 63     1439340   \n",
       "1   Social Sciences  Science & Technology                 43      621949   \n",
       "2  Natural Sciences  Science & Technology                 44     1277543   \n",
       "3   Social Sciences  Science & Technology                 27      556636   \n",
       "4        Philosophy            Humanities                103    17427900   \n",
       "\n",
       "   average_views  historical_popularity_index  \n",
       "0          22847                      24.1041  \n",
       "1          14464                      24.0845  \n",
       "2          29035                      25.3021  \n",
       "3          20616                      22.9292  \n",
       "4         169203                      29.4352  "
      ]
     },
     "execution_count": 14,
     "metadata": {},
     "output_type": "execute_result"
    }
   ],
   "source": [
    "historical_figures.head()"
   ]
  },
  {
   "cell_type": "code",
   "execution_count": 15,
   "metadata": {},
   "outputs": [
    {
     "data": {
      "text/plain": [
       "Index(['id', 'id.1', 'full_name', 'sex', 'birth_year', 'city', 'state',\n",
       "       'country', 'continent', 'latitude', 'longitude', 'occupation',\n",
       "       'industry', 'domain', 'article_languages', 'page_views',\n",
       "       'average_views', 'historical_popularity_index'],\n",
       "      dtype='object')"
      ]
     },
     "execution_count": 15,
     "metadata": {},
     "output_type": "execute_result"
    }
   ],
   "source": [
    "historical_figures.columns"
   ]
  },
  {
   "cell_type": "code",
   "execution_count": 105,
   "metadata": {},
   "outputs": [],
   "source": [
    "historical_figures = historical_figures[historical_figures['birth_year'] != 'Unknown']\n",
    "historical_figures['birth_year'] = historical_figures['birth_year'].apply(lambda i: str(i).replace('?', ''))"
   ]
  },
  {
   "cell_type": "code",
   "execution_count": 4,
   "metadata": {},
   "outputs": [
    {
     "data": {
      "text/html": [
       "<div>\n",
       "<style scoped>\n",
       "    .dataframe tbody tr th:only-of-type {\n",
       "        vertical-align: middle;\n",
       "    }\n",
       "\n",
       "    .dataframe tbody tr th {\n",
       "        vertical-align: top;\n",
       "    }\n",
       "\n",
       "    .dataframe thead th {\n",
       "        text-align: right;\n",
       "    }\n",
       "</style>\n",
       "<table border=\"1\" class=\"dataframe\">\n",
       "  <thead>\n",
       "    <tr style=\"text-align: right;\">\n",
       "      <th></th>\n",
       "      <th>bio</th>\n",
       "    </tr>\n",
       "  </thead>\n",
       "  <tbody>\n",
       "    <tr>\n",
       "      <th>0</th>\n",
       "      <td>Constanzo Rossi was a Venetian Engineer. [SEP]...</td>\n",
       "    </tr>\n",
       "    <tr>\n",
       "      <th>1</th>\n",
       "      <td>Umberto Rizzo was a Venetian Forester. [SEP]  ...</td>\n",
       "    </tr>\n",
       "    <tr>\n",
       "      <th>2</th>\n",
       "      <td>Adriano Rossi was a Venetian Moneylender. [SEP...</td>\n",
       "    </tr>\n",
       "    <tr>\n",
       "      <th>3</th>\n",
       "      <td>Adamo Bianchi was a Venetian Pardoner. [SEP]  ...</td>\n",
       "    </tr>\n",
       "    <tr>\n",
       "      <th>4</th>\n",
       "      <td>Massimo Giordano was a Venetian Artist. [SEP] ...</td>\n",
       "    </tr>\n",
       "  </tbody>\n",
       "</table>\n",
       "</div>"
      ],
      "text/plain": [
       "                                                 bio\n",
       "0  Constanzo Rossi was a Venetian Engineer. [SEP]...\n",
       "1  Umberto Rizzo was a Venetian Forester. [SEP]  ...\n",
       "2  Adriano Rossi was a Venetian Moneylender. [SEP...\n",
       "3  Adamo Bianchi was a Venetian Pardoner. [SEP]  ...\n",
       "4  Massimo Giordano was a Venetian Artist. [SEP] ..."
      ]
     },
     "execution_count": 4,
     "metadata": {},
     "output_type": "execute_result"
    }
   ],
   "source": [
    "# get fake bios\n",
    "fake_data_path = '../epfl_server/fakes.csv'\n",
    "fakes_df = pd.read_csv(fake_data_path, sep='|')\n",
    "fakes_df.columns = ['bio']\n",
    "fakes_df.head()"
   ]
  },
  {
   "cell_type": "code",
   "execution_count": 18,
   "metadata": {},
   "outputs": [],
   "source": [
    "example = fakes_df['bio'][0]"
   ]
  },
  {
   "cell_type": "code",
   "execution_count": 21,
   "metadata": {
    "scrolled": true
   },
   "outputs": [
    {
     "name": "stdout",
     "output_type": "stream",
     "text": [
      "Constanzo Rossi 0 15 PERSON\n",
      "Giacomo Rossi 84 97 PERSON\n",
      "Laura Scrini 102 114 PERSON\n",
      "Sonntag 457 464 PERSON\n",
      "Marino 898 904 PERSON\n",
      "Arnold Hayez 1325 1337 PERSON\n",
      "Friedrich Wilhelm Lechner 1342 1367 PERSON\n",
      "Aldo Manuzio 1602 1614 PERSON\n",
      "Claudio Monteverdi 1616 1634 PERSON\n",
      "Francesco Hayez 1636 1651 PERSON\n",
      "Eugenio Laforio 1653 1668 PERSON\n",
      "Monchetto Lotrini 1670 1687 PERSON\n",
      "Francesco Hayez 1693 1708 PERSON\n",
      "Marino 1808 1814 PERSON\n",
      "Arnold Hayez 2234 2246 PERSON\n",
      "Friedrich Wilhelm Lechner 2251 2276 PERSON\n",
      "Louis Lammi 2505 2516 PERSON\n",
      "Ulrich Wilhelm 2518 2532 PERSON\n",
      "Franz Josef von Hippel 2537 2559 PERSON\n",
      "Giacomo 3274 3281 PERSON\n",
      "Palazzo Pisani Contini 3674 3696 PERSON\n",
      "the Villa Pisani 3816 3832 PERSON\n",
      "Caballero Antonio III 3975 3996 PERSON\n",
      "Paolo Veronese 4145 4159 PERSON\n",
      "Giuseppe 4232 4240 PERSON\n"
     ]
    }
   ],
   "source": [
    "nlp = spacy.load('en')\n",
    "# neuralcoref.add_to_pipe(nlp)\n",
    "example_doc = nlp(example)\n",
    "people = []\n",
    "for ent in example_doc.ents:\n",
    "    if ent.label_ == 'PERSON':\n",
    "        people.append(ent)\n",
    "        print(ent.text, ent.start_char, ent.end_char, ent.label_)"
   ]
  },
  {
   "cell_type": "code",
   "execution_count": 91,
   "metadata": {},
   "outputs": [],
   "source": [
    "import re\n",
    "years = []\n",
    "for ent in example_doc.ents:\n",
    "    if ent.label_ == 'DATE':\n",
    "        years.append(ent)\n",
    "years = [re.findall(r'\\d{4}', i.text) for i in years]\n",
    "years = [int(item) for sublist in years for item in sublist]\n",
    "maximum = max(years) - 20\n",
    "minimum = min(years)"
   ]
  },
  {
   "cell_type": "code",
   "execution_count": 109,
   "metadata": {
    "scrolled": true
   },
   "outputs": [
    {
     "name": "stdout",
     "output_type": "stream",
     "text": [
      "        id  id.1       full_name   sex birth_year    city state country  \\\n",
      "2146  4400   810  Paolo Veronese  Male       1528  Verona   NaN   Italy   \n",
      "\n",
      "     continent  latitude  longitude occupation   industry domain  \\\n",
      "2146    Europe  45.43333   10.98333    Painter  Fine Arts   Arts   \n",
      "\n",
      "      article_languages  page_views  average_views  \\\n",
      "2146                 51     1682900          32998   \n",
      "\n",
      "      historical_popularity_index  \n",
      "2146                      26.3141  \n"
     ]
    }
   ],
   "source": [
    "people_rep = {}\n",
    "for person in people:\n",
    "    if person.text in historical_figures['full_name'].values:\n",
    "#         print(historical_figures[historical_figures['full_name'] == person.text])\n",
    "        \n",
    "        person_info = historical_figures[historical_figures['full_name'] == person.text]\n",
    "        \n",
    "        birth_year = int(person_info['birth_year'].values[0])\n",
    "        \n",
    "        if(birth_year > maximum or birth_year < minimum):\n",
    "        \n",
    "            historical_figures_era = historical_figures[historical_figures['birth_year'].astype(int) > minimum]\n",
    "            historical_figures_era = historical_figures_era[historical_figures_era['birth_year'].astype(int) < maximum] \n",
    "\n",
    "            continent = person_info['continent'].values[0]\n",
    "            country = person_info['country'].values[0]\n",
    "            state = person_info['state'].values[0]\n",
    "            city =  person_info['city'].values[0]\n",
    "\n",
    "            occupation = person_info['occupation'].values[0]\n",
    "            industry = person_info['industry'].values[0]\n",
    "            domain = person_info['domain'].values[0]\n",
    "\n",
    "            if isinstance(city, str):\n",
    "                df_geo = historical_figures_era[historical_figures_era['city'] == city]\n",
    "            elif isinstance(state, str):\n",
    "                df_geo = historical_figures_era[historical_figures_era['state'] == state]\n",
    "            elif isinstance(country, str):\n",
    "                df_geo = historical_figures_era[historical_figures_era['country'] == country]\n",
    "            elif isinstance(continent, str):\n",
    "                df_geo = historical_figures_era[historical_figures_era['continent'] == continent]\n",
    "            else:\n",
    "                df_geo = historical_figures\n",
    "\n",
    "            df_occu = pd.DataFrame()\n",
    "            if isinstance(occupation, str):\n",
    "                df_occu = df_geo[df_geo['occupation'] == occupation]\n",
    "            if df_occu.empty:\n",
    "                if isinstance(industry, str):\n",
    "                    df_occu = df_geo[df_geo['industry'] == industry]\n",
    "            if df_occu.empty:\n",
    "                if isinstance(domain, str):\n",
    "                    df_occu = df_geo[df_geo['domain'] == domain]\n",
    "            if df_occu.empty:\n",
    "                df_occu = df_geo\n",
    "            if not df_occu.empty:\n",
    "                people_rep.update({person: df_occu['full_name'].values[0]})\n",
    "            else:\n",
    "                people_rep.update({person: person.text})"
   ]
  },
  {
   "cell_type": "code",
   "execution_count": 115,
   "metadata": {},
   "outputs": [
    {
     "data": {
      "text/plain": [
       "{Paolo Veronese: 'Giuseppe Torelli'}"
      ]
     },
     "execution_count": 115,
     "metadata": {},
     "output_type": "execute_result"
    }
   ],
   "source": [
    "people_rep"
   ]
  },
  {
   "cell_type": "code",
   "execution_count": 154,
   "metadata": {},
   "outputs": [],
   "source": [
    "def get_person_replacement(person, person_info, minimum, maximum):\n",
    "    \"\"\"\n",
    "    function to get the replacement of a person that does not fit in a biography\n",
    "    Args:\n",
    "    person - the Spacy token or Span object for the person to be replaced\n",
    "    person_info - the information asssociated to the person as found in the historical figures dataset\n",
    "    minimum - the minimum date in the biography\n",
    "    maximum - the maximum date in the biography (taken as max date - 20)\n",
    "    Rets:\n",
    "    ret - a dictionnary containing the Spacy object as a key and its replacement as a string \n",
    "    \"\"\"\n",
    "    historical_figures_era = historical_figures[historical_figures['birth_year'].astype(int) > minimum]\n",
    "    historical_figures_era = historical_figures_era[historical_figures_era['birth_year'].astype(int) < maximum] \n",
    "\n",
    "    continent = person_info['continent'].values[0]\n",
    "    country = person_info['country'].values[0]\n",
    "    state = person_info['state'].values[0]\n",
    "    city =  person_info['city'].values[0]\n",
    "\n",
    "    occupation = person_info['occupation'].values[0]\n",
    "    industry = person_info['industry'].values[0]\n",
    "    domain = person_info['domain'].values[0]\n",
    "\n",
    "    if isinstance(city, str):\n",
    "        df_geo = historical_figures_era[historical_figures_era['city'] == city]\n",
    "    elif isinstance(state, str):\n",
    "        df_geo = historical_figures_era[historical_figures_era['state'] == state]\n",
    "    elif isinstance(country, str):\n",
    "        df_geo = historical_figures_era[historical_figures_era['country'] == country]\n",
    "    elif isinstance(continent, str):\n",
    "        df_geo = historical_figures_era[historical_figures_era['continent'] == continent]\n",
    "    else:\n",
    "        df_geo = historical_figures\n",
    "\n",
    "    df_occu = pd.DataFrame()\n",
    "    if isinstance(occupation, str):\n",
    "        df_occu = df_geo[df_geo['occupation'] == occupation]\n",
    "    if df_occu.empty:\n",
    "        if isinstance(industry, str):\n",
    "            df_occu = df_geo[df_geo['industry'] == industry]\n",
    "    if df_occu.empty:\n",
    "        if isinstance(domain, str):\n",
    "            df_occu = df_geo[df_geo['domain'] == domain]\n",
    "    if df_occu.empty:\n",
    "        df_occu = df_geo\n",
    "    if not df_occu.empty:\n",
    "        ret = {person: df_occu['full_name'].values[0]}\n",
    "    else:\n",
    "        ret = {person: person.text}\n",
    "    return ret"
   ]
  },
  {
   "cell_type": "code",
   "execution_count": 155,
   "metadata": {},
   "outputs": [],
   "source": [
    "def get_people_replacement(bio):\n",
    "    \"\"\"\n",
    "    function to get the replacement of people that are in a biography\n",
    "    Args:\n",
    "    bio - the biography\n",
    "    Rets:\n",
    "    people_rep - a dictionnary containing the Spacy objects as a keys and their replacements as a strings\n",
    "    \"\"\"\n",
    "    nlp = spacy.load('en')\n",
    "    bio_doc = nlp(bio)\n",
    "    people = []\n",
    "    for ent in bio_doc.ents:\n",
    "        if ent.label_ == 'PERSON':\n",
    "            people.append(ent)\n",
    "    years = []\n",
    "    for ent in bio_doc.ents:\n",
    "        if ent.label_ == 'DATE':\n",
    "            years.append(ent)\n",
    "    years = [re.findall(r'\\d{4}', i.text) for i in years]\n",
    "    years = [int(item) for sublist in years for item in sublist]\n",
    "    if years == [] or people == []:\n",
    "        return {}\n",
    "    maximum = max(years) - 20\n",
    "    minimum = min(years)\n",
    "    people_rep = {}\n",
    "    for person in people:\n",
    "        if person.text in historical_figures['full_name'].values:\n",
    "            person_info = historical_figures[historical_figures['full_name'] == person.text]\n",
    "            birth_year = int(person_info['birth_year'].values[0])\n",
    "            if(birth_year > maximum or birth_year < minimum):\n",
    "                people_rep.update(get_person_replacement(person, person_info, minimum, maximum))\n",
    "    return people_rep"
   ]
  },
  {
   "cell_type": "code",
   "execution_count": 160,
   "metadata": {},
   "outputs": [],
   "source": [
    "def replace_people(bio):\n",
    "    \"\"\"\n",
    "    function to adjust entities in a biography so that they fit in the time period\n",
    "    Args:\n",
    "    bio - the biography\n",
    "    Rets:\n",
    "    new_bio - the enhanced biography\n",
    "    \"\"\"\n",
    "    people_rep = get_people_replacement(bio)\n",
    "    new_bio = bio\n",
    "    for key, value in people_rep.items():\n",
    "        new_bio = new_bio.replace(key.text, value)\n",
    "    return new_bio"
   ]
  },
  {
   "cell_type": "code",
   "execution_count": 161,
   "metadata": {},
   "outputs": [
    {
     "data": {
      "text/plain": [
       "'Costantino Ferrari was a Venetian Politician. [SEP]    The son of the influential Venetian family of the Ferrari, Inc., he was a member of the Venetian College of Bishops. He was the brother of Domenico Ferrari, who was a Cardinal. The family of the founder of the family owned the most important property on the Brixen peninsula, which at that time housed the remains of many famous Renaissance artists, including Michelangelo, the father of Gregorio Ferrari, the master of the workshop of Hieronymus Bosch, and the founder of the Fine Arts Academy of Mantua, the same year as Domenico. He was a member of the powerful Council of Ten in the late 13th century and held several high office positions including Bailo of Navigajaro, bailo of Bergamo, bailo of Bologna, bailo of Parma, and bailo of Urbino. He was Chancellor to the Doge of Venice from 1224 to 1230. In his many subsequent posts he was bailo of numerous other states. During his tenure as bailo of Venice, he oversaw a dramatic expansion of the Venetian navy, which had been a distant memory in the history of the republic. In 1282 he was bailo of Ferrara, who at that time were stationed at Parma, Udine, Bologna, and Memmo. In his role as bailo of Bologna, he secured important commercial agreements with the states of the Venetian Archipelago. In particular, he concluded a complex commercial agreement with the Byzantine emperor John IV Laskaris for the construction of a new fortress at Dalmatia called Byzantium. In 1283 he was bailedo of Piacenza, who at that time were stationed at Chiron, Piacenza. He led a major Venetian crusade against the Byzantine Empire in 1281. During his tenure as bailo of Piacenza, he oversaw a significant expansion of the university system at Padua. In 1283, Venice was admitted to the  Collegio Romano, a prestigious academic setting. The university system at Padua was one of the most important intellectual environments of the time.    During his tenure as bailo of Piacenza, Domenico Ferrari strengthened the ties with Rome through a complex marriage of the patrician republic with the Byzantine Empire. Between 1282 and 1283 he was Chancellor to the Doge of Venice. In this capacity he coordinated the relations between the Florence Renaissance and the Byzantine Emperors, who also lived near Piacenza. Florence and Byzantium were considered rival cultural centers, so the alliances were often made with them. Domenico Ferrari worked to further the unity of the Venetian church and monastic communities. This was accomplished through various policies, such as the creation of the Venetian Inquisition, the creation of the Patriarchate of Aquilea, the reformation of the ecclesiastical laws and the creation of the Camaldolese order. In 1293 he was created bailo of Ferrara. In this capacity he oversaw the construction of the new basilica of St. Peter on the island of Murano. The basilica had been commissioned by Ferrarese architect Paolo Lazzari. The basilica had been partially completed by 1292 and was ready for the beginning of the Second Atonement in 1295. The basilica was an important element in the relations between the Byzantine Empire and the Vatican, as it housed the remains of the church of St. George and the church of Saint Mark. The emperor transferred the burial place of Christ to this church.Domenico Ferrari died in 1297.   '"
      ]
     },
     "execution_count": 161,
     "metadata": {},
     "output_type": "execute_result"
    }
   ],
   "source": [
    "replace_people(fakes_df['bio'][51])"
   ]
  },
  {
   "cell_type": "code",
   "execution_count": 139,
   "metadata": {},
   "outputs": [
    {
     "data": {
      "text/plain": [
       "{}"
      ]
     },
     "execution_count": 139,
     "metadata": {},
     "output_type": "execute_result"
    }
   ],
   "source": [
    "replace_people(example)"
   ]
  },
  {
   "cell_type": "code",
   "execution_count": 150,
   "metadata": {
    "scrolled": true
   },
   "outputs": [
    {
     "name": "stdout",
     "output_type": "stream",
     "text": [
      "0 {Paolo Veronese: 'Giuseppe Torelli'}\n",
      "1 {}\n",
      "2 {}\n",
      "3 {}\n",
      "4 {}\n",
      "5 {}\n",
      "6 {}\n",
      "7 {}\n",
      "8 {}\n",
      "9 {}\n",
      "10 {}\n",
      "11 {}\n",
      "12 {}\n",
      "13 {}\n",
      "14 {Andrea Mantegna: 'Andrea Mantegna', Andrea Mantegna: 'Andrea Mantegna', Giovanni Bellini: 'Tintoretto', Giovanni Battista Tiepolo: 'Tintoretto'}\n",
      "15 {}\n",
      "16 {}\n",
      "17 {}\n",
      "18 {}\n",
      "19 {Mary: 'Mary'}\n",
      "20 {Andrea Mantegna: 'Andrea Mantegna'}\n",
      "21 {}\n",
      "22 {}\n",
      "23 {}\n",
      "24 {}\n",
      "25 {}\n",
      "26 {Moses: 'Moses'}\n",
      "27 {}\n",
      "28 {}\n",
      "29 {}\n",
      "30 {}\n",
      "31 {}\n",
      "32 {}\n",
      "33 {}\n",
      "34 {Andrea Mantegna: 'Andrea Mantegna'}\n",
      "35 {}\n",
      "36 {}\n",
      "37 {}\n",
      "38 {}\n",
      "39 {}\n",
      "40 {}\n",
      "41 {}\n",
      "42 {}\n",
      "43 {}\n",
      "44 {}\n",
      "45 {Andrea Mantegna: 'Andrea Mantegna', Solomon: 'Solomon'}\n",
      "46 {}\n",
      "47 {}\n",
      "48 {}\n",
      "49 {}\n",
      "50 {}\n",
      "51 {Michelangelo: 'Michelangelo', Basil II: 'John IV Laskaris'}\n",
      "52 {}\n",
      "53 {}\n",
      "54 {}\n",
      "55 {Ludovico Ariosto: 'Ludovico Ariosto'}\n",
      "56 {}\n",
      "57 {}\n",
      "58 {}\n",
      "59 {}\n",
      "60 {Raphael: 'Raphael'}\n",
      "61 {Vincenzo Scamozzi: 'Vincenzo Scamozzi'}\n",
      "62 {}\n",
      "63 {Paolo Veronese: 'Cesare Lombroso'}\n",
      "64 {}\n",
      "65 {}\n",
      "66 {}\n",
      "67 {}\n",
      "68 {}\n",
      "69 {Giovanni Bellini: 'Andrea Gabrieli', Giovanni Bellini: 'Andrea Gabrieli'}\n",
      "70 {}\n",
      "71 {}\n",
      "72 {Giovanni Battista Tiepolo: 'Giovanni Battista Tiepolo'}\n",
      "73 {}\n",
      "74 {}\n",
      "75 {}\n",
      "76 {}\n",
      "77 {Marco Polo: 'Marco Polo'}\n",
      "78 {}\n",
      "79 {}\n",
      "80 {}\n",
      "81 {}\n",
      "82 {}\n",
      "83 {}\n",
      "84 {}\n",
      "85 {}\n",
      "86 {}\n",
      "87 {}\n",
      "88 {}\n",
      "89 {Andrea Palladio: 'Andrea Palladio'}\n",
      "90 {}\n",
      "91 {}\n",
      "92 {}\n",
      "93 {}\n",
      "94 {}\n",
      "95 {}\n"
     ]
    }
   ],
   "source": [
    "for i in range(len(fakes_df['bio'])):\n",
    "    print(i, replace_people(fakes_df['bio'][i]))"
   ]
  },
  {
   "cell_type": "code",
   "execution_count": 151,
   "metadata": {
    "scrolled": true
   },
   "outputs": [
    {
     "data": {
      "text/plain": [
       "'Costantino Ferrari was a Venetian Politician. [SEP]    The son of the influential Venetian family of the Ferrari, Inc., he was a member of the Venetian College of Bishops. He was the brother of Domenico Ferrari, who was a Cardinal. The family of the founder of the family owned the most important property on the Brixen peninsula, which at that time housed the remains of many famous Renaissance artists, including Michelangelo, the father of Gregorio Ferrari, the master of the workshop of Hieronymus Bosch, and the founder of the Fine Arts Academy of Mantua, the same year as Domenico. He was a member of the powerful Council of Ten in the late 13th century and held several high office positions including Bailo of Navigajaro, bailo of Bergamo, bailo of Bologna, bailo of Parma, and bailo of Urbino. He was Chancellor to the Doge of Venice from 1224 to 1230. In his many subsequent posts he was bailo of numerous other states. During his tenure as bailo of Venice, he oversaw a dramatic expansion of the Venetian navy, which had been a distant memory in the history of the republic. In 1282 he was bailo of Ferrara, who at that time were stationed at Parma, Udine, Bologna, and Memmo. In his role as bailo of Bologna, he secured important commercial agreements with the states of the Venetian Archipelago. In particular, he concluded a complex commercial agreement with the Byzantine emperor Basil II for the construction of a new fortress at Dalmatia called Byzantium. In 1283 he was bailedo of Piacenza, who at that time were stationed at Chiron, Piacenza. He led a major Venetian crusade against the Byzantine Empire in 1281. During his tenure as bailo of Piacenza, he oversaw a significant expansion of the university system at Padua. In 1283, Venice was admitted to the  Collegio Romano, a prestigious academic setting. The university system at Padua was one of the most important intellectual environments of the time.    During his tenure as bailo of Piacenza, Domenico Ferrari strengthened the ties with Rome through a complex marriage of the patrician republic with the Byzantine Empire. Between 1282 and 1283 he was Chancellor to the Doge of Venice. In this capacity he coordinated the relations between the Florence Renaissance and the Byzantine Emperors, who also lived near Piacenza. Florence and Byzantium were considered rival cultural centers, so the alliances were often made with them. Domenico Ferrari worked to further the unity of the Venetian church and monastic communities. This was accomplished through various policies, such as the creation of the Venetian Inquisition, the creation of the Patriarchate of Aquilea, the reformation of the ecclesiastical laws and the creation of the Camaldolese order. In 1293 he was created bailo of Ferrara. In this capacity he oversaw the construction of the new basilica of St. Peter on the island of Murano. The basilica had been commissioned by Ferrarese architect Paolo Lazzari. The basilica had been partially completed by 1292 and was ready for the beginning of the Second Atonement in 1295. The basilica was an important element in the relations between the Byzantine Empire and the Vatican, as it housed the remains of the church of St. George and the church of Saint Mark. The emperor transferred the burial place of Christ to this church.Domenico Ferrari died in 1297.   '"
      ]
     },
     "execution_count": 151,
     "metadata": {},
     "output_type": "execute_result"
    }
   ],
   "source": [
    "fakes_df['bio'][51]"
   ]
  }
 ],
 "metadata": {
  "kernelspec": {
   "display_name": "Python [conda env:fdhenv]",
   "language": "python",
   "name": "conda-env-fdhenv-py"
  },
  "language_info": {
   "codemirror_mode": {
    "name": "ipython",
    "version": 3
   },
   "file_extension": ".py",
   "mimetype": "text/x-python",
   "name": "python",
   "nbconvert_exporter": "python",
   "pygments_lexer": "ipython3",
   "version": "3.8.5"
  }
 },
 "nbformat": 4,
 "nbformat_minor": 4
}
