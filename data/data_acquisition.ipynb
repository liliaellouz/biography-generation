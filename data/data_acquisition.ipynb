{
 "cells": [
  {
   "cell_type": "code",
   "execution_count": 2,
   "metadata": {},
   "outputs": [],
   "source": [
    "import wikipediaapi\n",
    "import pandas as pd\n",
    "import wikipedia\n",
    "wikipedia.set_lang('en') # setting wikipedia language\n",
    "# from nltk.tokenize import word_tokenize\n",
    "import sys\n",
    "from time import sleep\n",
    "import re\n",
    "import regex"
   ]
  },
  {
   "cell_type": "markdown",
   "metadata": {},
   "source": [
    "## Data acquisition"
   ]
  },
  {
   "cell_type": "code",
   "execution_count": 6,
   "metadata": {},
   "outputs": [],
   "source": [
    "def fetch_category_members(category_members, level=0, max_level=1):\n",
    "        \"\"\"\n",
    "        Function to take all articles in category (max_level controls the depth of articles taken from the subcategories)\n",
    "        Arguments:\n",
    "        category_members - a list of category members\n",
    "        level - the level at which to start getting articles\n",
    "        max_level - the maximal level for the fetched articles\n",
    "        Returns:\n",
    "        article_names - a list of the desired article names\n",
    "        \"\"\"\n",
    "        article_names = []\n",
    "        for c in category_members.values():\n",
    "            if c.ns == 0:\n",
    "                article_names.append(c) \n",
    "                #print(\"%s: %s (ns: %d)\" % (\"*\" * (level + 1), c.title, c.ns))\n",
    "            elif level < max_level and c.ns == wikipediaapi.Namespace.CATEGORY:\n",
    "                sub_list = []\n",
    "                sub_list = fetch_category_members(c.categorymembers, level=level + 1, max_level=max_level)\n",
    "                article_names = article_names + sub_list\n",
    "        return article_names"
   ]
  },
  {
   "cell_type": "code",
   "execution_count": 7,
   "metadata": {},
   "outputs": [],
   "source": [
    "def get_words(article_names):\n",
    "        \"\"\"\n",
    "        Function that tokenizes and returns all words in the given list of articles \n",
    "        Arguments:\n",
    "        article_names - list of articles\n",
    "        Returns:\n",
    "        words_df - the words in the articles in a dataframe\n",
    "        \"\"\"\n",
    "        len_time = len(article_names)*0.05\n",
    "        words_df = pd.DataFrame(columns=['biography'])\n",
    "        for i in range(len(article_names)):\n",
    "            try:\n",
    "                page = wikipedia.page(article_names[i].title)\n",
    "            except wikipedia.DisambiguationError as e:\n",
    "                s = e.options\n",
    "                s = list(filter(lambda x : x != \"\", s))\n",
    "                try :\n",
    "                    page = wikipedia.page(s)\n",
    "                except wikipedia.DisambiguationError as e:\n",
    "                    pass\n",
    "            except wikipedia.PageError:\n",
    "                pass\n",
    "#             words = word_tokenize(page.content)\n",
    "#             words = [elem.lower() for elem in words]\n",
    "#             words = [elem for elem in words if len(elem) > 1 and elem.isdigit() == False]\n",
    "#             words_wostop = [x for x in words if x not in stop_words]\n",
    "#             words = [elem.lower() for elem in words]\n",
    "            words_df.loc[i] = [page.content]\n",
    "            sys.stdout.write('\\r')\n",
    "            sys.stdout.write(\"[%-20s] %d%%\" % ('='*int((i+1)/len_time), int(5*(i+1)/len_time)))\n",
    "            sys.stdout.flush()\n",
    "            sleep(0.25)\n",
    "        return words_df"
   ]
  },
  {
   "cell_type": "code",
   "execution_count": 9,
   "metadata": {},
   "outputs": [],
   "source": [
    "wiki_wiki = wikipediaapi.Wikipedia('en') # getting articles in english\n",
    "# fetching the articles for categories of interest\n",
    "people_pages = wiki_wiki.page(\"Category:People from Venice\")\n",
    "people_articles = fetch_category_members(people_pages.categorymembers, level = 0, max_level = 7)"
   ]
  },
  {
   "cell_type": "code",
   "execution_count": 10,
   "metadata": {
    "scrolled": true
   },
   "outputs": [
    {
     "name": "stdout",
     "output_type": "stream",
     "text": [
      "[=                   ] 9%"
     ]
    },
    {
     "name": "stderr",
     "output_type": "stream",
     "text": [
      "C:\\Users\\lilia\\.conda\\envs\\ntds_2019\\lib\\site-packages\\wikipedia\\wikipedia.py:389: UserWarning: No parser was explicitly specified, so I'm using the best available HTML parser for this system (\"html.parser\"). This usually isn't a problem, but if you run this code on another system, or in a different virtual environment, it may use a different parser and behave differently.\n",
      "\n",
      "The code that caused this warning is on line 389 of the file C:\\Users\\lilia\\.conda\\envs\\ntds_2019\\lib\\site-packages\\wikipedia\\wikipedia.py. To get rid of this warning, pass the additional argument 'features=\"html.parser\"' to the BeautifulSoup constructor.\n",
      "\n",
      "  lis = BeautifulSoup(html).find_all('li')\n"
     ]
    },
    {
     "name": "stdout",
     "output_type": "stream",
     "text": [
      "[====================] 100%"
     ]
    }
   ],
   "source": [
    "venetian_biographies = get_words(people_articles)"
   ]
  },
  {
   "cell_type": "code",
   "execution_count": 15,
   "metadata": {},
   "outputs": [
    {
     "data": {
      "text/html": [
       "<div>\n",
       "<style scoped>\n",
       "    .dataframe tbody tr th:only-of-type {\n",
       "        vertical-align: middle;\n",
       "    }\n",
       "\n",
       "    .dataframe tbody tr th {\n",
       "        vertical-align: top;\n",
       "    }\n",
       "\n",
       "    .dataframe thead th {\n",
       "        text-align: right;\n",
       "    }\n",
       "</style>\n",
       "<table border=\"1\" class=\"dataframe\">\n",
       "  <thead>\n",
       "    <tr style=\"text-align: right;\">\n",
       "      <th></th>\n",
       "      <th>biography</th>\n",
       "    </tr>\n",
       "  </thead>\n",
       "  <tbody>\n",
       "    <tr>\n",
       "      <td>0</td>\n",
       "      <td>The Mayor of Venice is an elected politician w...</td>\n",
       "    </tr>\n",
       "    <tr>\n",
       "      <td>1</td>\n",
       "      <td>Rabbi Samuel ben Abraham Aboab (Hebrew: רבי שמ...</td>\n",
       "    </tr>\n",
       "    <tr>\n",
       "      <td>2</td>\n",
       "      <td>Afrob (born Robert Zemichiel on August 1, 1977...</td>\n",
       "    </tr>\n",
       "    <tr>\n",
       "      <td>3</td>\n",
       "      <td>Giovanni Battista Agnello (fl. 1560–1577) was ...</td>\n",
       "    </tr>\n",
       "    <tr>\n",
       "      <td>4</td>\n",
       "      <td>Domenico Alberti (c. 1710 – 14 October 1740 or...</td>\n",
       "    </tr>\n",
       "    <tr>\n",
       "      <td>...</td>\n",
       "      <td>...</td>\n",
       "    </tr>\n",
       "    <tr>\n",
       "      <td>5394</td>\n",
       "      <td>Villa Pisani at Stra refers to the monumental,...</td>\n",
       "    </tr>\n",
       "    <tr>\n",
       "      <td>5395</td>\n",
       "      <td>The Sagredo were an aristocratic Venetian fami...</td>\n",
       "    </tr>\n",
       "    <tr>\n",
       "      <td>5396</td>\n",
       "      <td>Caterina Sagredo Barbarigo (14 July 1715 – 11 ...</td>\n",
       "    </tr>\n",
       "    <tr>\n",
       "      <td>5397</td>\n",
       "      <td>Giovanni Francesco Sagredo (1571– 5 March 1620...</td>\n",
       "    </tr>\n",
       "    <tr>\n",
       "      <td>5398</td>\n",
       "      <td>Nicolò Sagredo (8 December 1606 – 14 August 16...</td>\n",
       "    </tr>\n",
       "  </tbody>\n",
       "</table>\n",
       "<p>5399 rows × 1 columns</p>\n",
       "</div>"
      ],
      "text/plain": [
       "                                              biography\n",
       "0     The Mayor of Venice is an elected politician w...\n",
       "1     Rabbi Samuel ben Abraham Aboab (Hebrew: רבי שמ...\n",
       "2     Afrob (born Robert Zemichiel on August 1, 1977...\n",
       "3     Giovanni Battista Agnello (fl. 1560–1577) was ...\n",
       "4     Domenico Alberti (c. 1710 – 14 October 1740 or...\n",
       "...                                                 ...\n",
       "5394  Villa Pisani at Stra refers to the monumental,...\n",
       "5395  The Sagredo were an aristocratic Venetian fami...\n",
       "5396  Caterina Sagredo Barbarigo (14 July 1715 – 11 ...\n",
       "5397  Giovanni Francesco Sagredo (1571– 5 March 1620...\n",
       "5398  Nicolò Sagredo (8 December 1606 – 14 August 16...\n",
       "\n",
       "[5399 rows x 1 columns]"
      ]
     },
     "execution_count": 15,
     "metadata": {},
     "output_type": "execute_result"
    }
   ],
   "source": [
    "venetian_biographies"
   ]
  },
  {
   "cell_type": "markdown",
   "metadata": {},
   "source": [
    "## Cleaning"
   ]
  },
  {
   "cell_type": "code",
   "execution_count": 47,
   "metadata": {},
   "outputs": [],
   "source": [
    "venetian_biographies = venetian_biographies.drop_duplicates().reset_index(drop=True)"
   ]
  },
  {
   "cell_type": "code",
   "execution_count": 49,
   "metadata": {},
   "outputs": [],
   "source": [
    "# Remove anything between equal signs like \"== Overview ==\"\n",
    "# Remove anything between <> signs\n",
    "venetian_biographies = venetian_biographies.biography.str.replace(\"<(.*?)>|=+ (.*?) =+\",\"\").to_frame()"
   ]
  },
  {
   "cell_type": "code",
   "execution_count": 51,
   "metadata": {},
   "outputs": [],
   "source": [
    "# compression_opts = dict(method='zip',\n",
    "#                         archive_name='venetian_bios.csv')  \n",
    "# venetian_biographies.to_csv('venetian_bios.csv', index=False) "
   ]
  },
  {
   "cell_type": "code",
   "execution_count": 272,
   "metadata": {},
   "outputs": [],
   "source": [
    "# venetian_biographies = pd.read_csv('venetian_bios.csv')"
   ]
  },
  {
   "cell_type": "code",
   "execution_count": 269,
   "metadata": {},
   "outputs": [],
   "source": [
    "def insert_sep(s):\n",
    "    s = regex.sub(r'[^(\\p{Common}|\\p{Latin})]', u'', s)\n",
    "    s = s+\"end.\"\n",
    "    s = s.replace(\"\\n\",\" \")\n",
    "    i = s.index(re.findall(r\"\\w{2,}?\\.(?!(?:[^(]*\\([^)]*\\))*[^()]*\\))\", s)[0])\n",
    "    return s[:i] + s[i:-4].replace(\" \", \" [SEP] \", 1)"
   ]
  },
  {
   "cell_type": "code",
   "execution_count": 273,
   "metadata": {},
   "outputs": [],
   "source": [
    "df = venetian_biographies.biography.apply(insert_sep)"
   ]
  },
  {
   "cell_type": "code",
   "execution_count": 280,
   "metadata": {},
   "outputs": [
    {
     "name": "stderr",
     "output_type": "stream",
     "text": [
      "C:\\Users\\lilia\\.conda\\envs\\ntds_2019\\lib\\site-packages\\ipykernel_launcher.py:1: FutureWarning: The signature of `Series.to_csv` was aligned to that of `DataFrame.to_csv`, and argument 'header' will change its default value from False to True: please pass an explicit value to suppress this warning.\n",
      "  \"\"\"Entry point for launching an IPython kernel.\n"
     ]
    }
   ],
   "source": [
    "df.to_csv('venetian_bios_2.csv', index=False) "
   ]
  }
 ],
 "metadata": {
  "kernelspec": {
   "display_name": "Python 3",
   "language": "python",
   "name": "python3"
  },
  "language_info": {
   "codemirror_mode": {
    "name": "ipython",
    "version": 3
   },
   "file_extension": ".py",
   "mimetype": "text/x-python",
   "name": "python",
   "nbconvert_exporter": "python",
   "pygments_lexer": "ipython3",
   "version": "3.7.3"
  }
 },
 "nbformat": 4,
 "nbformat_minor": 2
}
